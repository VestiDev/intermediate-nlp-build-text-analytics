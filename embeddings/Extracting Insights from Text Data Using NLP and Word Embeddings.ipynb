{
  "nbformat": 4,
  "nbformat_minor": 0,
  "metadata": {
    "colab": {
      "name": "Embeddings.ipynb",
      "provenance": [],
      "collapsed_sections": [],
      "toc_visible": true,
      "authorship_tag": "ABX9TyMxZy9yfl0FJjJ+2cgeSA6+",
      "include_colab_link": true
    },
    "kernelspec": {
      "name": "python3",
      "display_name": "Python 3"
    }
  },
  "cells": [
    {
      "cell_type": "markdown",
      "metadata": {
        "id": "view-in-github",
        "colab_type": "text"
      },
      "source": [
        "<a href=\"https://colab.research.google.com/github/mjahanshahi/intermediate-nlp/blob/master/embeddings/Extracting%20Insights%20from%20Text%20Data%20Using%20NLP%20and%20Word%20Embeddings.ipynb\" target=\"_parent\"><img src=\"https://colab.research.google.com/assets/colab-badge.svg\" alt=\"Open In Colab\"/></a>"
      ]
    },
    {
      "cell_type": "markdown",
      "metadata": {
        "id": "b6036oQiGUuD"
      },
      "source": [
        "# Embeddings"
      ]
    },
    {
      "cell_type": "markdown",
      "metadata": {
        "id": "WXboBrcXoBnV"
      },
      "source": [
        "## Generating Embeddings"
      ]
    },
    {
      "cell_type": "markdown",
      "metadata": {
        "id": "LAuvdyTToDX9"
      },
      "source": [
        "### Preprocessing the Corpus"
      ]
    },
    {
      "cell_type": "code",
      "metadata": {
        "id": "OkohIKmWWUaR"
      },
      "source": [
        "import gensim \n",
        "from gensim.test.utils import datapath\n",
        "import pandas as pd\n",
        "import numpy as np\n",
        "import matplotlib.pyplot as plt\n",
        "import logging\n",
        "logging.basicConfig(level=logging.INFO)"
      ],
      "execution_count": 587,
      "outputs": []
    },
    {
      "cell_type": "code",
      "metadata": {
        "colab": {
          "base_uri": "https://localhost:8080/"
        },
        "id": "XqMT0HgtWZ-M",
        "outputId": "5631f566-bc22-4dee-e105-5d497fa31bf7"
      },
      "source": [
        "DATASET_LINK = \"https://raw.githubusercontent.com/AFAgarap/ecommerce-reviews-analysis/master/Womens%20Clothing%20E-Commerce%20Reviews.csv\"\n",
        "df = pd.read_csv(DATASET_LINK, index_col = 0, usecols=[\"Clothing ID\", \"Title\", \"Review Text\", \"Rating\"])\n",
        "df.shape"
      ],
      "execution_count": 588,
      "outputs": [
        {
          "output_type": "execute_result",
          "data": {
            "text/plain": [
              "(23486, 3)"
            ]
          },
          "metadata": {
            "tags": []
          },
          "execution_count": 588
        }
      ]
    },
    {
      "cell_type": "code",
      "metadata": {
        "colab": {
          "base_uri": "https://localhost:8080/",
          "height": 204
        },
        "id": "WEQbYF1MXz_U",
        "outputId": "21869605-70db-4a08-dc17-3cfcf6aec850"
      },
      "source": [
        "df.head()"
      ],
      "execution_count": 591,
      "outputs": [
        {
          "output_type": "execute_result",
          "data": {
            "text/html": [
              "<div>\n",
              "<style scoped>\n",
              "    .dataframe tbody tr th:only-of-type {\n",
              "        vertical-align: middle;\n",
              "    }\n",
              "\n",
              "    .dataframe tbody tr th {\n",
              "        vertical-align: top;\n",
              "    }\n",
              "\n",
              "    .dataframe thead th {\n",
              "        text-align: right;\n",
              "    }\n",
              "</style>\n",
              "<table border=\"1\" class=\"dataframe\">\n",
              "  <thead>\n",
              "    <tr style=\"text-align: right;\">\n",
              "      <th></th>\n",
              "      <th>Title</th>\n",
              "      <th>Review Text</th>\n",
              "      <th>Rating</th>\n",
              "    </tr>\n",
              "  </thead>\n",
              "  <tbody>\n",
              "    <tr>\n",
              "      <th>0</th>\n",
              "      <td>Some major design flaws</td>\n",
              "      <td>I had such high hopes for this dress and reall...</td>\n",
              "      <td>3</td>\n",
              "    </tr>\n",
              "    <tr>\n",
              "      <th>1</th>\n",
              "      <td>My favorite buy!</td>\n",
              "      <td>I love, love, love this jumpsuit. it's fun, fl...</td>\n",
              "      <td>5</td>\n",
              "    </tr>\n",
              "    <tr>\n",
              "      <th>2</th>\n",
              "      <td>Flattering shirt</td>\n",
              "      <td>This shirt is very flattering to all due to th...</td>\n",
              "      <td>5</td>\n",
              "    </tr>\n",
              "    <tr>\n",
              "      <th>3</th>\n",
              "      <td>Not for the very petite</td>\n",
              "      <td>I love tracy reese dresses, but this one is no...</td>\n",
              "      <td>2</td>\n",
              "    </tr>\n",
              "    <tr>\n",
              "      <th>4</th>\n",
              "      <td>Cagrcoal shimmer fun</td>\n",
              "      <td>I aded this in my basket at hte last mintue to...</td>\n",
              "      <td>5</td>\n",
              "    </tr>\n",
              "  </tbody>\n",
              "</table>\n",
              "</div>"
            ],
            "text/plain": [
              "                     Title  ... Rating\n",
              "0  Some major design flaws  ...      3\n",
              "1         My favorite buy!  ...      5\n",
              "2         Flattering shirt  ...      5\n",
              "3  Not for the very petite  ...      2\n",
              "4     Cagrcoal shimmer fun  ...      5\n",
              "\n",
              "[5 rows x 3 columns]"
            ]
          },
          "metadata": {
            "tags": []
          },
          "execution_count": 591
        }
      ]
    },
    {
      "cell_type": "code",
      "metadata": {
        "colab": {
          "base_uri": "https://localhost:8080/"
        },
        "id": "q0gnlPcgYI5s",
        "outputId": "7981d31d-1ce9-42bf-c905-24cca5d3182b"
      },
      "source": [
        "# Lets remove any review without a text review or a rating\n",
        "df.dropna(how = \"any\", subset=['Title', 'Review Text', 'Rating'], inplace=True)\n",
        "df.reset_index(drop=True, inplace=True)\n",
        "df.shape"
      ],
      "execution_count": 590,
      "outputs": [
        {
          "output_type": "execute_result",
          "data": {
            "text/plain": [
              "(19675, 3)"
            ]
          },
          "metadata": {
            "tags": []
          },
          "execution_count": 590
        }
      ]
    },
    {
      "cell_type": "code",
      "metadata": {
        "id": "xXN8MjIrZ1Fs"
      },
      "source": [
        "def preprocess_corpus(corpus):\n",
        "  for i, document in enumerate(corpus):\n",
        "    if (i % 10000 == 0):\n",
        "      logging.info(\"Read {0} Docs\".format(i))\n",
        "    yield gensim.utils.tokenize(document, lowercase=True, deacc=True)"
      ],
      "execution_count": 592,
      "outputs": []
    },
    {
      "cell_type": "code",
      "metadata": {
        "colab": {
          "base_uri": "https://localhost:8080/"
        },
        "id": "6HW1bxkHbQ5L",
        "outputId": "394265f0-67bf-452f-f895-f593813dcb63"
      },
      "source": [
        "tokenized_docs = list(preprocess_docs(df[\"Review Text\"]))"
      ],
      "execution_count": 627,
      "outputs": [
        {
          "output_type": "stream",
          "text": [
            "INFO:root:Read 0 Reviews\n",
            "INFO:root:Read 10000 Reviews\n"
          ],
          "name": "stderr"
        }
      ]
    },
    {
      "cell_type": "markdown",
      "metadata": {
        "id": "YfphviyJnaal"
      },
      "source": [
        "### Training Two Word Embeddings Models"
      ]
    },
    {
      "cell_type": "code",
      "metadata": {
        "colab": {
          "base_uri": "https://localhost:8080/"
        },
        "id": "Qx6uP__eoxGN",
        "outputId": "7b47c66e-e46a-470d-f317-a33327effaef"
      },
      "source": [
        "\n",
        "model_50d = gensim.models.Word2Vec(tokenized_docs, size=50, min_count = 5, workers=4, sg=1)\n",
        "model_50d.train(tokenized_docs, total_examples=len(tokenized_docs), epochs=10)\n",
        "\n",
        "model_200d = gensim.models.Word2Vec(tokenized_docs, size=200, min_count = 5, workers=4, sg=1)\n",
        "model_200d.train(tokenized_docs, total_examples=len(tokenized_docs), epochs=10)"
      ],
      "execution_count": 628,
      "outputs": [
        {
          "output_type": "stream",
          "text": [
            "INFO:gensim.models.word2vec:collecting all words and their counts\n",
            "INFO:gensim.models.word2vec:PROGRESS: at sentence #0, processed 0 words, keeping 0 word types\n",
            "INFO:gensim.models.word2vec:PROGRESS: at sentence #10000, processed 558962 words, keeping 9727 word types\n",
            "INFO:gensim.models.word2vec:collected 13027 word types from a corpus of 1108396 raw words and 19675 sentences\n",
            "INFO:gensim.models.word2vec:Loading a fresh vocabulary\n",
            "INFO:gensim.models.word2vec:effective_min_count=5 retains 4567 unique words (35% of original 13027, drops 8460)\n",
            "INFO:gensim.models.word2vec:effective_min_count=5 leaves 1094854 word corpus (98% of original 1108396, drops 13542)\n",
            "INFO:gensim.models.word2vec:deleting the raw counts dictionary of 13027 items\n",
            "INFO:gensim.models.word2vec:sample=0.001 downsamples 60 most-common words\n",
            "INFO:gensim.models.word2vec:downsampling leaves estimated 766434 word corpus (70.0% of prior 1094854)\n",
            "INFO:gensim.models.base_any2vec:estimated required memory for 4567 words and 200 dimensions: 9590700 bytes\n",
            "INFO:gensim.models.word2vec:resetting layer weights\n",
            "INFO:gensim.models.base_any2vec:training model with 4 workers on 4567 vocabulary and 200 features, using sg=1 hs=0 sample=0.001 negative=5 window=5\n",
            "INFO:gensim.models.base_any2vec:EPOCH 1 - PROGRESS: at 19.64% examples, 147855 words/s, in_qsize 7, out_qsize 0\n",
            "INFO:gensim.models.base_any2vec:EPOCH 1 - PROGRESS: at 43.42% examples, 157948 words/s, in_qsize 7, out_qsize 0\n",
            "INFO:gensim.models.base_any2vec:EPOCH 1 - PROGRESS: at 65.92% examples, 161844 words/s, in_qsize 7, out_qsize 0\n",
            "INFO:gensim.models.base_any2vec:EPOCH 1 - PROGRESS: at 87.17% examples, 162573 words/s, in_qsize 7, out_qsize 0\n",
            "INFO:gensim.models.base_any2vec:worker thread finished; awaiting finish of 3 more threads\n",
            "INFO:gensim.models.base_any2vec:worker thread finished; awaiting finish of 2 more threads\n",
            "INFO:gensim.models.base_any2vec:worker thread finished; awaiting finish of 1 more threads\n",
            "INFO:gensim.models.base_any2vec:worker thread finished; awaiting finish of 0 more threads\n",
            "INFO:gensim.models.base_any2vec:EPOCH - 1 : training on 1108396 raw words (766030 effective words) took 4.7s, 163478 effective words/s\n",
            "INFO:gensim.models.base_any2vec:EPOCH 2 - PROGRESS: at 20.48% examples, 158160 words/s, in_qsize 7, out_qsize 0\n",
            "INFO:gensim.models.base_any2vec:EPOCH 2 - PROGRESS: at 41.63% examples, 154334 words/s, in_qsize 7, out_qsize 0\n",
            "INFO:gensim.models.base_any2vec:EPOCH 2 - PROGRESS: at 64.18% examples, 158807 words/s, in_qsize 7, out_qsize 0\n",
            "INFO:gensim.models.base_any2vec:EPOCH 2 - PROGRESS: at 86.32% examples, 159709 words/s, in_qsize 7, out_qsize 0\n",
            "INFO:gensim.models.base_any2vec:worker thread finished; awaiting finish of 3 more threads\n",
            "INFO:gensim.models.base_any2vec:worker thread finished; awaiting finish of 2 more threads\n",
            "INFO:gensim.models.base_any2vec:worker thread finished; awaiting finish of 1 more threads\n",
            "INFO:gensim.models.base_any2vec:worker thread finished; awaiting finish of 0 more threads\n",
            "INFO:gensim.models.base_any2vec:EPOCH - 2 : training on 1108396 raw words (766653 effective words) took 4.7s, 162641 effective words/s\n",
            "INFO:gensim.models.base_any2vec:EPOCH 3 - PROGRESS: at 20.48% examples, 149043 words/s, in_qsize 7, out_qsize 0\n",
            "INFO:gensim.models.base_any2vec:EPOCH 3 - PROGRESS: at 42.57% examples, 154358 words/s, in_qsize 7, out_qsize 0\n",
            "INFO:gensim.models.base_any2vec:EPOCH 3 - PROGRESS: at 65.04% examples, 159415 words/s, in_qsize 7, out_qsize 0\n",
            "INFO:gensim.models.base_any2vec:EPOCH 3 - PROGRESS: at 87.17% examples, 159330 words/s, in_qsize 7, out_qsize 0\n",
            "INFO:gensim.models.base_any2vec:worker thread finished; awaiting finish of 3 more threads\n",
            "INFO:gensim.models.base_any2vec:worker thread finished; awaiting finish of 2 more threads\n",
            "INFO:gensim.models.base_any2vec:worker thread finished; awaiting finish of 1 more threads\n",
            "INFO:gensim.models.base_any2vec:worker thread finished; awaiting finish of 0 more threads\n",
            "INFO:gensim.models.base_any2vec:EPOCH - 3 : training on 1108396 raw words (766122 effective words) took 4.7s, 162156 effective words/s\n",
            "INFO:gensim.models.base_any2vec:EPOCH 4 - PROGRESS: at 20.48% examples, 155681 words/s, in_qsize 7, out_qsize 0\n",
            "INFO:gensim.models.base_any2vec:EPOCH 4 - PROGRESS: at 42.57% examples, 158575 words/s, in_qsize 7, out_qsize 0\n",
            "INFO:gensim.models.base_any2vec:EPOCH 4 - PROGRESS: at 64.18% examples, 160476 words/s, in_qsize 7, out_qsize 0\n",
            "INFO:gensim.models.base_any2vec:EPOCH 4 - PROGRESS: at 85.43% examples, 161537 words/s, in_qsize 7, out_qsize 0\n",
            "INFO:gensim.models.base_any2vec:worker thread finished; awaiting finish of 3 more threads\n",
            "INFO:gensim.models.base_any2vec:worker thread finished; awaiting finish of 2 more threads\n",
            "INFO:gensim.models.base_any2vec:worker thread finished; awaiting finish of 1 more threads\n",
            "INFO:gensim.models.base_any2vec:worker thread finished; awaiting finish of 0 more threads\n",
            "INFO:gensim.models.base_any2vec:EPOCH - 4 : training on 1108396 raw words (766294 effective words) took 4.7s, 162795 effective words/s\n",
            "INFO:gensim.models.base_any2vec:EPOCH 5 - PROGRESS: at 18.77% examples, 144407 words/s, in_qsize 8, out_qsize 0\n",
            "INFO:gensim.models.base_any2vec:EPOCH 5 - PROGRESS: at 41.69% examples, 152964 words/s, in_qsize 7, out_qsize 0\n",
            "INFO:gensim.models.base_any2vec:EPOCH 5 - PROGRESS: at 63.28% examples, 155973 words/s, in_qsize 7, out_qsize 0\n",
            "INFO:gensim.models.base_any2vec:EPOCH 5 - PROGRESS: at 84.54% examples, 157679 words/s, in_qsize 8, out_qsize 0\n",
            "INFO:gensim.models.base_any2vec:worker thread finished; awaiting finish of 3 more threads\n",
            "INFO:gensim.models.base_any2vec:worker thread finished; awaiting finish of 2 more threads\n",
            "INFO:gensim.models.base_any2vec:worker thread finished; awaiting finish of 1 more threads\n",
            "INFO:gensim.models.base_any2vec:worker thread finished; awaiting finish of 0 more threads\n",
            "INFO:gensim.models.base_any2vec:EPOCH - 5 : training on 1108396 raw words (766258 effective words) took 4.8s, 161032 effective words/s\n",
            "INFO:gensim.models.base_any2vec:training on a 5541980 raw words (3831357 effective words) took 23.6s, 162121 effective words/s\n",
            "WARNING:gensim.models.base_any2vec:consider setting layer size to a multiple of 4 for greater performance\n",
            "INFO:gensim.models.word2vec:collecting all words and their counts\n",
            "INFO:gensim.models.word2vec:PROGRESS: at sentence #0, processed 0 words, keeping 0 word types\n",
            "INFO:gensim.models.word2vec:PROGRESS: at sentence #10000, processed 558962 words, keeping 9727 word types\n",
            "INFO:gensim.models.word2vec:collected 13027 word types from a corpus of 1108396 raw words and 19675 sentences\n",
            "INFO:gensim.models.word2vec:Loading a fresh vocabulary\n",
            "INFO:gensim.models.word2vec:effective_min_count=5 retains 4567 unique words (35% of original 13027, drops 8460)\n",
            "INFO:gensim.models.word2vec:effective_min_count=5 leaves 1094854 word corpus (98% of original 1108396, drops 13542)\n",
            "INFO:gensim.models.word2vec:deleting the raw counts dictionary of 13027 items\n",
            "INFO:gensim.models.word2vec:sample=0.001 downsamples 60 most-common words\n",
            "INFO:gensim.models.word2vec:downsampling leaves estimated 766434 word corpus (70.0% of prior 1094854)\n",
            "INFO:gensim.models.base_any2vec:estimated required memory for 4567 words and 50 dimensions: 4110300 bytes\n",
            "INFO:gensim.models.word2vec:resetting layer weights\n",
            "INFO:gensim.models.base_any2vec:training model with 4 workers on 4567 vocabulary and 50 features, using sg=1 hs=0 sample=0.001 negative=5 window=5\n",
            "INFO:gensim.models.base_any2vec:EPOCH 1 - PROGRESS: at 21.39% examples, 163259 words/s, in_qsize 7, out_qsize 0\n",
            "INFO:gensim.models.base_any2vec:EPOCH 1 - PROGRESS: at 44.36% examples, 165965 words/s, in_qsize 7, out_qsize 0\n",
            "INFO:gensim.models.base_any2vec:EPOCH 1 - PROGRESS: at 66.85% examples, 167594 words/s, in_qsize 6, out_qsize 1\n",
            "INFO:gensim.models.base_any2vec:EPOCH 1 - PROGRESS: at 91.75% examples, 169517 words/s, in_qsize 7, out_qsize 0\n",
            "INFO:gensim.models.base_any2vec:worker thread finished; awaiting finish of 3 more threads\n",
            "INFO:gensim.models.base_any2vec:worker thread finished; awaiting finish of 2 more threads\n",
            "INFO:gensim.models.base_any2vec:worker thread finished; awaiting finish of 1 more threads\n",
            "INFO:gensim.models.base_any2vec:worker thread finished; awaiting finish of 0 more threads\n",
            "INFO:gensim.models.base_any2vec:EPOCH - 1 : training on 1108396 raw words (766681 effective words) took 4.4s, 172806 effective words/s\n",
            "INFO:gensim.models.base_any2vec:EPOCH 2 - PROGRESS: at 20.53% examples, 154357 words/s, in_qsize 7, out_qsize 0\n",
            "INFO:gensim.models.base_any2vec:EPOCH 2 - PROGRESS: at 45.26% examples, 165183 words/s, in_qsize 6, out_qsize 1\n",
            "INFO:gensim.models.base_any2vec:EPOCH 2 - PROGRESS: at 68.69% examples, 169526 words/s, in_qsize 7, out_qsize 0\n",
            "INFO:gensim.models.base_any2vec:EPOCH 2 - PROGRESS: at 91.75% examples, 169164 words/s, in_qsize 7, out_qsize 0\n",
            "INFO:gensim.models.base_any2vec:worker thread finished; awaiting finish of 3 more threads\n",
            "INFO:gensim.models.base_any2vec:worker thread finished; awaiting finish of 2 more threads\n",
            "INFO:gensim.models.base_any2vec:worker thread finished; awaiting finish of 1 more threads\n",
            "INFO:gensim.models.base_any2vec:worker thread finished; awaiting finish of 0 more threads\n",
            "INFO:gensim.models.base_any2vec:EPOCH - 2 : training on 1108396 raw words (766533 effective words) took 4.4s, 172572 effective words/s\n",
            "INFO:gensim.models.base_any2vec:EPOCH 3 - PROGRESS: at 22.34% examples, 158896 words/s, in_qsize 7, out_qsize 0\n",
            "INFO:gensim.models.base_any2vec:EPOCH 3 - PROGRESS: at 47.10% examples, 169840 words/s, in_qsize 7, out_qsize 0\n",
            "INFO:gensim.models.base_any2vec:EPOCH 3 - PROGRESS: at 69.61% examples, 169389 words/s, in_qsize 7, out_qsize 0\n",
            "INFO:gensim.models.base_any2vec:EPOCH 3 - PROGRESS: at 91.75% examples, 169712 words/s, in_qsize 7, out_qsize 0\n",
            "INFO:gensim.models.base_any2vec:worker thread finished; awaiting finish of 3 more threads\n",
            "INFO:gensim.models.base_any2vec:worker thread finished; awaiting finish of 2 more threads\n",
            "INFO:gensim.models.base_any2vec:worker thread finished; awaiting finish of 1 more threads\n",
            "INFO:gensim.models.base_any2vec:worker thread finished; awaiting finish of 0 more threads\n",
            "INFO:gensim.models.base_any2vec:EPOCH - 3 : training on 1108396 raw words (766758 effective words) took 4.4s, 173011 effective words/s\n",
            "INFO:gensim.models.base_any2vec:EPOCH 4 - PROGRESS: at 20.48% examples, 157126 words/s, in_qsize 7, out_qsize 0\n",
            "INFO:gensim.models.base_any2vec:EPOCH 4 - PROGRESS: at 45.26% examples, 169216 words/s, in_qsize 7, out_qsize 0\n",
            "INFO:gensim.models.base_any2vec:EPOCH 4 - PROGRESS: at 68.69% examples, 165526 words/s, in_qsize 7, out_qsize 0\n",
            "INFO:gensim.models.base_any2vec:EPOCH 4 - PROGRESS: at 92.67% examples, 170449 words/s, in_qsize 7, out_qsize 0\n",
            "INFO:gensim.models.base_any2vec:worker thread finished; awaiting finish of 3 more threads\n",
            "INFO:gensim.models.base_any2vec:worker thread finished; awaiting finish of 2 more threads\n",
            "INFO:gensim.models.base_any2vec:worker thread finished; awaiting finish of 1 more threads\n",
            "INFO:gensim.models.base_any2vec:worker thread finished; awaiting finish of 0 more threads\n",
            "INFO:gensim.models.base_any2vec:EPOCH - 4 : training on 1108396 raw words (766211 effective words) took 4.5s, 172070 effective words/s\n",
            "INFO:gensim.models.base_any2vec:EPOCH 5 - PROGRESS: at 20.61% examples, 158266 words/s, in_qsize 7, out_qsize 0\n",
            "INFO:gensim.models.base_any2vec:EPOCH 5 - PROGRESS: at 44.36% examples, 166138 words/s, in_qsize 7, out_qsize 0\n",
            "INFO:gensim.models.base_any2vec:EPOCH 5 - PROGRESS: at 69.61% examples, 171363 words/s, in_qsize 7, out_qsize 0\n",
            "INFO:gensim.models.base_any2vec:EPOCH 5 - PROGRESS: at 91.75% examples, 170553 words/s, in_qsize 7, out_qsize 0\n",
            "INFO:gensim.models.base_any2vec:worker thread finished; awaiting finish of 3 more threads\n",
            "INFO:gensim.models.base_any2vec:worker thread finished; awaiting finish of 2 more threads\n",
            "INFO:gensim.models.base_any2vec:worker thread finished; awaiting finish of 1 more threads\n",
            "INFO:gensim.models.base_any2vec:worker thread finished; awaiting finish of 0 more threads\n",
            "INFO:gensim.models.base_any2vec:EPOCH - 5 : training on 1108396 raw words (766503 effective words) took 4.4s, 174628 effective words/s\n",
            "INFO:gensim.models.base_any2vec:training on a 5541980 raw words (3832686 effective words) took 22.2s, 172689 effective words/s\n",
            "WARNING:gensim.models.base_any2vec:Effective 'alpha' higher than previous training cycles\n",
            "INFO:gensim.models.base_any2vec:training model with 4 workers on 4567 vocabulary and 200 features, using sg=1 hs=0 sample=0.001 negative=5 window=5\n",
            "INFO:gensim.models.base_any2vec:EPOCH 1 - PROGRESS: at 19.64% examples, 147616 words/s, in_qsize 7, out_qsize 0\n",
            "INFO:gensim.models.base_any2vec:EPOCH 1 - PROGRESS: at 41.69% examples, 153727 words/s, in_qsize 6, out_qsize 1\n",
            "INFO:gensim.models.base_any2vec:EPOCH 1 - PROGRESS: at 65.04% examples, 157105 words/s, in_qsize 7, out_qsize 0\n",
            "INFO:gensim.models.base_any2vec:EPOCH 1 - PROGRESS: at 88.11% examples, 161747 words/s, in_qsize 7, out_qsize 0\n",
            "INFO:gensim.models.base_any2vec:worker thread finished; awaiting finish of 3 more threads\n",
            "INFO:gensim.models.base_any2vec:worker thread finished; awaiting finish of 2 more threads\n",
            "INFO:gensim.models.base_any2vec:worker thread finished; awaiting finish of 1 more threads\n",
            "INFO:gensim.models.base_any2vec:worker thread finished; awaiting finish of 0 more threads\n",
            "INFO:gensim.models.base_any2vec:EPOCH - 1 : training on 1108396 raw words (766598 effective words) took 4.8s, 161208 effective words/s\n",
            "INFO:gensim.models.base_any2vec:EPOCH 2 - PROGRESS: at 19.64% examples, 144147 words/s, in_qsize 7, out_qsize 0\n",
            "INFO:gensim.models.base_any2vec:EPOCH 2 - PROGRESS: at 42.57% examples, 157527 words/s, in_qsize 7, out_qsize 0\n",
            "INFO:gensim.models.base_any2vec:EPOCH 2 - PROGRESS: at 63.28% examples, 157546 words/s, in_qsize 7, out_qsize 0\n",
            "INFO:gensim.models.base_any2vec:EPOCH 2 - PROGRESS: at 84.54% examples, 159122 words/s, in_qsize 7, out_qsize 0\n",
            "INFO:gensim.models.base_any2vec:worker thread finished; awaiting finish of 3 more threads\n",
            "INFO:gensim.models.base_any2vec:worker thread finished; awaiting finish of 2 more threads\n",
            "INFO:gensim.models.base_any2vec:worker thread finished; awaiting finish of 1 more threads\n",
            "INFO:gensim.models.base_any2vec:worker thread finished; awaiting finish of 0 more threads\n",
            "INFO:gensim.models.base_any2vec:EPOCH - 2 : training on 1108396 raw words (766770 effective words) took 4.7s, 162729 effective words/s\n",
            "INFO:gensim.models.base_any2vec:EPOCH 3 - PROGRESS: at 19.64% examples, 149506 words/s, in_qsize 7, out_qsize 0\n",
            "INFO:gensim.models.base_any2vec:EPOCH 3 - PROGRESS: at 42.57% examples, 155873 words/s, in_qsize 7, out_qsize 0\n",
            "INFO:gensim.models.base_any2vec:EPOCH 3 - PROGRESS: at 64.16% examples, 158748 words/s, in_qsize 7, out_qsize 0\n",
            "INFO:gensim.models.base_any2vec:EPOCH 3 - PROGRESS: at 85.43% examples, 160345 words/s, in_qsize 7, out_qsize 0\n",
            "INFO:gensim.models.base_any2vec:worker thread finished; awaiting finish of 3 more threads\n",
            "INFO:gensim.models.base_any2vec:worker thread finished; awaiting finish of 2 more threads\n",
            "INFO:gensim.models.base_any2vec:worker thread finished; awaiting finish of 1 more threads\n",
            "INFO:gensim.models.base_any2vec:worker thread finished; awaiting finish of 0 more threads\n",
            "INFO:gensim.models.base_any2vec:EPOCH - 3 : training on 1108396 raw words (766962 effective words) took 4.7s, 162169 effective words/s\n",
            "INFO:gensim.models.base_any2vec:EPOCH 4 - PROGRESS: at 19.61% examples, 142991 words/s, in_qsize 7, out_qsize 0\n",
            "INFO:gensim.models.base_any2vec:EPOCH 4 - PROGRESS: at 43.42% examples, 158704 words/s, in_qsize 7, out_qsize 0\n",
            "INFO:gensim.models.base_any2vec:EPOCH 4 - PROGRESS: at 64.18% examples, 157981 words/s, in_qsize 7, out_qsize 0\n",
            "INFO:gensim.models.base_any2vec:EPOCH 4 - PROGRESS: at 85.43% examples, 158939 words/s, in_qsize 7, out_qsize 0\n",
            "INFO:gensim.models.base_any2vec:worker thread finished; awaiting finish of 3 more threads\n",
            "INFO:gensim.models.base_any2vec:worker thread finished; awaiting finish of 2 more threads\n",
            "INFO:gensim.models.base_any2vec:worker thread finished; awaiting finish of 1 more threads\n",
            "INFO:gensim.models.base_any2vec:worker thread finished; awaiting finish of 0 more threads\n",
            "INFO:gensim.models.base_any2vec:EPOCH - 4 : training on 1108396 raw words (766551 effective words) took 4.7s, 161953 effective words/s\n",
            "INFO:gensim.models.base_any2vec:EPOCH 5 - PROGRESS: at 19.64% examples, 150041 words/s, in_qsize 7, out_qsize 0\n",
            "INFO:gensim.models.base_any2vec:EPOCH 5 - PROGRESS: at 41.69% examples, 155999 words/s, in_qsize 7, out_qsize 0\n",
            "INFO:gensim.models.base_any2vec:EPOCH 5 - PROGRESS: at 63.27% examples, 158564 words/s, in_qsize 7, out_qsize 0\n",
            "INFO:gensim.models.base_any2vec:EPOCH 5 - PROGRESS: at 84.54% examples, 159259 words/s, in_qsize 8, out_qsize 1\n",
            "INFO:gensim.models.base_any2vec:worker thread finished; awaiting finish of 3 more threads\n",
            "INFO:gensim.models.base_any2vec:worker thread finished; awaiting finish of 2 more threads\n",
            "INFO:gensim.models.base_any2vec:worker thread finished; awaiting finish of 1 more threads\n",
            "INFO:gensim.models.base_any2vec:worker thread finished; awaiting finish of 0 more threads\n",
            "INFO:gensim.models.base_any2vec:EPOCH - 5 : training on 1108396 raw words (766570 effective words) took 4.7s, 161735 effective words/s\n",
            "INFO:gensim.models.base_any2vec:EPOCH 6 - PROGRESS: at 20.48% examples, 145624 words/s, in_qsize 8, out_qsize 1\n",
            "INFO:gensim.models.base_any2vec:EPOCH 6 - PROGRESS: at 43.42% examples, 156020 words/s, in_qsize 7, out_qsize 0\n",
            "INFO:gensim.models.base_any2vec:EPOCH 6 - PROGRESS: at 65.04% examples, 158347 words/s, in_qsize 7, out_qsize 0\n",
            "INFO:gensim.models.base_any2vec:EPOCH 6 - PROGRESS: at 86.33% examples, 159317 words/s, in_qsize 7, out_qsize 0\n",
            "INFO:gensim.models.base_any2vec:worker thread finished; awaiting finish of 3 more threads\n",
            "INFO:gensim.models.base_any2vec:worker thread finished; awaiting finish of 2 more threads\n",
            "INFO:gensim.models.base_any2vec:worker thread finished; awaiting finish of 1 more threads\n",
            "INFO:gensim.models.base_any2vec:worker thread finished; awaiting finish of 0 more threads\n",
            "INFO:gensim.models.base_any2vec:EPOCH - 6 : training on 1108396 raw words (766259 effective words) took 4.7s, 162013 effective words/s\n",
            "INFO:gensim.models.base_any2vec:EPOCH 7 - PROGRESS: at 19.64% examples, 147196 words/s, in_qsize 7, out_qsize 0\n",
            "INFO:gensim.models.base_any2vec:EPOCH 7 - PROGRESS: at 41.69% examples, 152916 words/s, in_qsize 7, out_qsize 1\n",
            "INFO:gensim.models.base_any2vec:EPOCH 7 - PROGRESS: at 64.18% examples, 156535 words/s, in_qsize 7, out_qsize 0\n",
            "INFO:gensim.models.base_any2vec:EPOCH 7 - PROGRESS: at 85.43% examples, 158404 words/s, in_qsize 7, out_qsize 0\n",
            "INFO:gensim.models.base_any2vec:worker thread finished; awaiting finish of 3 more threads\n",
            "INFO:gensim.models.base_any2vec:worker thread finished; awaiting finish of 2 more threads\n",
            "INFO:gensim.models.base_any2vec:worker thread finished; awaiting finish of 1 more threads\n",
            "INFO:gensim.models.base_any2vec:worker thread finished; awaiting finish of 0 more threads\n",
            "INFO:gensim.models.base_any2vec:EPOCH - 7 : training on 1108396 raw words (766251 effective words) took 4.7s, 161827 effective words/s\n",
            "INFO:gensim.models.base_any2vec:EPOCH 8 - PROGRESS: at 20.48% examples, 156361 words/s, in_qsize 7, out_qsize 0\n",
            "INFO:gensim.models.base_any2vec:EPOCH 8 - PROGRESS: at 41.63% examples, 154558 words/s, in_qsize 8, out_qsize 0\n",
            "INFO:gensim.models.base_any2vec:EPOCH 8 - PROGRESS: at 63.28% examples, 157805 words/s, in_qsize 8, out_qsize 1\n",
            "INFO:gensim.models.base_any2vec:EPOCH 8 - PROGRESS: at 84.54% examples, 159318 words/s, in_qsize 7, out_qsize 0\n",
            "INFO:gensim.models.base_any2vec:worker thread finished; awaiting finish of 3 more threads\n",
            "INFO:gensim.models.base_any2vec:worker thread finished; awaiting finish of 2 more threads\n",
            "INFO:gensim.models.base_any2vec:worker thread finished; awaiting finish of 1 more threads\n",
            "INFO:gensim.models.base_any2vec:worker thread finished; awaiting finish of 0 more threads\n",
            "INFO:gensim.models.base_any2vec:EPOCH - 8 : training on 1108396 raw words (766010 effective words) took 4.7s, 162404 effective words/s\n",
            "INFO:gensim.models.base_any2vec:EPOCH 9 - PROGRESS: at 19.64% examples, 143714 words/s, in_qsize 7, out_qsize 0\n",
            "INFO:gensim.models.base_any2vec:EPOCH 9 - PROGRESS: at 43.51% examples, 159450 words/s, in_qsize 7, out_qsize 0\n",
            "INFO:gensim.models.base_any2vec:EPOCH 9 - PROGRESS: at 65.92% examples, 157260 words/s, in_qsize 8, out_qsize 0\n",
            "INFO:gensim.models.base_any2vec:EPOCH 9 - PROGRESS: at 88.11% examples, 160473 words/s, in_qsize 7, out_qsize 0\n",
            "INFO:gensim.models.base_any2vec:worker thread finished; awaiting finish of 3 more threads\n",
            "INFO:gensim.models.base_any2vec:worker thread finished; awaiting finish of 2 more threads\n",
            "INFO:gensim.models.base_any2vec:worker thread finished; awaiting finish of 1 more threads\n",
            "INFO:gensim.models.base_any2vec:worker thread finished; awaiting finish of 0 more threads\n",
            "INFO:gensim.models.base_any2vec:EPOCH - 9 : training on 1108396 raw words (766936 effective words) took 4.7s, 162529 effective words/s\n",
            "INFO:gensim.models.base_any2vec:EPOCH 10 - PROGRESS: at 19.64% examples, 148321 words/s, in_qsize 7, out_qsize 0\n",
            "INFO:gensim.models.base_any2vec:EPOCH 10 - PROGRESS: at 43.51% examples, 155323 words/s, in_qsize 7, out_qsize 0\n",
            "INFO:gensim.models.base_any2vec:EPOCH 10 - PROGRESS: at 65.99% examples, 157983 words/s, in_qsize 7, out_qsize 0\n",
            "INFO:gensim.models.base_any2vec:EPOCH 10 - PROGRESS: at 88.11% examples, 161083 words/s, in_qsize 7, out_qsize 0\n",
            "INFO:gensim.models.base_any2vec:worker thread finished; awaiting finish of 3 more threads\n",
            "INFO:gensim.models.base_any2vec:worker thread finished; awaiting finish of 2 more threads\n",
            "INFO:gensim.models.base_any2vec:worker thread finished; awaiting finish of 1 more threads\n",
            "INFO:gensim.models.base_any2vec:worker thread finished; awaiting finish of 0 more threads\n",
            "INFO:gensim.models.base_any2vec:EPOCH - 10 : training on 1108396 raw words (766338 effective words) took 4.7s, 163083 effective words/s\n",
            "INFO:gensim.models.base_any2vec:training on a 11083960 raw words (7665245 effective words) took 47.4s, 161879 effective words/s\n",
            "WARNING:gensim.models.base_any2vec:Effective 'alpha' higher than previous training cycles\n",
            "INFO:gensim.models.base_any2vec:training model with 4 workers on 4567 vocabulary and 50 features, using sg=1 hs=0 sample=0.001 negative=5 window=5\n",
            "INFO:gensim.models.base_any2vec:EPOCH 1 - PROGRESS: at 21.37% examples, 161433 words/s, in_qsize 7, out_qsize 0\n",
            "INFO:gensim.models.base_any2vec:EPOCH 1 - PROGRESS: at 45.26% examples, 169185 words/s, in_qsize 7, out_qsize 0\n",
            "INFO:gensim.models.base_any2vec:EPOCH 1 - PROGRESS: at 67.72% examples, 168821 words/s, in_qsize 7, out_qsize 0\n",
            "INFO:gensim.models.base_any2vec:EPOCH 1 - PROGRESS: at 91.75% examples, 171691 words/s, in_qsize 7, out_qsize 0\n",
            "INFO:gensim.models.base_any2vec:worker thread finished; awaiting finish of 3 more threads\n",
            "INFO:gensim.models.base_any2vec:worker thread finished; awaiting finish of 2 more threads\n",
            "INFO:gensim.models.base_any2vec:worker thread finished; awaiting finish of 1 more threads\n",
            "INFO:gensim.models.base_any2vec:worker thread finished; awaiting finish of 0 more threads\n",
            "INFO:gensim.models.base_any2vec:EPOCH - 1 : training on 1108396 raw words (766322 effective words) took 4.4s, 174502 effective words/s\n",
            "INFO:gensim.models.base_any2vec:EPOCH 2 - PROGRESS: at 21.37% examples, 161358 words/s, in_qsize 7, out_qsize 0\n",
            "INFO:gensim.models.base_any2vec:EPOCH 2 - PROGRESS: at 45.26% examples, 164452 words/s, in_qsize 6, out_qsize 1\n",
            "INFO:gensim.models.base_any2vec:EPOCH 2 - PROGRESS: at 68.72% examples, 168114 words/s, in_qsize 7, out_qsize 0\n",
            "INFO:gensim.models.base_any2vec:EPOCH 2 - PROGRESS: at 90.80% examples, 168697 words/s, in_qsize 7, out_qsize 0\n",
            "INFO:gensim.models.base_any2vec:worker thread finished; awaiting finish of 3 more threads\n",
            "INFO:gensim.models.base_any2vec:worker thread finished; awaiting finish of 2 more threads\n",
            "INFO:gensim.models.base_any2vec:worker thread finished; awaiting finish of 1 more threads\n",
            "INFO:gensim.models.base_any2vec:worker thread finished; awaiting finish of 0 more threads\n",
            "INFO:gensim.models.base_any2vec:EPOCH - 2 : training on 1108396 raw words (766542 effective words) took 4.5s, 171569 effective words/s\n",
            "INFO:gensim.models.base_any2vec:EPOCH 3 - PROGRESS: at 22.34% examples, 165649 words/s, in_qsize 7, out_qsize 0\n",
            "INFO:gensim.models.base_any2vec:EPOCH 3 - PROGRESS: at 46.15% examples, 168070 words/s, in_qsize 7, out_qsize 0\n",
            "INFO:gensim.models.base_any2vec:EPOCH 3 - PROGRESS: at 69.61% examples, 170401 words/s, in_qsize 7, out_qsize 0\n",
            "INFO:gensim.models.base_any2vec:EPOCH 3 - PROGRESS: at 93.62% examples, 171805 words/s, in_qsize 7, out_qsize 0\n",
            "INFO:gensim.models.base_any2vec:worker thread finished; awaiting finish of 3 more threads\n",
            "INFO:gensim.models.base_any2vec:worker thread finished; awaiting finish of 2 more threads\n",
            "INFO:gensim.models.base_any2vec:worker thread finished; awaiting finish of 1 more threads\n",
            "INFO:gensim.models.base_any2vec:worker thread finished; awaiting finish of 0 more threads\n",
            "INFO:gensim.models.base_any2vec:EPOCH - 3 : training on 1108396 raw words (766025 effective words) took 4.4s, 174113 effective words/s\n",
            "INFO:gensim.models.base_any2vec:EPOCH 4 - PROGRESS: at 21.37% examples, 162927 words/s, in_qsize 8, out_qsize 0\n",
            "INFO:gensim.models.base_any2vec:EPOCH 4 - PROGRESS: at 45.26% examples, 166796 words/s, in_qsize 7, out_qsize 0\n",
            "INFO:gensim.models.base_any2vec:EPOCH 4 - PROGRESS: at 68.69% examples, 169885 words/s, in_qsize 6, out_qsize 1\n",
            "INFO:gensim.models.base_any2vec:EPOCH 4 - PROGRESS: at 92.67% examples, 171092 words/s, in_qsize 7, out_qsize 0\n",
            "INFO:gensim.models.base_any2vec:worker thread finished; awaiting finish of 3 more threads\n",
            "INFO:gensim.models.base_any2vec:worker thread finished; awaiting finish of 2 more threads\n",
            "INFO:gensim.models.base_any2vec:worker thread finished; awaiting finish of 1 more threads\n",
            "INFO:gensim.models.base_any2vec:worker thread finished; awaiting finish of 0 more threads\n",
            "INFO:gensim.models.base_any2vec:EPOCH - 4 : training on 1108396 raw words (766167 effective words) took 4.4s, 173794 effective words/s\n",
            "INFO:gensim.models.base_any2vec:EPOCH 5 - PROGRESS: at 20.53% examples, 157071 words/s, in_qsize 7, out_qsize 0\n",
            "INFO:gensim.models.base_any2vec:EPOCH 5 - PROGRESS: at 44.36% examples, 166161 words/s, in_qsize 7, out_qsize 0\n",
            "INFO:gensim.models.base_any2vec:EPOCH 5 - PROGRESS: at 66.88% examples, 168104 words/s, in_qsize 7, out_qsize 0\n",
            "INFO:gensim.models.base_any2vec:EPOCH 5 - PROGRESS: at 91.73% examples, 170593 words/s, in_qsize 7, out_qsize 0\n",
            "INFO:gensim.models.base_any2vec:worker thread finished; awaiting finish of 3 more threads\n",
            "INFO:gensim.models.base_any2vec:worker thread finished; awaiting finish of 2 more threads\n",
            "INFO:gensim.models.base_any2vec:worker thread finished; awaiting finish of 1 more threads\n",
            "INFO:gensim.models.base_any2vec:worker thread finished; awaiting finish of 0 more threads\n",
            "INFO:gensim.models.base_any2vec:EPOCH - 5 : training on 1108396 raw words (766464 effective words) took 4.4s, 173011 effective words/s\n",
            "INFO:gensim.models.base_any2vec:EPOCH 6 - PROGRESS: at 22.34% examples, 157157 words/s, in_qsize 7, out_qsize 0\n",
            "INFO:gensim.models.base_any2vec:EPOCH 6 - PROGRESS: at 46.19% examples, 166739 words/s, in_qsize 7, out_qsize 0\n",
            "INFO:gensim.models.base_any2vec:EPOCH 6 - PROGRESS: at 69.61% examples, 169132 words/s, in_qsize 7, out_qsize 0\n",
            "INFO:gensim.models.base_any2vec:EPOCH 6 - PROGRESS: at 93.62% examples, 171702 words/s, in_qsize 7, out_qsize 0\n",
            "INFO:gensim.models.base_any2vec:worker thread finished; awaiting finish of 3 more threads\n",
            "INFO:gensim.models.base_any2vec:worker thread finished; awaiting finish of 2 more threads\n",
            "INFO:gensim.models.base_any2vec:worker thread finished; awaiting finish of 1 more threads\n",
            "INFO:gensim.models.base_any2vec:worker thread finished; awaiting finish of 0 more threads\n",
            "INFO:gensim.models.base_any2vec:EPOCH - 6 : training on 1108396 raw words (766655 effective words) took 4.4s, 173285 effective words/s\n",
            "INFO:gensim.models.base_any2vec:EPOCH 7 - PROGRESS: at 22.34% examples, 157717 words/s, in_qsize 7, out_qsize 0\n",
            "INFO:gensim.models.base_any2vec:EPOCH 7 - PROGRESS: at 47.08% examples, 164315 words/s, in_qsize 7, out_qsize 0\n",
            "INFO:gensim.models.base_any2vec:EPOCH 7 - PROGRESS: at 70.49% examples, 169037 words/s, in_qsize 7, out_qsize 0\n",
            "INFO:gensim.models.base_any2vec:EPOCH 7 - PROGRESS: at 93.62% examples, 170955 words/s, in_qsize 7, out_qsize 0\n",
            "INFO:gensim.models.base_any2vec:worker thread finished; awaiting finish of 3 more threads\n",
            "INFO:gensim.models.base_any2vec:worker thread finished; awaiting finish of 2 more threads\n",
            "INFO:gensim.models.base_any2vec:worker thread finished; awaiting finish of 1 more threads\n",
            "INFO:gensim.models.base_any2vec:worker thread finished; awaiting finish of 0 more threads\n",
            "INFO:gensim.models.base_any2vec:EPOCH - 7 : training on 1108396 raw words (766692 effective words) took 4.4s, 173216 effective words/s\n",
            "INFO:gensim.models.base_any2vec:EPOCH 8 - PROGRESS: at 22.34% examples, 155613 words/s, in_qsize 7, out_qsize 0\n",
            "INFO:gensim.models.base_any2vec:EPOCH 8 - PROGRESS: at 46.15% examples, 166659 words/s, in_qsize 7, out_qsize 0\n",
            "INFO:gensim.models.base_any2vec:EPOCH 8 - PROGRESS: at 68.69% examples, 168599 words/s, in_qsize 7, out_qsize 0\n",
            "INFO:gensim.models.base_any2vec:EPOCH 8 - PROGRESS: at 92.67% examples, 171856 words/s, in_qsize 7, out_qsize 0\n",
            "INFO:gensim.models.base_any2vec:worker thread finished; awaiting finish of 3 more threads\n",
            "INFO:gensim.models.base_any2vec:worker thread finished; awaiting finish of 2 more threads\n",
            "INFO:gensim.models.base_any2vec:worker thread finished; awaiting finish of 1 more threads\n",
            "INFO:gensim.models.base_any2vec:worker thread finished; awaiting finish of 0 more threads\n",
            "INFO:gensim.models.base_any2vec:EPOCH - 8 : training on 1108396 raw words (766191 effective words) took 4.4s, 173456 effective words/s\n",
            "INFO:gensim.models.base_any2vec:EPOCH 9 - PROGRESS: at 20.48% examples, 156827 words/s, in_qsize 7, out_qsize 0\n",
            "INFO:gensim.models.base_any2vec:EPOCH 9 - PROGRESS: at 44.36% examples, 166070 words/s, in_qsize 7, out_qsize 0\n",
            "INFO:gensim.models.base_any2vec:EPOCH 9 - PROGRESS: at 66.85% examples, 167694 words/s, in_qsize 7, out_qsize 0\n",
            "INFO:gensim.models.base_any2vec:EPOCH 9 - PROGRESS: at 89.00% examples, 168500 words/s, in_qsize 7, out_qsize 0\n",
            "INFO:gensim.models.base_any2vec:worker thread finished; awaiting finish of 3 more threads\n",
            "INFO:gensim.models.base_any2vec:worker thread finished; awaiting finish of 2 more threads\n",
            "INFO:gensim.models.base_any2vec:worker thread finished; awaiting finish of 1 more threads\n",
            "INFO:gensim.models.base_any2vec:worker thread finished; awaiting finish of 0 more threads\n",
            "INFO:gensim.models.base_any2vec:EPOCH - 9 : training on 1108396 raw words (766079 effective words) took 4.5s, 171218 effective words/s\n",
            "INFO:gensim.models.base_any2vec:EPOCH 10 - PROGRESS: at 21.37% examples, 160511 words/s, in_qsize 7, out_qsize 0\n",
            "INFO:gensim.models.base_any2vec:EPOCH 10 - PROGRESS: at 47.10% examples, 167224 words/s, in_qsize 7, out_qsize 0\n",
            "INFO:gensim.models.base_any2vec:EPOCH 10 - PROGRESS: at 72.24% examples, 170344 words/s, in_qsize 7, out_qsize 0\n",
            "INFO:gensim.models.base_any2vec:EPOCH 10 - PROGRESS: at 95.43% examples, 171803 words/s, in_qsize 6, out_qsize 0\n",
            "INFO:gensim.models.base_any2vec:worker thread finished; awaiting finish of 3 more threads\n",
            "INFO:gensim.models.base_any2vec:worker thread finished; awaiting finish of 2 more threads\n",
            "INFO:gensim.models.base_any2vec:worker thread finished; awaiting finish of 1 more threads\n",
            "INFO:gensim.models.base_any2vec:worker thread finished; awaiting finish of 0 more threads\n",
            "INFO:gensim.models.base_any2vec:EPOCH - 10 : training on 1108396 raw words (766706 effective words) took 4.5s, 170667 effective words/s\n",
            "INFO:gensim.models.base_any2vec:training on a 11083960 raw words (7663843 effective words) took 44.4s, 172542 effective words/s\n"
          ],
          "name": "stderr"
        },
        {
          "output_type": "execute_result",
          "data": {
            "text/plain": [
              "(7663843, 11083960)"
            ]
          },
          "metadata": {
            "tags": []
          },
          "execution_count": 628
        }
      ]
    },
    {
      "cell_type": "markdown",
      "metadata": {
        "id": "C_faCSUunq-T"
      },
      "source": [
        "### Exploring the Embeddings"
      ]
    },
    {
      "cell_type": "code",
      "metadata": {
        "colab": {
          "base_uri": "https://localhost:8080/"
        },
        "id": "r_GAIHegdsuc",
        "outputId": "6c8b4757-8e23-4de9-80c3-41e074773cea"
      },
      "source": [
        "model_200d.wv.most_similar(\"yellow\")"
      ],
      "execution_count": 597,
      "outputs": [
        {
          "output_type": "stream",
          "text": [
            "INFO:gensim.models.keyedvectors:precomputing L2-norms of word weight vectors\n"
          ],
          "name": "stderr"
        },
        {
          "output_type": "execute_result",
          "data": {
            "text/plain": [
              "[('salmon', 0.6493200063705444),\n",
              " ('goldenrod', 0.6292126774787903),\n",
              " ('marigold', 0.628402054309845),\n",
              " ('muddy', 0.6243737936019897),\n",
              " ('apricot', 0.6200439929962158),\n",
              " ('undertones', 0.6171101927757263),\n",
              " ('seersucker', 0.6148114204406738),\n",
              " ('emerald', 0.6146565079689026),\n",
              " ('dusty', 0.6134930849075317),\n",
              " ('greenish', 0.6122481822967529)]"
            ]
          },
          "metadata": {
            "tags": []
          },
          "execution_count": 597
        }
      ]
    },
    {
      "cell_type": "code",
      "metadata": {
        "colab": {
          "base_uri": "https://localhost:8080/"
        },
        "id": "ETHrBGbsfEHY",
        "outputId": "94f8e6ea-fbb7-4a68-9f1f-bbd6c47efa56"
      },
      "source": [
        "model_50d.wv.most_similar(\"yellow\")"
      ],
      "execution_count": 598,
      "outputs": [
        {
          "output_type": "stream",
          "text": [
            "INFO:gensim.models.keyedvectors:precomputing L2-norms of word weight vectors\n"
          ],
          "name": "stderr"
        },
        {
          "output_type": "execute_result",
          "data": {
            "text/plain": [
              "[('red', 0.8963728547096252),\n",
              " ('purple', 0.8911267518997192),\n",
              " ('orange', 0.8824447989463806),\n",
              " ('pink', 0.8754276037216187),\n",
              " ('salmon', 0.8725737929344177),\n",
              " ('green', 0.8654224276542664),\n",
              " ('teal', 0.8437644839286804),\n",
              " ('blue', 0.841431736946106),\n",
              " ('emerald', 0.8406636118888855),\n",
              " ('undertones', 0.839013934135437)]"
            ]
          },
          "metadata": {
            "tags": []
          },
          "execution_count": 598
        }
      ]
    },
    {
      "cell_type": "code",
      "metadata": {
        "colab": {
          "base_uri": "https://localhost:8080/"
        },
        "id": "KTPlyPLDd36M",
        "outputId": "0a273840-71e6-44db-a294-da7694c5518f"
      },
      "source": [
        "model_200d.wv.most_similar(\"flattering\")"
      ],
      "execution_count": 599,
      "outputs": [
        {
          "output_type": "execute_result",
          "data": {
            "text/plain": [
              "[('flatering', 0.5308620929718018),\n",
              " ('flatteringly', 0.5248962640762329),\n",
              " ('complimentary', 0.5248880386352539),\n",
              " ('forgiving', 0.5186333060264587),\n",
              " ('decently', 0.5137904286384583),\n",
              " ('clever', 0.5036065578460693),\n",
              " ('formfitting', 0.5010722279548645),\n",
              " ('attractive', 0.4937928318977356),\n",
              " ('magnificent', 0.4925890564918518),\n",
              " ('distinctive', 0.4920140504837036)]"
            ]
          },
          "metadata": {
            "tags": []
          },
          "execution_count": 599
        }
      ]
    },
    {
      "cell_type": "code",
      "metadata": {
        "colab": {
          "base_uri": "https://localhost:8080/"
        },
        "id": "ef3chkhofg_d",
        "outputId": "451884f3-24b4-458a-874c-7ef88c9f4d82"
      },
      "source": [
        "model_50d.wv.most_similar(\"flattering\")"
      ],
      "execution_count": 600,
      "outputs": [
        {
          "output_type": "execute_result",
          "data": {
            "text/plain": [
              "[('forgiving', 0.8156605362892151),\n",
              " ('slimming', 0.8040887117385864),\n",
              " ('comfortable', 0.7720515727996826),\n",
              " ('decently', 0.7327044606208801),\n",
              " ('attractive', 0.7325081825256348),\n",
              " ('flatering', 0.7131739258766174),\n",
              " ('accentuates', 0.7098397016525269),\n",
              " ('curvy', 0.7049664855003357),\n",
              " ('flowy', 0.7027915716171265),\n",
              " ('utterly', 0.6956693530082703)]"
            ]
          },
          "metadata": {
            "tags": []
          },
          "execution_count": 600
        }
      ]
    },
    {
      "cell_type": "code",
      "metadata": {
        "colab": {
          "base_uri": "https://localhost:8080/"
        },
        "id": "UdVz1qeFd6fn",
        "outputId": "14eb1166-4664-45c4-9ebc-880f5ab1fa9a"
      },
      "source": [
        "model_200d.wv.most_similar(\"jeans\")"
      ],
      "execution_count": 601,
      "outputs": [
        {
          "output_type": "execute_result",
          "data": {
            "text/plain": [
              "[('crops', 0.5943806767463684),\n",
              " ('capris', 0.5863674879074097),\n",
              " ('loafers', 0.5770070552825928),\n",
              " ('sandles', 0.5743732452392578),\n",
              " ('skinnys', 0.5713096857070923),\n",
              " ('cords', 0.5674057006835938),\n",
              " ('jeggings', 0.5656487345695496),\n",
              " ('skinny', 0.5649229288101196),\n",
              " ('leggings', 0.5604121685028076),\n",
              " ('offs', 0.5599068403244019)]"
            ]
          },
          "metadata": {
            "tags": []
          },
          "execution_count": 601
        }
      ]
    },
    {
      "cell_type": "code",
      "metadata": {
        "colab": {
          "base_uri": "https://localhost:8080/"
        },
        "id": "9EA0HL_Rf-Xy",
        "outputId": "77841d31-7a54-4095-ca65-97b902593512"
      },
      "source": [
        "model_50d.wv.most_similar(\"jeans\")"
      ],
      "execution_count": 602,
      "outputs": [
        {
          "output_type": "execute_result",
          "data": {
            "text/plain": [
              "[('leggings', 0.8748232126235962),\n",
              " ('shorts', 0.8690977692604065),\n",
              " ('skinny', 0.8587411642074585),\n",
              " ('crops', 0.8538892269134521),\n",
              " ('pants', 0.8441354632377625),\n",
              " ('capris', 0.8347073793411255),\n",
              " ('loafers', 0.8291671276092529),\n",
              " ('jean', 0.8243778347969055),\n",
              " ('offs', 0.808951199054718),\n",
              " ('cords', 0.805557131767273)]"
            ]
          },
          "metadata": {
            "tags": []
          },
          "execution_count": 602
        }
      ]
    },
    {
      "cell_type": "code",
      "metadata": {
        "colab": {
          "base_uri": "https://localhost:8080/"
        },
        "id": "99TOg4P7eFAQ",
        "outputId": "73fb6187-bcd8-4242-f889-c15db3a3a4fb"
      },
      "source": [
        "model_200d.wv.most_similar(\"cheap\")"
      ],
      "execution_count": 603,
      "outputs": [
        {
          "output_type": "execute_result",
          "data": {
            "text/plain": [
              "[('flimsy', 0.5623683929443359),\n",
              " ('coarse', 0.5599557757377625),\n",
              " ('synthetic', 0.5538432002067566),\n",
              " ('cheaply', 0.5253739356994629),\n",
              " ('halloween', 0.5146256685256958),\n",
              " ('acrylic', 0.5130155086517334),\n",
              " ('lacking', 0.5125691890716553),\n",
              " ('reminding', 0.503762423992157),\n",
              " ('shabby', 0.49939191341400146),\n",
              " ('scratchy', 0.4991796910762787)]"
            ]
          },
          "metadata": {
            "tags": []
          },
          "execution_count": 603
        }
      ]
    },
    {
      "cell_type": "code",
      "metadata": {
        "colab": {
          "base_uri": "https://localhost:8080/"
        },
        "id": "mj7ywnUggb37",
        "outputId": "21ceb2b8-6b96-4440-ff70-21104e4ac5b5"
      },
      "source": [
        "model_50d.wv.most_similar(\"cheap\")"
      ],
      "execution_count": 604,
      "outputs": [
        {
          "output_type": "execute_result",
          "data": {
            "text/plain": [
              "[('flimsy', 0.7870427966117859),\n",
              " ('polyester', 0.761796236038208),\n",
              " ('stiff', 0.7277495861053467),\n",
              " ('coarse', 0.7169432044029236),\n",
              " ('scratchy', 0.7138239145278931),\n",
              " ('cheaply', 0.7122425436973572),\n",
              " ('horrible', 0.697981595993042),\n",
              " ('lacking', 0.6917958855628967),\n",
              " ('canvas', 0.6860473155975342),\n",
              " ('expensive', 0.685718297958374)]"
            ]
          },
          "metadata": {
            "tags": []
          },
          "execution_count": 604
        }
      ]
    },
    {
      "cell_type": "code",
      "metadata": {
        "colab": {
          "base_uri": "https://localhost:8080/"
        },
        "id": "buPUXh5Jis9Y",
        "outputId": "5706d09f-3f29-4260-803a-e6f6c9c11069"
      },
      "source": [
        "model_200d.wv.similarity(w1=\"flattering\",w2=\"slimming\")"
      ],
      "execution_count": 605,
      "outputs": [
        {
          "output_type": "execute_result",
          "data": {
            "text/plain": [
              "0.47040746"
            ]
          },
          "metadata": {
            "tags": []
          },
          "execution_count": 605
        }
      ]
    },
    {
      "cell_type": "code",
      "metadata": {
        "colab": {
          "base_uri": "https://localhost:8080/"
        },
        "id": "8yLCemp1mZ9h",
        "outputId": "6b618653-88df-43a5-dddb-aa702e6932b2"
      },
      "source": [
        "model_200d.wv.similarity(w1=\"flattering\",w2=\"ugly\")"
      ],
      "execution_count": 606,
      "outputs": [
        {
          "output_type": "execute_result",
          "data": {
            "text/plain": [
              "0.131902"
            ]
          },
          "metadata": {
            "tags": []
          },
          "execution_count": 606
        }
      ]
    },
    {
      "cell_type": "code",
      "metadata": {
        "colab": {
          "base_uri": "https://localhost:8080/"
        },
        "id": "VAwOmyuNjKqM",
        "outputId": "298e667a-3f5e-4b26-f74f-62e985e127e5"
      },
      "source": [
        "model_50d.wv.similarity(w1=\"flattering\",w2=\"slimming\")"
      ],
      "execution_count": 607,
      "outputs": [
        {
          "output_type": "execute_result",
          "data": {
            "text/plain": [
              "0.8040888"
            ]
          },
          "metadata": {
            "tags": []
          },
          "execution_count": 607
        }
      ]
    },
    {
      "cell_type": "code",
      "metadata": {
        "colab": {
          "base_uri": "https://localhost:8080/"
        },
        "id": "hlqluAkHmXMs",
        "outputId": "67cedffa-b032-4d6c-acc0-b1ef2d2b9f2e"
      },
      "source": [
        "model_50d.wv.similarity(w1=\"flattering\",w2=\"ugly\")"
      ],
      "execution_count": 608,
      "outputs": [
        {
          "output_type": "execute_result",
          "data": {
            "text/plain": [
              "0.30736533"
            ]
          },
          "metadata": {
            "tags": []
          },
          "execution_count": 608
        }
      ]
    },
    {
      "cell_type": "code",
      "metadata": {
        "colab": {
          "base_uri": "https://localhost:8080/",
          "height": 125
        },
        "id": "HKWH2Y5Yu7Pi",
        "outputId": "d4b5bd79-d446-439d-e5dd-5cdc3e285b97"
      },
      "source": [
        "model_50d.wv.doesnt_match(['pants', 'jeans', 'boots', 'leggings', 'capris'])"
      ],
      "execution_count": 609,
      "outputs": [
        {
          "output_type": "stream",
          "text": [
            "/usr/local/lib/python3.6/dist-packages/gensim/models/keyedvectors.py:895: FutureWarning:\n",
            "\n",
            "arrays to stack must be passed as a \"sequence\" type such as list or tuple. Support for non-sequence iterables such as generators is deprecated as of NumPy 1.16 and will raise an error in the future.\n",
            "\n"
          ],
          "name": "stderr"
        },
        {
          "output_type": "execute_result",
          "data": {
            "application/vnd.google.colaboratory.intrinsic+json": {
              "type": "string"
            },
            "text/plain": [
              "'boots'"
            ]
          },
          "metadata": {
            "tags": []
          },
          "execution_count": 609
        }
      ]
    },
    {
      "cell_type": "code",
      "metadata": {
        "colab": {
          "base_uri": "https://localhost:8080/",
          "height": 125
        },
        "id": "qKZcPD9pvKwY",
        "outputId": "3678bd40-899c-4b2c-be92-82190e5d8703"
      },
      "source": [
        "model_200d.wv.doesnt_match(['pants', 'jeans', 'boots', 'leggings', 'capris'])"
      ],
      "execution_count": 610,
      "outputs": [
        {
          "output_type": "stream",
          "text": [
            "/usr/local/lib/python3.6/dist-packages/gensim/models/keyedvectors.py:895: FutureWarning:\n",
            "\n",
            "arrays to stack must be passed as a \"sequence\" type such as list or tuple. Support for non-sequence iterables such as generators is deprecated as of NumPy 1.16 and will raise an error in the future.\n",
            "\n"
          ],
          "name": "stderr"
        },
        {
          "output_type": "execute_result",
          "data": {
            "application/vnd.google.colaboratory.intrinsic+json": {
              "type": "string"
            },
            "text/plain": [
              "'boots'"
            ]
          },
          "metadata": {
            "tags": []
          },
          "execution_count": 610
        }
      ]
    },
    {
      "cell_type": "markdown",
      "metadata": {
        "id": "K2dnrDEDq0VT"
      },
      "source": [
        "\n",
        "### Saving the Embeddings\n"
      ]
    },
    {
      "cell_type": "code",
      "metadata": {
        "id": "RifurLqYrBlD",
        "colab": {
          "base_uri": "https://localhost:8080/"
        },
        "outputId": "7e27cc70-2178-40ad-b9d3-1e1a82a8a608"
      },
      "source": [
        "model_200d.save(\"word2vec_200d_fashion_reviews.model\")\n",
        "model_50d.save(\"word2vec_50d_fashion_reviews.model\")"
      ],
      "execution_count": 611,
      "outputs": [
        {
          "output_type": "stream",
          "text": [
            "INFO:gensim.utils:saving Word2Vec object under word2vec_200d_fashion_reviews.model, separately None\n",
            "INFO:gensim.utils:not storing attribute vectors_norm\n",
            "INFO:gensim.utils:not storing attribute cum_table\n",
            "INFO:gensim.utils:saved word2vec_200d_fashion_reviews.model\n",
            "INFO:gensim.utils:saving Word2Vec object under word2vec_50d_fashion_reviews.model, separately None\n",
            "INFO:gensim.utils:not storing attribute vectors_norm\n",
            "INFO:gensim.utils:not storing attribute cum_table\n",
            "INFO:gensim.utils:saved word2vec_50d_fashion_reviews.model\n"
          ],
          "name": "stderr"
        }
      ]
    },
    {
      "cell_type": "code",
      "metadata": {
        "id": "rWbt8PIZrBN1",
        "colab": {
          "base_uri": "https://localhost:8080/",
          "height": 320
        },
        "outputId": "a74a08b0-287e-4a4a-e7a3-945ecbf0a358"
      },
      "source": [
        "model = Word2Vec.load(\"word2vec_50d_fashion_reviews.model\")\n",
        "#model.train(more_tokenized_documents, total_examples=len(more_tokenized_documents), epochs = 1)"
      ],
      "execution_count": 612,
      "outputs": [
        {
          "output_type": "stream",
          "text": [
            "INFO:gensim.utils:loading Word2Vec object from word2vec_50d_fashion_reviews.model\n",
            "INFO:gensim.utils:loading wv recursively from word2vec_50d_fashion_reviews.model.wv.* with mmap=None\n",
            "INFO:gensim.utils:setting ignored attribute vectors_norm to None\n",
            "INFO:gensim.utils:loading vocabulary recursively from word2vec_50d_fashion_reviews.model.vocabulary.* with mmap=None\n",
            "INFO:gensim.utils:loading trainables recursively from word2vec_50d_fashion_reviews.model.trainables.* with mmap=None\n",
            "INFO:gensim.utils:setting ignored attribute cum_table to None\n",
            "INFO:gensim.utils:loaded word2vec_50d_fashion_reviews.model\n"
          ],
          "name": "stderr"
        },
        {
          "output_type": "error",
          "ename": "NameError",
          "evalue": "ignored",
          "traceback": [
            "\u001b[0;31m---------------------------------------------------------------------------\u001b[0m",
            "\u001b[0;31mNameError\u001b[0m                                 Traceback (most recent call last)",
            "\u001b[0;32m<ipython-input-612-5698ed14332c>\u001b[0m in \u001b[0;36m<module>\u001b[0;34m()\u001b[0m\n\u001b[1;32m      1\u001b[0m \u001b[0mmodel\u001b[0m \u001b[0;34m=\u001b[0m \u001b[0mWord2Vec\u001b[0m\u001b[0;34m.\u001b[0m\u001b[0mload\u001b[0m\u001b[0;34m(\u001b[0m\u001b[0;34m\"word2vec_50d_fashion_reviews.model\"\u001b[0m\u001b[0;34m)\u001b[0m\u001b[0;34m\u001b[0m\u001b[0;34m\u001b[0m\u001b[0m\n\u001b[0;32m----> 2\u001b[0;31m \u001b[0mmodel\u001b[0m\u001b[0;34m.\u001b[0m\u001b[0mtrain\u001b[0m\u001b[0;34m(\u001b[0m\u001b[0mmore_tokenized_documents\u001b[0m\u001b[0;34m,\u001b[0m \u001b[0mtotal_examples\u001b[0m\u001b[0;34m=\u001b[0m\u001b[0mlen\u001b[0m\u001b[0;34m(\u001b[0m\u001b[0mmore_tokenized_documents\u001b[0m\u001b[0;34m)\u001b[0m\u001b[0;34m,\u001b[0m \u001b[0mepochs\u001b[0m \u001b[0;34m=\u001b[0m \u001b[0;36m1\u001b[0m\u001b[0;34m)\u001b[0m\u001b[0;34m\u001b[0m\u001b[0;34m\u001b[0m\u001b[0m\n\u001b[0m",
            "\u001b[0;31mNameError\u001b[0m: name 'more_tokenized_documents' is not defined"
          ]
        }
      ]
    },
    {
      "cell_type": "markdown",
      "metadata": {
        "id": "Ux5GVrZDrZHL"
      },
      "source": [
        "The trained word vectors are stored in a KeyedVectors instance"
      ]
    },
    {
      "cell_type": "code",
      "metadata": {
        "colab": {
          "base_uri": "https://localhost:8080/"
        },
        "id": "d1OlOIFzrYQ0",
        "outputId": "bbc2f707-e728-401f-95a4-c553bea1c363"
      },
      "source": [
        "model_50d.wv[\"flattering\"]"
      ],
      "execution_count": 613,
      "outputs": [
        {
          "output_type": "execute_result",
          "data": {
            "text/plain": [
              "array([-0.13577017, -0.48372188, -0.18726906,  0.0307007 , -0.2076778 ,\n",
              "       -0.18160263, -0.1471039 ,  0.18827346, -0.43903643,  0.09426805,\n",
              "        0.03142299, -0.5600759 ,  0.02118284,  0.14588787, -0.3523213 ,\n",
              "       -0.06098642,  0.12196065,  0.2999971 ,  0.53273463, -0.01998848,\n",
              "       -0.17410867, -0.6053339 ,  0.43180224, -0.30960622, -0.01318047,\n",
              "        0.14520001, -0.16228531,  0.02638513,  0.00987799,  0.05070274,\n",
              "        0.16106422, -0.7422603 ,  0.25432575,  0.2618106 ,  0.11677752,\n",
              "       -0.07058707,  0.27464482, -0.24106057, -0.00872387,  0.08229857,\n",
              "        0.01006806, -0.49521792, -0.09372171, -0.26528606,  0.6812198 ,\n",
              "        0.23088707,  0.34178084,  0.13873395, -0.5398746 ,  0.18358727],\n",
              "      dtype=float32)"
            ]
          },
          "metadata": {
            "tags": []
          },
          "execution_count": 613
        }
      ]
    },
    {
      "cell_type": "markdown",
      "metadata": {
        "id": "qTp1Ps5HryNy"
      },
      "source": [
        "[Storing a model as keyed vectors results in a much smaller and faster object that can be quickly loaded and easily shared.](https://radimrehurek.com/gensim/models/word2vec.html)"
      ]
    },
    {
      "cell_type": "code",
      "metadata": {
        "id": "z6S59ZnZq2pC"
      },
      "source": [
        "from gensim.models import KeyedVectors\n",
        "\n",
        "word_vectors = model_50d.wv\n",
        "word_vectors.save(\"word2vec_50d_fashion_reviews.wordvectors\")"
      ],
      "execution_count": null,
      "outputs": []
    },
    {
      "cell_type": "markdown",
      "metadata": {
        "id": "2esspUa7t-QN"
      },
      "source": [
        "## Evaluating Embedding Performance\n",
        "\n",
        "[Link to SimLex](https://fh295.github.io//simlex.html)\n",
        "\n"
      ]
    },
    {
      "cell_type": "markdown",
      "metadata": {
        "id": "CkFx9uJwoQUy"
      },
      "source": [
        "### Loading Pretrained Embeddings"
      ]
    },
    {
      "cell_type": "code",
      "metadata": {
        "id": "CgvKDUCssjGB"
      },
      "source": [
        "import gensim.downloader"
      ],
      "execution_count": null,
      "outputs": []
    },
    {
      "cell_type": "code",
      "metadata": {
        "colab": {
          "base_uri": "https://localhost:8080/"
        },
        "id": "Ms2PQhlssom2",
        "outputId": "e6017208-51a4-4996-973a-72f2406bcf67"
      },
      "source": [
        "twitter_vectors = gensim.downloader.load('glove-twitter-50')"
      ],
      "execution_count": null,
      "outputs": [
        {
          "output_type": "stream",
          "text": [
            "INFO:gensim.models.utils_any2vec:loading projection weights from /root/gensim-data/glove-twitter-50/glove-twitter-50.gz\n",
            "INFO:gensim.models.utils_any2vec:loaded (1193514, 50) matrix from /root/gensim-data/glove-twitter-50/glove-twitter-50.gz\n"
          ],
          "name": "stderr"
        }
      ]
    },
    {
      "cell_type": "code",
      "metadata": {
        "colab": {
          "base_uri": "https://localhost:8080/"
        },
        "id": "hj6LMWmotPK8",
        "outputId": "936b5024-503d-458a-ae90-93fdd1be7860"
      },
      "source": [
        "wiki_vectors = gensim.downloader.load('glove-wiki-gigaword-50')"
      ],
      "execution_count": null,
      "outputs": [
        {
          "output_type": "stream",
          "text": [
            "[==================================================] 100.0% 66.0/66.0MB downloaded\n"
          ],
          "name": "stdout"
        },
        {
          "output_type": "stream",
          "text": [
            "INFO:gensim.api:glove-wiki-gigaword-50 downloaded\n",
            "INFO:gensim.models.utils_any2vec:loading projection weights from /root/gensim-data/glove-wiki-gigaword-50/glove-wiki-gigaword-50.gz\n",
            "INFO:gensim.models.utils_any2vec:loaded (400000, 50) matrix from /root/gensim-data/glove-wiki-gigaword-50/glove-wiki-gigaword-50.gz\n"
          ],
          "name": "stderr"
        }
      ]
    },
    {
      "cell_type": "markdown",
      "metadata": {
        "id": "bxbwRGPLoTXG"
      },
      "source": [
        "### Quick and Dirty Evaluations"
      ]
    },
    {
      "cell_type": "code",
      "metadata": {
        "colab": {
          "base_uri": "https://localhost:8080/"
        },
        "id": "uMdLudwestOD",
        "outputId": "3bc343b0-1fde-48d6-ad0a-a7d95b4f4462"
      },
      "source": [
        "twitter_vectors.most_similar('flattering')"
      ],
      "execution_count": null,
      "outputs": [
        {
          "output_type": "stream",
          "text": [
            "INFO:gensim.models.keyedvectors:precomputing L2-norms of word weight vectors\n"
          ],
          "name": "stderr"
        },
        {
          "output_type": "execute_result",
          "data": {
            "text/plain": [
              "[('deceiving', 0.7589634656906128),\n",
              " ('subtle', 0.731188178062439),\n",
              " ('degrading', 0.7235129475593567),\n",
              " ('revealing', 0.7195727229118347),\n",
              " ('intimidating', 0.7194300889968872),\n",
              " ('complement', 0.7180843353271484),\n",
              " ('hideous', 0.7109505534172058),\n",
              " ('misleading', 0.7089495658874512),\n",
              " ('appealing', 0.7067294716835022),\n",
              " ('endearing', 0.7048246264457703)]"
            ]
          },
          "metadata": {
            "tags": []
          },
          "execution_count": 221
        }
      ]
    },
    {
      "cell_type": "code",
      "metadata": {
        "colab": {
          "base_uri": "https://localhost:8080/"
        },
        "id": "rf8hEA0etl-v",
        "outputId": "1eaa0184-51c5-48c5-c2d9-1bd944f61966"
      },
      "source": [
        "wiki_vectors.most_similar(\"flattering\")"
      ],
      "execution_count": null,
      "outputs": [
        {
          "output_type": "stream",
          "text": [
            "INFO:gensim.models.keyedvectors:precomputing L2-norms of word weight vectors\n"
          ],
          "name": "stderr"
        },
        {
          "output_type": "execute_result",
          "data": {
            "text/plain": [
              "[('unflattering', 0.7839535474777222),\n",
              " ('understated', 0.7335059642791748),\n",
              " ('startlingly', 0.7195419669151306),\n",
              " ('strikingly', 0.7144407033920288),\n",
              " ('legible', 0.6908946633338928),\n",
              " ('pleasing', 0.6869217753410339),\n",
              " ('tasteful', 0.6848117113113403),\n",
              " ('nuanced', 0.6821258664131165),\n",
              " ('ironic', 0.6800380945205688),\n",
              " ('instructive', 0.6722054481506348)]"
            ]
          },
          "metadata": {
            "tags": []
          },
          "execution_count": 222
        }
      ]
    },
    {
      "cell_type": "code",
      "metadata": {
        "colab": {
          "base_uri": "https://localhost:8080/"
        },
        "id": "Yp2kktlxuh_y",
        "outputId": "aba7e036-edae-4c9a-de48-fb07463328ca"
      },
      "source": [
        "twitter_vectors.most_similar('slimming')"
      ],
      "execution_count": null,
      "outputs": [
        {
          "output_type": "execute_result",
          "data": {
            "text/plain": [
              "[('skincare', 0.8081165552139282),\n",
              " ('whitening', 0.7969942092895508),\n",
              " ('enhancement', 0.7625880837440491),\n",
              " ('supplement', 0.7529165148735046),\n",
              " ('anti-aging', 0.7474892139434814),\n",
              " ('supplements', 0.7415367364883423),\n",
              " ('cosmetics', 0.7402847409248352),\n",
              " ('moisturizing', 0.7401215434074402),\n",
              " ('decay', 0.734142541885376),\n",
              " ('nourishing', 0.7283862829208374)]"
            ]
          },
          "metadata": {
            "tags": []
          },
          "execution_count": 227
        }
      ]
    },
    {
      "cell_type": "code",
      "metadata": {
        "colab": {
          "base_uri": "https://localhost:8080/"
        },
        "id": "MJV7qNyUulUI",
        "outputId": "ff5c595a-4c96-4eda-b1f2-bb54128ba457"
      },
      "source": [
        "wiki_vectors.most_similar(\"slimming\")"
      ],
      "execution_count": null,
      "outputs": [
        {
          "output_type": "execute_result",
          "data": {
            "text/plain": [
              "[('ecstacy', 0.7174867987632751),\n",
              " ('impotency', 0.7070642709732056),\n",
              " ('essences', 0.6937088966369629),\n",
              " ('shampoo', 0.6900542378425598),\n",
              " ('lotion', 0.6844039559364319),\n",
              " ('toning', 0.6772074699401855),\n",
              " ('sunsilk', 0.6712096929550171),\n",
              " ('lollipops', 0.6711376309394836),\n",
              " ('vaseline', 0.670579195022583),\n",
              " ('wipes', 0.6690594553947449)]"
            ]
          },
          "metadata": {
            "tags": []
          },
          "execution_count": 228
        }
      ]
    },
    {
      "cell_type": "code",
      "metadata": {
        "colab": {
          "base_uri": "https://localhost:8080/",
          "height": 91
        },
        "id": "FJ1jxm3pvftb",
        "outputId": "80883645-dd5e-4f3d-bc83-719d56816905"
      },
      "source": [
        "wiki_vectors.doesnt_match(['pants', 'jeans', 'boots', 'leggings', 'capris'])"
      ],
      "execution_count": null,
      "outputs": [
        {
          "output_type": "stream",
          "text": [
            "/usr/local/lib/python3.6/dist-packages/gensim/models/keyedvectors.py:895: FutureWarning: arrays to stack must be passed as a \"sequence\" type such as list or tuple. Support for non-sequence iterables such as generators is deprecated as of NumPy 1.16 and will raise an error in the future.\n",
            "  vectors = vstack(self.word_vec(word, use_norm=True) for word in used_words).astype(REAL)\n"
          ],
          "name": "stderr"
        },
        {
          "output_type": "execute_result",
          "data": {
            "application/vnd.google.colaboratory.intrinsic+json": {
              "type": "string"
            },
            "text/plain": [
              "'capris'"
            ]
          },
          "metadata": {
            "tags": []
          },
          "execution_count": 369
        }
      ]
    },
    {
      "cell_type": "code",
      "metadata": {
        "colab": {
          "base_uri": "https://localhost:8080/",
          "height": 91
        },
        "id": "F0_1VKW6vi_i",
        "outputId": "b51e8417-37ce-46ed-97b6-16b38189a087"
      },
      "source": [
        "twitter_vectors.doesnt_match(['pants', 'jeans', 'boots', 'leggings', 'capris'])"
      ],
      "execution_count": null,
      "outputs": [
        {
          "output_type": "stream",
          "text": [
            "/usr/local/lib/python3.6/dist-packages/gensim/models/keyedvectors.py:895: FutureWarning: arrays to stack must be passed as a \"sequence\" type such as list or tuple. Support for non-sequence iterables such as generators is deprecated as of NumPy 1.16 and will raise an error in the future.\n",
            "  vectors = vstack(self.word_vec(word, use_norm=True) for word in used_words).astype(REAL)\n"
          ],
          "name": "stderr"
        },
        {
          "output_type": "execute_result",
          "data": {
            "application/vnd.google.colaboratory.intrinsic+json": {
              "type": "string"
            },
            "text/plain": [
              "'capris'"
            ]
          },
          "metadata": {
            "tags": []
          },
          "execution_count": 362
        }
      ]
    },
    {
      "cell_type": "code",
      "metadata": {
        "colab": {
          "base_uri": "https://localhost:8080/",
          "height": 91
        },
        "id": "pX24tuejACKh",
        "outputId": "8f8e7c57-822f-47eb-bb9d-50728bd5ceb9"
      },
      "source": [
        "model_50d.wv.doesnt_match(['pants', 'jeans', 'boots', 'leggings', 'capris'])"
      ],
      "execution_count": null,
      "outputs": [
        {
          "output_type": "stream",
          "text": [
            "/usr/local/lib/python3.6/dist-packages/gensim/models/keyedvectors.py:895: FutureWarning: arrays to stack must be passed as a \"sequence\" type such as list or tuple. Support for non-sequence iterables such as generators is deprecated as of NumPy 1.16 and will raise an error in the future.\n",
            "  vectors = vstack(self.word_vec(word, use_norm=True) for word in used_words).astype(REAL)\n"
          ],
          "name": "stderr"
        },
        {
          "output_type": "execute_result",
          "data": {
            "application/vnd.google.colaboratory.intrinsic+json": {
              "type": "string"
            },
            "text/plain": [
              "'boots'"
            ]
          },
          "metadata": {
            "tags": []
          },
          "execution_count": 367
        }
      ]
    },
    {
      "cell_type": "markdown",
      "metadata": {
        "id": "8Zqjbtcx8duV"
      },
      "source": [
        "### Systematic Testing"
      ]
    },
    {
      "cell_type": "markdown",
      "metadata": {
        "id": "gLVz1UmhoelN"
      },
      "source": [
        "#### Generalized Testing"
      ]
    },
    {
      "cell_type": "code",
      "metadata": {
        "colab": {
          "base_uri": "https://localhost:8080/"
        },
        "id": "va3484G9waH8",
        "outputId": "7ee61af7-42e7-4b14-95e5-fd45a79457b6"
      },
      "source": [
        "wiki_vectors.evaluate_word_pairs(datapath('wordsim353.tsv'))"
      ],
      "execution_count": null,
      "outputs": [
        {
          "output_type": "stream",
          "text": [
            "INFO:gensim.models.keyedvectors:Pearson correlation coefficient against /usr/local/lib/python3.6/dist-packages/gensim/test/test_data/wordsim353.tsv: 0.5066\n",
            "INFO:gensim.models.keyedvectors:Spearman rank-order correlation coefficient against /usr/local/lib/python3.6/dist-packages/gensim/test/test_data/wordsim353.tsv: 0.5033\n",
            "INFO:gensim.models.keyedvectors:Pairs with unknown words ratio: 0.0%\n"
          ],
          "name": "stderr"
        },
        {
          "output_type": "execute_result",
          "data": {
            "text/plain": [
              "((0.5066191864084476, 2.0601625001388435e-24),\n",
              " SpearmanrResult(correlation=0.503319577396603, pvalue=4.545752555909452e-24),\n",
              " 0.0)"
            ]
          },
          "metadata": {
            "tags": []
          },
          "execution_count": 363
        }
      ]
    },
    {
      "cell_type": "code",
      "metadata": {
        "colab": {
          "base_uri": "https://localhost:8080/"
        },
        "id": "2NSdu-nV7l4G",
        "outputId": "ac77d8a6-58f1-4b4f-ecfb-3f59a63fc465"
      },
      "source": [
        "twitter_vectors.evaluate_word_pairs(datapath('wordsim353.tsv'))"
      ],
      "execution_count": null,
      "outputs": [
        {
          "output_type": "stream",
          "text": [
            "INFO:gensim.models.keyedvectors:Pearson correlation coefficient against /usr/local/lib/python3.6/dist-packages/gensim/test/test_data/wordsim353.tsv: 0.4692\n",
            "INFO:gensim.models.keyedvectors:Spearman rank-order correlation coefficient against /usr/local/lib/python3.6/dist-packages/gensim/test/test_data/wordsim353.tsv: 0.4604\n",
            "INFO:gensim.models.keyedvectors:Pairs with unknown words ratio: 2.3%\n"
          ],
          "name": "stderr"
        },
        {
          "output_type": "execute_result",
          "data": {
            "text/plain": [
              "((0.4691938177508138, 2.7469878583403077e-20),\n",
              " SpearmanrResult(correlation=0.460432602938833, pvalue=1.6621434759294624e-19),\n",
              " 2.26628895184136)"
            ]
          },
          "metadata": {
            "tags": []
          },
          "execution_count": 364
        }
      ]
    },
    {
      "cell_type": "code",
      "metadata": {
        "colab": {
          "base_uri": "https://localhost:8080/"
        },
        "id": "P9ncU29131HD",
        "outputId": "d31a0c79-9740-4b1e-821f-27083075b78b"
      },
      "source": [
        "model_50d.wv.evaluate_word_pairs(datapath('wordsim353.tsv'))"
      ],
      "execution_count": 614,
      "outputs": [
        {
          "output_type": "stream",
          "text": [
            "INFO:gensim.models.keyedvectors:Pearson correlation coefficient against /usr/local/lib/python3.6/dist-packages/gensim/test/test_data/wordsim353.tsv: 0.2453\n",
            "INFO:gensim.models.keyedvectors:Spearman rank-order correlation coefficient against /usr/local/lib/python3.6/dist-packages/gensim/test/test_data/wordsim353.tsv: 0.1949\n",
            "INFO:gensim.models.keyedvectors:Pairs with unknown words ratio: 74.2%\n"
          ],
          "name": "stderr"
        },
        {
          "output_type": "execute_result",
          "data": {
            "text/plain": [
              "((0.24529610107550434, 0.0191010034001498),\n",
              " SpearmanrResult(correlation=0.19494461262633167, pvalue=0.0640611302591952),\n",
              " 74.22096317280453)"
            ]
          },
          "metadata": {
            "tags": []
          },
          "execution_count": 614
        }
      ]
    },
    {
      "cell_type": "markdown",
      "metadata": {
        "id": "1Ubpg74s7xCG"
      },
      "source": [
        "#### Domain Specific Testing"
      ]
    },
    {
      "cell_type": "code",
      "metadata": {
        "colab": {
          "base_uri": "https://localhost:8080/"
        },
        "id": "qM6rlnMK7VSJ",
        "outputId": "2777fc7d-b225-44c3-993c-2190b4195634"
      },
      "source": [
        "wiki_vectors.evaluate_word_pairs(pairs=\"wordsim_clothing.csv\", delimiter = \",\")"
      ],
      "execution_count": null,
      "outputs": [
        {
          "output_type": "stream",
          "text": [
            "INFO:gensim.models.keyedvectors:Pearson correlation coefficient against wordsim_clothing.csv: 0.2953\n",
            "INFO:gensim.models.keyedvectors:Spearman rank-order correlation coefficient against wordsim_clothing.csv: 0.2827\n",
            "INFO:gensim.models.keyedvectors:Pairs with unknown words ratio: 0.0%\n"
          ],
          "name": "stderr"
        },
        {
          "output_type": "execute_result",
          "data": {
            "text/plain": [
              "((0.29529311733612107, 0.04389440628678378),\n",
              " SpearmanrResult(correlation=0.2826504985805369, pvalue=0.05422539658292837),\n",
              " 0.0)"
            ]
          },
          "metadata": {
            "tags": []
          },
          "execution_count": 366
        }
      ]
    },
    {
      "cell_type": "code",
      "metadata": {
        "colab": {
          "base_uri": "https://localhost:8080/"
        },
        "id": "DeovxQiQ40vG",
        "outputId": "c3deb9f7-fbf9-4593-893a-ccd7703f3e0e"
      },
      "source": [
        "twitter_vectors.evaluate_word_pairs(pairs=\"wordsim_clothing.csv\", delimiter = \",\")"
      ],
      "execution_count": null,
      "outputs": [
        {
          "output_type": "stream",
          "text": [
            "INFO:gensim.models.keyedvectors:Pearson correlation coefficient against wordsim_clothing.csv: 0.0920\n",
            "INFO:gensim.models.keyedvectors:Spearman rank-order correlation coefficient against wordsim_clothing.csv: 0.0541\n",
            "INFO:gensim.models.keyedvectors:Pairs with unknown words ratio: 2.1%\n"
          ],
          "name": "stderr"
        },
        {
          "output_type": "execute_result",
          "data": {
            "text/plain": [
              "((0.0919804625667379, 0.5432110795290985),\n",
              " SpearmanrResult(correlation=0.05414279342976543, pvalue=0.7208143321976768),\n",
              " 2.127659574468085)"
            ]
          },
          "metadata": {
            "tags": []
          },
          "execution_count": 358
        }
      ]
    },
    {
      "cell_type": "code",
      "metadata": {
        "colab": {
          "base_uri": "https://localhost:8080/"
        },
        "id": "4Dmdt8D6zaIR",
        "outputId": "2cf303d4-8a5c-4386-94ee-863fbe362c4c"
      },
      "source": [
        "model_50d.wv.evaluate_word_pairs(pairs=\"wordsim_clothing.csv\", delimiter = \",\")"
      ],
      "execution_count": 615,
      "outputs": [
        {
          "output_type": "stream",
          "text": [
            "INFO:gensim.models.keyedvectors:Pearson correlation coefficient against wordsim_clothing.csv: 0.5582\n",
            "INFO:gensim.models.keyedvectors:Spearman rank-order correlation coefficient against wordsim_clothing.csv: 0.5451\n",
            "INFO:gensim.models.keyedvectors:Pairs with unknown words ratio: 0.0%\n"
          ],
          "name": "stderr"
        },
        {
          "output_type": "execute_result",
          "data": {
            "text/plain": [
              "((0.5581760539919435, 4.566850348382945e-05),\n",
              " SpearmanrResult(correlation=0.5451116758338926, pvalue=7.433493044043204e-05),\n",
              " 0.0)"
            ]
          },
          "metadata": {
            "tags": []
          },
          "execution_count": 615
        }
      ]
    },
    {
      "cell_type": "code",
      "metadata": {
        "colab": {
          "base_uri": "https://localhost:8080/"
        },
        "id": "S7a4-j4YFLvD",
        "outputId": "c4ac209c-2338-4703-bb52-f489a711c9c4"
      },
      "source": [
        "model_200d.wv.evaluate_word_pairs(pairs=\"wordsim_clothing.csv\", delimiter = \",\")"
      ],
      "execution_count": 616,
      "outputs": [
        {
          "output_type": "stream",
          "text": [
            "INFO:gensim.models.keyedvectors:Pearson correlation coefficient against wordsim_clothing.csv: 0.5480\n",
            "INFO:gensim.models.keyedvectors:Spearman rank-order correlation coefficient against wordsim_clothing.csv: 0.5451\n",
            "INFO:gensim.models.keyedvectors:Pairs with unknown words ratio: 0.0%\n"
          ],
          "name": "stderr"
        },
        {
          "output_type": "execute_result",
          "data": {
            "text/plain": [
              "((0.5480375976566283, 6.676831270943942e-05),\n",
              " SpearmanrResult(correlation=0.5451116758338926, pvalue=7.433493044043204e-05),\n",
              " 0.0)"
            ]
          },
          "metadata": {
            "tags": []
          },
          "execution_count": 616
        }
      ]
    },
    {
      "cell_type": "markdown",
      "metadata": {
        "id": "0teX5dVtHCEh"
      },
      "source": [
        "\n",
        "### Visualizing Embeddings \n"
      ]
    },
    {
      "cell_type": "markdown",
      "metadata": {
        "id": "Jfy_9KTbpJDf"
      },
      "source": [
        "#### T-SNE"
      ]
    },
    {
      "cell_type": "code",
      "metadata": {
        "id": "CGmD5x3LHFIL"
      },
      "source": [
        "from sklearn.decomposition import IncrementalPCA    # inital reduction\n",
        "from sklearn.manifold import TSNE                   # final reduction\n",
        "\n",
        "def reduce_dimensions(model):\n",
        "    num_dimensions = 2  # final num dimensions (2D, 3D, etc)\n",
        "\n",
        "    # extract the words & their vectors, as numpy arrays\n",
        "    vectors = np.asarray(model.wv.vectors)\n",
        "    labels = np.asarray(model.wv.index2word)  # fixed-width numpy strings\n",
        "\n",
        "    # reduce using t-SNE\n",
        "    tsne = TSNE(n_components=num_dimensions, random_state=0)\n",
        "    vectors = tsne.fit_transform(vectors)\n",
        "\n",
        "    x_vals = [v[0] for v in vectors]\n",
        "    y_vals = [v[1] for v in vectors]\n",
        "    return x_vals, y_vals, labels\n",
        "\n",
        "def plot_with_matplotlib(x_vals, y_vals, labels):\n",
        "    import matplotlib.pyplot as plt\n",
        "    import random\n",
        "\n",
        "    random.seed(0)\n",
        "\n",
        "    plt.figure(figsize=(12, 12))\n",
        "    plt.scatter(x_vals, y_vals)\n",
        "\n",
        "    indices = list(range(len(labels)))\n",
        "    selected_indices = random.sample(indices, 20)\n",
        "    for i in selected_indices:\n",
        "        plt.annotate(labels[i], (x_vals[i], y_vals[i]))\n"
      ],
      "execution_count": null,
      "outputs": []
    },
    {
      "cell_type": "code",
      "metadata": {
        "id": "2A09QYdPHd6I"
      },
      "source": [
        "x_vals, y_vals, labels = reduce_dimensions(model_50d)"
      ],
      "execution_count": null,
      "outputs": []
    },
    {
      "cell_type": "code",
      "metadata": {
        "colab": {
          "base_uri": "https://localhost:8080/",
          "height": 700
        },
        "id": "hV8cghxCIFOE",
        "outputId": "2d7c05e9-e630-4cf7-a205-cd70a5086dce"
      },
      "source": [
        "plot_with_matplotlib(x_vals, y_vals, labels)"
      ],
      "execution_count": null,
      "outputs": [
        {
          "output_type": "display_data",
          "data": {
            "image/png": "[encoded data removed]",
            "text/plain": [
              "<Figure size 864x864 with 1 Axes>"
            ]
          },
          "metadata": {
            "tags": [],
            "needs_background": "light"
          }
        }
      ]
    },
    {
      "cell_type": "markdown",
      "metadata": {
        "id": "29zMlVefJ0Y3"
      },
      "source": [
        "#### UMAP\n"
      ]
    },
    {
      "cell_type": "code",
      "metadata": {
        "id": "f-GG9EKUJjFK"
      },
      "source": [
        "import umap\n",
        "embedding = umap.UMAP(random_state=50).fit_transform(model_50d.wv.vectors)"
      ],
      "execution_count": 618,
      "outputs": []
    },
    {
      "cell_type": "code",
      "metadata": {
        "colab": {
          "base_uri": "https://localhost:8080/",
          "height": 733
        },
        "id": "9m8pXwDxKa7D",
        "outputId": "28a1f13a-9033-4515-8779-c4f01c62ed78"
      },
      "source": [
        "plt.figure(figsize=(12, 12))\n",
        "plt.scatter(embedding[:, 0], embedding[:, 1])\n",
        "plt.title('UMAP projection of the 50d Fashion Review Embedding')"
      ],
      "execution_count": 619,
      "outputs": [
        {
          "output_type": "execute_result",
          "data": {
            "text/plain": [
              "Text(0.5, 1.0, 'UMAP projection of the 50d Clothing Dataset')"
            ]
          },
          "metadata": {
            "tags": []
          },
          "execution_count": 619
        },
        {
          "output_type": "display_data",
          "data": {
            "image/png": "[encoded data removed]",
            "text/plain": [
              "<Figure size 864x864 with 1 Axes>"
            ]
          },
          "metadata": {
            "tags": [],
            "needs_background": "light"
          }
        }
      ]
    },
    {
      "cell_type": "code",
      "metadata": {
        "colab": {
          "base_uri": "https://localhost:8080/",
          "height": 733
        },
        "id": "hq1NX8WYOpll",
        "outputId": "f41bd752-3569-426b-a453-488ed6cb9a0a"
      },
      "source": [
        "embedding = umap.UMAP(random_state=200).fit_transform(model_200d.wv.vectors)\n",
        "plt.figure(figsize=(12, 12))\n",
        "plt.scatter(embedding[:, 0], embedding[:, 1])\n",
        "plt.title('UMAP projection of the 200d Fashion Review Embedding')"
      ],
      "execution_count": 620,
      "outputs": [
        {
          "output_type": "execute_result",
          "data": {
            "text/plain": [
              "Text(0.5, 1.0, 'UMAP projection of the 200d Clothing Dataset')"
            ]
          },
          "metadata": {
            "tags": []
          },
          "execution_count": 620
        },
        {
          "output_type": "display_data",
          "data": {
            "image/png": "[encoded data removed]",
            "text/plain": [
              "<Figure size 864x864 with 1 Axes>"
            ]
          },
          "metadata": {
            "tags": [],
            "needs_background": "light"
          }
        }
      ]
    },
    {
      "cell_type": "markdown",
      "metadata": {
        "id": "u8kFlF3IEHOS"
      },
      "source": [
        "## Future Work: Optimizations to test\n",
        "- Preprocessing: Does using a more complex tokenizer (i.e. spaCy) improve performance?\n",
        "- Data: Does adding more data improve performance?\n",
        "- Parameter Tuning: Does changing the window size / number of dimensions improve performance?\n",
        "- Algorithm: Could a different implementation (CBOW / GloVE / PMI) improve performance?"
      ]
    },
    {
      "cell_type": "markdown",
      "metadata": {
        "id": "UCAjbclyWG1F"
      },
      "source": [
        "## Using Embeddings as inputs to ML Models"
      ]
    },
    {
      "cell_type": "markdown",
      "metadata": {
        "id": "9WFUVfPSpnom"
      },
      "source": [
        "### Generating the dataframe"
      ]
    },
    {
      "cell_type": "code",
      "metadata": {
        "id": "Uc_0CLeLp6rg"
      },
      "source": [
        "import sklearn\n",
        "from sklearn.model_selection import train_test_split\n",
        "from sklearn import linear_model\n",
        "from sklearn.metrics import accuracy_score, confusion_matrix\n",
        "import matplotlib.pyplot as plt\n",
        "from gensim.models import Word2Vec\n",
        "from sklearn.neighbors import KNeighborsClassifier\n",
        "from sklearn import linear_model"
      ],
      "execution_count": null,
      "outputs": []
    },
    {
      "cell_type": "code",
      "metadata": {
        "colab": {
          "base_uri": "https://localhost:8080/",
          "height": 359
        },
        "id": "jvi5V-NXWGY6",
        "outputId": "c37c05ce-2679-4f19-9073-4ac54cc659ed"
      },
      "source": [
        "df.sample(10)"
      ],
      "execution_count": null,
      "outputs": [
        {
          "output_type": "execute_result",
          "data": {
            "text/html": [
              "<div>\n",
              "<style scoped>\n",
              "    .dataframe tbody tr th:only-of-type {\n",
              "        vertical-align: middle;\n",
              "    }\n",
              "\n",
              "    .dataframe tbody tr th {\n",
              "        vertical-align: top;\n",
              "    }\n",
              "\n",
              "    .dataframe thead th {\n",
              "        text-align: right;\n",
              "    }\n",
              "</style>\n",
              "<table border=\"1\" class=\"dataframe\">\n",
              "  <thead>\n",
              "    <tr style=\"text-align: right;\">\n",
              "      <th></th>\n",
              "      <th>Title</th>\n",
              "      <th>Review Text</th>\n",
              "      <th>Rating</th>\n",
              "      <th>Sentiment</th>\n",
              "    </tr>\n",
              "  </thead>\n",
              "  <tbody>\n",
              "    <tr>\n",
              "      <th>6984</th>\n",
              "      <td>Breathtakingly lovely</td>\n",
              "      <td>The pictures don't do this cardi justice. it's...</td>\n",
              "      <td>5</td>\n",
              "      <td>1</td>\n",
              "    </tr>\n",
              "    <tr>\n",
              "      <th>16801</th>\n",
              "      <td>Sheik and stylish</td>\n",
              "      <td>I saw a photographer wearing this at a wedding...</td>\n",
              "      <td>5</td>\n",
              "      <td>1</td>\n",
              "    </tr>\n",
              "    <tr>\n",
              "      <th>3708</th>\n",
              "      <td>Pretty</td>\n",
              "      <td>The colors on this are beautiful! i have wider...</td>\n",
              "      <td>4</td>\n",
              "      <td>1</td>\n",
              "    </tr>\n",
              "    <tr>\n",
              "      <th>8301</th>\n",
              "      <td>Perfect pj's!</td>\n",
              "      <td>I cannot say enough about these pajama pants. ...</td>\n",
              "      <td>5</td>\n",
              "      <td>1</td>\n",
              "    </tr>\n",
              "    <tr>\n",
              "      <th>21878</th>\n",
              "      <td>Huge</td>\n",
              "      <td>This is a beautiful looking dress, but definit...</td>\n",
              "      <td>3</td>\n",
              "      <td>0</td>\n",
              "    </tr>\n",
              "    <tr>\n",
              "      <th>21266</th>\n",
              "      <td>Poor quality</td>\n",
              "      <td>I bought this t-shirt in pink, blue, red, grey...</td>\n",
              "      <td>1</td>\n",
              "      <td>0</td>\n",
              "    </tr>\n",
              "    <tr>\n",
              "      <th>8465</th>\n",
              "      <td>Beautiful dress</td>\n",
              "      <td>Beautiful dress but i had to returned because ...</td>\n",
              "      <td>4</td>\n",
              "      <td>1</td>\n",
              "    </tr>\n",
              "    <tr>\n",
              "      <th>13137</th>\n",
              "      <td>Couldn't send it back fast enough!</td>\n",
              "      <td>Unlike the other two reviews , i found this dr...</td>\n",
              "      <td>2</td>\n",
              "      <td>0</td>\n",
              "    </tr>\n",
              "    <tr>\n",
              "      <th>15999</th>\n",
              "      <td>Awesome top</td>\n",
              "      <td>I love this shirt! red + navy is one of my fav...</td>\n",
              "      <td>5</td>\n",
              "      <td>1</td>\n",
              "    </tr>\n",
              "    <tr>\n",
              "      <th>18529</th>\n",
              "      <td>Pretty, delicate top</td>\n",
              "      <td>Cute top. definitely sheer so need an undershi...</td>\n",
              "      <td>4</td>\n",
              "      <td>1</td>\n",
              "    </tr>\n",
              "  </tbody>\n",
              "</table>\n",
              "</div>"
            ],
            "text/plain": [
              "                                    Title  ... Sentiment\n",
              "6984                Breathtakingly lovely  ...         1\n",
              "16801                   Sheik and stylish  ...         1\n",
              "3708                               Pretty  ...         1\n",
              "8301                        Perfect pj's!  ...         1\n",
              "21878                                Huge  ...         0\n",
              "21266                        Poor quality  ...         0\n",
              "8465                      Beautiful dress  ...         1\n",
              "13137  Couldn't send it back fast enough!  ...         0\n",
              "15999                         Awesome top  ...         1\n",
              "18529                Pretty, delicate top  ...         1\n",
              "\n",
              "[10 rows x 4 columns]"
            ]
          },
          "metadata": {
            "tags": []
          },
          "execution_count": 446
        }
      ]
    },
    {
      "cell_type": "code",
      "metadata": {
        "colab": {
          "base_uri": "https://localhost:8080/"
        },
        "id": "vp6F2AO3WRmE",
        "outputId": "7f642f52-0c68-4c12-8c71-b8ac41fbc53f"
      },
      "source": [
        "df[\"Rating\"].value_counts()"
      ],
      "execution_count": null,
      "outputs": [
        {
          "output_type": "execute_result",
          "data": {
            "text/plain": [
              "5    12540\n",
              "4     4908\n",
              "3     2823\n",
              "2     1549\n",
              "1      821\n",
              "Name: Rating, dtype: int64"
            ]
          },
          "metadata": {
            "tags": []
          },
          "execution_count": 443
        }
      ]
    },
    {
      "cell_type": "code",
      "metadata": {
        "id": "HCDMpEYqWcXG",
        "colab": {
          "base_uri": "https://localhost:8080/",
          "height": 204
        },
        "outputId": "6237d8c2-8812-444c-9fa5-e96099b9c193"
      },
      "source": [
        "df[\"Sentiment\"] = pd.cut(df[\"Rating\"], bins=2, labels=[0, 1])\n",
        "df.head()"
      ],
      "execution_count": 629,
      "outputs": [
        {
          "output_type": "execute_result",
          "data": {
            "text/html": [
              "<div>\n",
              "<style scoped>\n",
              "    .dataframe tbody tr th:only-of-type {\n",
              "        vertical-align: middle;\n",
              "    }\n",
              "\n",
              "    .dataframe tbody tr th {\n",
              "        vertical-align: top;\n",
              "    }\n",
              "\n",
              "    .dataframe thead th {\n",
              "        text-align: right;\n",
              "    }\n",
              "</style>\n",
              "<table border=\"1\" class=\"dataframe\">\n",
              "  <thead>\n",
              "    <tr style=\"text-align: right;\">\n",
              "      <th></th>\n",
              "      <th>Title</th>\n",
              "      <th>Review Text</th>\n",
              "      <th>Rating</th>\n",
              "      <th>Sentiment</th>\n",
              "    </tr>\n",
              "  </thead>\n",
              "  <tbody>\n",
              "    <tr>\n",
              "      <th>0</th>\n",
              "      <td>Some major design flaws</td>\n",
              "      <td>I had such high hopes for this dress and reall...</td>\n",
              "      <td>3</td>\n",
              "      <td>0</td>\n",
              "    </tr>\n",
              "    <tr>\n",
              "      <th>1</th>\n",
              "      <td>My favorite buy!</td>\n",
              "      <td>I love, love, love this jumpsuit. it's fun, fl...</td>\n",
              "      <td>5</td>\n",
              "      <td>1</td>\n",
              "    </tr>\n",
              "    <tr>\n",
              "      <th>2</th>\n",
              "      <td>Flattering shirt</td>\n",
              "      <td>This shirt is very flattering to all due to th...</td>\n",
              "      <td>5</td>\n",
              "      <td>1</td>\n",
              "    </tr>\n",
              "    <tr>\n",
              "      <th>3</th>\n",
              "      <td>Not for the very petite</td>\n",
              "      <td>I love tracy reese dresses, but this one is no...</td>\n",
              "      <td>2</td>\n",
              "      <td>0</td>\n",
              "    </tr>\n",
              "    <tr>\n",
              "      <th>4</th>\n",
              "      <td>Cagrcoal shimmer fun</td>\n",
              "      <td>I aded this in my basket at hte last mintue to...</td>\n",
              "      <td>5</td>\n",
              "      <td>1</td>\n",
              "    </tr>\n",
              "  </tbody>\n",
              "</table>\n",
              "</div>"
            ],
            "text/plain": [
              "                     Title  ... Sentiment\n",
              "0  Some major design flaws  ...         0\n",
              "1         My favorite buy!  ...         1\n",
              "2         Flattering shirt  ...         1\n",
              "3  Not for the very petite  ...         0\n",
              "4     Cagrcoal shimmer fun  ...         1\n",
              "\n",
              "[5 rows x 4 columns]"
            ]
          },
          "metadata": {
            "tags": []
          },
          "execution_count": 629
        }
      ]
    },
    {
      "cell_type": "code",
      "metadata": {
        "id": "R8KXUYY5XsEZ"
      },
      "source": [
        "train_data, test_data = train_test_split(df[[\"Title\", \"Sentiment\"]], test_size=0.3, random_state=42)"
      ],
      "execution_count": 622,
      "outputs": []
    },
    {
      "cell_type": "markdown",
      "metadata": {
        "id": "WAzCJFHip0bA"
      },
      "source": [
        "### Generating the workflow\n"
      ]
    },
    {
      "cell_type": "code",
      "metadata": {
        "id": "w48OkM83YZK7"
      },
      "source": [
        "def preprocess_document(document):\n",
        "  return gensim.utils.tokenize(document, lowercase=True, deacc=True)\n",
        "  \n",
        "def word_averaging(wv, words):\n",
        "    all_words, mean = set(), []\n",
        "    \n",
        "    for word in words:\n",
        "        if isinstance(word, np.ndarray):\n",
        "            mean.append(word)\n",
        "        elif word in wv.vocab:\n",
        "            mean.append(wv.syn0norm[wv.vocab[word].index])\n",
        "            all_words.add(wv.vocab[word].index)\n",
        "\n",
        "    if not mean:\n",
        "        logging.warning(\"cannot compute similarity with no input %s\", words)\n",
        "        # FIXME: remove these examples in pre-processing\n",
        "        return np.zeros(wv.vector_size,)\n",
        "\n",
        "    mean = gensim.matutils.unitvec(np.array(mean).mean(axis=0)).astype(np.float32)\n",
        "    return mean\n",
        "\n",
        "def word_averaging_list(wv, text_list):\n",
        "    return np.vstack([word_averaging(wv, review) for review in text_list])\n",
        "\n",
        "def evaluate_prediction(predictions, target, title=\"Confusion matrix\"):\n",
        "    print('accuracy %s' % accuracy_score(target, predictions))\n",
        "    cm = confusion_matrix(target, predictions)\n",
        "    print('confusion matrix\\n %s' % cm)\n",
        "    print('(row=expected, col=predicted)')\n",
        "    \n",
        "    cm_normalized = cm.astype('float') / cm.sum(axis=1)[:, np.newaxis]\n",
        "    plot_confusion_matrix(cm_normalized, title + ' Normalized')\n",
        "\n",
        "def plot_confusion_matrix(cm, title='Confusion matrix', cmap=plt.cm.Blues):\n",
        "    plt.imshow(cm, interpolation='nearest', cmap=cmap)\n",
        "    plt.title(title)\n",
        "    plt.colorbar()\n",
        "    tick_marks = np.arange(2)\n",
        "    target_names = [\"Negative\", \"Positive\"]\n",
        "    plt.xticks(tick_marks, target_names, rotation=45)\n",
        "    plt.yticks(tick_marks, target_names)\n",
        "    plt.tight_layout()\n",
        "    plt.ylabel('True label')\n",
        "    plt.xlabel('Predicted label')\n",
        "\n",
        "def predict(vectorizer, classifier, data):\n",
        "    data_features = vectorizer.transform(data['plot'])\n",
        "    predictions = classifier.predict(data_features)\n",
        "    target = data[\"Sentiment\"]\n",
        "    evaluate_prediction(predictions, target)"
      ],
      "execution_count": null,
      "outputs": []
    },
    {
      "cell_type": "code",
      "metadata": {
        "id": "u-gtPhQrY5fe"
      },
      "source": [
        "test_tokenized = test_data.apply(lambda x: list(preprocess_document(x['Title'])), axis=1).values\n",
        "train_tokenized = train_data.apply(lambda x: list(preprocess_document(x['Title'])), axis=1).values"
      ],
      "execution_count": 623,
      "outputs": []
    },
    {
      "cell_type": "markdown",
      "metadata": {
        "id": "l1-cZ_38qd0I"
      },
      "source": [
        "### Results"
      ]
    },
    {
      "cell_type": "markdown",
      "metadata": {
        "id": "7EDBwxTMqmGG"
      },
      "source": [
        "#### Custom Fashion Review Embedding"
      ]
    },
    {
      "cell_type": "code",
      "metadata": {
        "colab": {
          "base_uri": "https://localhost:8080/"
        },
        "id": "V3PzfSmoZrLU",
        "outputId": "fbf5abf7-56aa-4fac-c2be-2976014eae6a"
      },
      "source": [
        "X_train_word_average_50d = word_averaging_list(model_50d.wv,train_tokenized)\n",
        "X_test_word_average_50d = word_averaging_list(model_50d.wv,test_tokenized)"
      ],
      "execution_count": 624,
      "outputs": [
        {
          "output_type": "stream",
          "text": [
            "/usr/local/lib/python3.6/dist-packages/ipykernel_launcher.py:8: DeprecationWarning:\n",
            "\n",
            "Call to deprecated `syn0norm` (Attribute will be removed in 4.0.0, use self.wv.vectors_norm instead).\n",
            "\n",
            "WARNING:root:cannot compute similarity with no input ['ick']\n",
            "WARNING:root:cannot compute similarity with no input ['nippley']\n",
            "WARNING:root:cannot compute similarity with no input ['awsome']\n",
            "WARNING:root:cannot compute similarity with no input ['mehh']\n",
            "WARNING:root:cannot compute similarity with no input ['pilly']\n",
            "WARNING:root:cannot compute similarity with no input ['cleo', 'jumsuit']\n",
            "WARNING:root:cannot compute similarity with no input ['frompy']\n",
            "WARNING:root:cannot compute similarity with no input ['stunna']\n",
            "WARNING:root:cannot compute similarity with no input ['ehhh']\n",
            "WARNING:root:cannot compute similarity with no input ['ehhhh']\n",
            "WARNING:root:cannot compute similarity with no input ['nancydee']\n",
            "WARNING:root:cannot compute similarity with no input ['epic']\n",
            "WARNING:root:cannot compute similarity with no input ['coincidence']\n",
            "WARNING:root:cannot compute similarity with no input ['dissappointed']\n",
            "WARNING:root:cannot compute similarity with no input ['a', 'mazing']\n",
            "WARNING:root:cannot compute similarity with no input ['wowser']\n",
            "WARNING:root:cannot compute similarity with no input ['eghhh']\n",
            "WARNING:root:cannot compute similarity with no input ['tropicale', 'paradise']\n",
            "WARNING:root:cannot compute similarity with no input ['ugg']\n",
            "WARNING:root:cannot compute similarity with no input ['whispering', 'wisteria']\n",
            "WARNING:root:cannot compute similarity with no input ['mediocre']\n",
            "WARNING:root:cannot compute similarity with no input ['eek']\n",
            "WARNING:root:cannot compute similarity with no input []\n",
            "WARNING:root:cannot compute similarity with no input ['a', 'd', 'o', 'r', 'a', 'b', 'l', 'e']\n",
            "WARNING:root:cannot compute similarity with no input ['huesca']\n",
            "WARNING:root:cannot compute similarity with no input ['jeunet']\n",
            "WARNING:root:cannot compute similarity with no input ['bainbridge']\n",
            "WARNING:root:cannot compute similarity with no input ['preggers']\n",
            "WARNING:root:cannot compute similarity with no input ['zowie']\n",
            "WARNING:root:cannot compute similarity with no input ['satisfactory']\n",
            "WARNING:root:cannot compute similarity with no input ['luscious', 'luster']\n",
            "WARNING:root:cannot compute similarity with no input ['cuteandcomfy']\n",
            "WARNING:root:cannot compute similarity with no input ['dazzling']\n",
            "WARNING:root:cannot compute similarity with no input ['wowza']\n",
            "WARNING:root:cannot compute similarity with no input ['yee', 'haw']\n",
            "WARNING:root:cannot compute similarity with no input ['ahahahaha']\n",
            "WARNING:root:cannot compute similarity with no input ['slayed']\n",
            "WARNING:root:cannot compute similarity with no input ['ichy']\n",
            "WARNING:root:cannot compute similarity with no input ['beautifullllll']\n",
            "WARNING:root:cannot compute similarity with no input ['a', 'longing']\n",
            "WARNING:root:cannot compute similarity with no input ['yessssss']\n",
            "WARNING:root:cannot compute similarity with no input ['alicia']\n",
            "WARNING:root:cannot compute similarity with no input ['looove']\n",
            "WARNING:root:cannot compute similarity with no input ['a']\n",
            "WARNING:root:cannot compute similarity with no input ['channeling', 'laura', 'ingalls', 'wilder']\n",
            "WARNING:root:cannot compute similarity with no input ['reliable']\n",
            "WARNING:root:cannot compute similarity with no input ['perfecto']\n",
            "WARNING:root:cannot compute similarity with no input ['shriks']\n",
            "WARNING:root:cannot compute similarity with no input ['besutiful']\n",
            "WARNING:root:cannot compute similarity with no input ['gor', 'geous']\n",
            "WARNING:root:cannot compute similarity with no input ['yasss']\n",
            "WARNING:root:cannot compute similarity with no input ['memories']\n",
            "WARNING:root:cannot compute similarity with no input ['cooommfey']\n",
            "WARNING:root:cannot compute similarity with no input ['bohoranna', 'rhapsody']\n",
            "WARNING:root:cannot compute similarity with no input ['entrancing']\n",
            "WARNING:root:cannot compute similarity with no input ['chinolicious']\n",
            "WARNING:root:cannot compute similarity with no input ['stunninng']\n",
            "WARNING:root:cannot compute similarity with no input ['nah']\n",
            "WARNING:root:cannot compute similarity with no input []\n",
            "WARNING:root:cannot compute similarity with no input ['pillsville']\n",
            "WARNING:root:cannot compute similarity with no input ['adorbs']\n",
            "WARNING:root:cannot compute similarity with no input ['individuality']\n",
            "WARNING:root:cannot compute similarity with no input ['uhhhmmmazing']\n",
            "WARNING:root:cannot compute similarity with no input ['itchytown']\n",
            "WARNING:root:cannot compute similarity with no input ['chirpy', 'sleepy']\n",
            "WARNING:root:cannot compute similarity with no input ['wowsa']\n",
            "WARNING:root:cannot compute similarity with no input ['lampshade']\n",
            "WARNING:root:cannot compute similarity with no input ['versitle']\n",
            "WARNING:root:cannot compute similarity with no input ['awesomesauce']\n",
            "WARNING:root:cannot compute similarity with no input ['pefect']\n",
            "WARNING:root:cannot compute similarity with no input ['a', 'necessity']\n",
            "WARNING:root:cannot compute similarity with no input ['sublime']\n",
            "WARNING:root:cannot compute similarity with no input ['beauitful']\n",
            "WARNING:root:cannot compute similarity with no input ['ego', 'booster']\n",
            "WARNING:root:cannot compute similarity with no input ['adorbs']\n",
            "WARNING:root:cannot compute similarity with no input ['sparkles']\n",
            "WARNING:root:cannot compute similarity with no input ['cheesy']\n",
            "WARNING:root:cannot compute similarity with no input ['lovelovelove']\n",
            "WARNING:root:cannot compute similarity with no input ['bloomsbury']\n",
            "WARNING:root:cannot compute similarity with no input ['loveee']\n",
            "WARNING:root:cannot compute similarity with no input ['gross']\n",
            "WARNING:root:cannot compute similarity with no input ['pilly']\n",
            "WARNING:root:cannot compute similarity with no input ['lovelove']\n",
            "WARNING:root:cannot compute similarity with no input ['foxy']\n",
            "WARNING:root:cannot compute similarity with no input ['disapppointed']\n",
            "WARNING:root:cannot compute similarity with no input ['channeling', 'sophia', 'loren']\n",
            "WARNING:root:cannot compute similarity with no input ['failure']\n",
            "WARNING:root:cannot compute similarity with no input ['argh']\n",
            "WARNING:root:cannot compute similarity with no input ['snaggariffic']\n",
            "WARNING:root:cannot compute similarity with no input ['indecisive']\n",
            "WARNING:root:cannot compute similarity with no input ['magica']\n",
            "WARNING:root:cannot compute similarity with no input ['yee', 'haw']\n",
            "WARNING:root:cannot compute similarity with no input ['looooove']\n",
            "WARNING:root:cannot compute similarity with no input ['mosaic', 'masterpiece']\n",
            "WARNING:root:cannot compute similarity with no input ['pancholicious']\n",
            "WARNING:root:cannot compute similarity with no input ['ewwww']\n",
            "WARNING:root:cannot compute similarity with no input ['irresistible']\n",
            "WARNING:root:cannot compute similarity with no input ['jungle', 'boogie']\n",
            "WARNING:root:cannot compute similarity with no input ['disapppointing']\n",
            "WARNING:root:cannot compute similarity with no input ['happyinpdx']\n",
            "WARNING:root:cannot compute similarity with no input ['mumsy']\n",
            "WARNING:root:cannot compute similarity with no input ['looooong']\n",
            "WARNING:root:cannot compute similarity with no input ['ahhhhmazing']\n",
            "WARNING:root:cannot compute similarity with no input ['underestimated']\n",
            "WARNING:root:cannot compute similarity with no input ['yummysweater']\n",
            "WARNING:root:cannot compute similarity with no input ['bravo']\n",
            "WARNING:root:cannot compute similarity with no input ['huuuuge']\n",
            "WARNING:root:cannot compute similarity with no input ['loooovvvvveee']\n",
            "WARNING:root:cannot compute similarity with no input ['a', 'cutie']\n",
            "WARNING:root:cannot compute similarity with no input ['tickled', 'tickled', 'tickled']\n",
            "WARNING:root:cannot compute similarity with no input ['gooooorgeous']\n",
            "WARNING:root:cannot compute similarity with no input ['springtime']\n",
            "WARNING:root:cannot compute similarity with no input ['houndstooth']\n",
            "WARNING:root:cannot compute similarity with no input ['boom']\n",
            "WARNING:root:cannot compute similarity with no input ['joliette']\n",
            "WARNING:root:cannot compute similarity with no input ['adorbs']\n"
          ],
          "name": "stderr"
        }
      ]
    },
    {
      "cell_type": "code",
      "metadata": {
        "colab": {
          "base_uri": "https://localhost:8080/",
          "height": 396
        },
        "id": "nHIPrLPXZ-b9",
        "outputId": "6782edd7-25e0-42af-bf6a-22d095f338fa"
      },
      "source": [
        "knn_naive = KNeighborsClassifier(n_neighbors=8, n_jobs=1, algorithm='brute', metric='cosine' )\n",
        "knn_naive.fit(X_train_word_average_50d, train_data[\"Sentiment\"])\n",
        "predicted = knn_naive.predict(X_test_word_average_50d)\n",
        "evaluate_prediction(predicted, test_data[\"Sentiment\"])"
      ],
      "execution_count": 625,
      "outputs": [
        {
          "output_type": "stream",
          "text": [
            "accuracy 0.8729459596815179\n",
            "confusion matrix\n",
            " [[ 989  374]\n",
            " [ 376 4164]]\n",
            "(row=expected, col=predicted)\n"
          ],
          "name": "stdout"
        },
        {
          "output_type": "display_data",
          "data": {
            "image/png": "[encoded data removed]",
            "text/plain": [
              "<Figure size 432x288 with 2 Axes>"
            ]
          },
          "metadata": {
            "tags": [],
            "needs_background": "light"
          }
        }
      ]
    },
    {
      "cell_type": "code",
      "metadata": {
        "colab": {
          "base_uri": "https://localhost:8080/",
          "height": 396
        },
        "id": "8qpsnLIjc_bR",
        "outputId": "366e82a7-2d38-4995-8261-66b99539120e"
      },
      "source": [
        "logreg = linear_model.LogisticRegression(n_jobs=1, C=1e5)\n",
        "logreg = logreg.fit(X_train_word_average_50d, train_data['Sentiment'])\n",
        "predicted = logreg.predict(X_test_word_average_50d)\n",
        "evaluate_prediction(predicted, test_data[\"Sentiment\"])"
      ],
      "execution_count": 626,
      "outputs": [
        {
          "output_type": "stream",
          "text": [
            "accuracy 0.8597323394883958\n",
            "confusion matrix\n",
            " [[ 849  514]\n",
            " [ 314 4226]]\n",
            "(row=expected, col=predicted)\n"
          ],
          "name": "stdout"
        },
        {
          "output_type": "display_data",
          "data": {
            "image/png": "[encoded data removed]",
            "text/plain": [
              "<Figure size 432x288 with 2 Axes>"
            ]
          },
          "metadata": {
            "tags": [],
            "needs_background": "light"
          }
        }
      ]
    },
    {
      "cell_type": "markdown",
      "metadata": {
        "id": "mn8hOVY0qtKo"
      },
      "source": [
        "#### Pretrained Wikipedia Embedding"
      ]
    },
    {
      "cell_type": "code",
      "metadata": {
        "colab": {
          "base_uri": "https://localhost:8080/"
        },
        "id": "bhNI0jj0fVHg",
        "outputId": "8235f5e8-c8a2-4b33-8c32-8a31de4f89b7"
      },
      "source": [
        "X_train_word_average_wiki = word_averaging_list(wiki_vectors, train_tokenized)\n",
        "X_test_word_average_wiki = word_averaging_list(wiki_vectors, test_tokenized)"
      ],
      "execution_count": null,
      "outputs": [
        {
          "output_type": "stream",
          "text": [
            "/usr/local/lib/python3.6/dist-packages/ipykernel_launcher.py:8: DeprecationWarning:\n",
            "\n",
            "Call to deprecated `syn0norm` (Attribute will be removed in 4.0.0, use self.wv.vectors_norm instead).\n",
            "\n",
            "WARNING:root:cannot compute similarity with no input ['flowly']\n",
            "WARNING:root:cannot compute similarity with no input ['nippley']\n",
            "WARNING:root:cannot compute similarity with no input ['awsome']\n",
            "WARNING:root:cannot compute similarity with no input ['mehh']\n",
            "WARNING:root:cannot compute similarity with no input ['pilly']\n",
            "WARNING:root:cannot compute similarity with no input ['frompy']\n",
            "WARNING:root:cannot compute similarity with no input ['stunna']\n",
            "WARNING:root:cannot compute similarity with no input ['ehhh']\n",
            "WARNING:root:cannot compute similarity with no input ['ehhhh']\n",
            "WARNING:root:cannot compute similarity with no input ['nancydee']\n",
            "WARNING:root:cannot compute similarity with no input ['dissappointed']\n",
            "WARNING:root:cannot compute similarity with no input ['wowser']\n",
            "WARNING:root:cannot compute similarity with no input ['eghhh']\n",
            "WARNING:root:cannot compute similarity with no input []\n",
            "WARNING:root:cannot compute similarity with no input ['preggers']\n",
            "WARNING:root:cannot compute similarity with no input ['cuteandcomfy']\n",
            "WARNING:root:cannot compute similarity with no input ['wowza']\n",
            "WARNING:root:cannot compute similarity with no input ['ahahahaha']\n",
            "WARNING:root:cannot compute similarity with no input ['ichy']\n",
            "WARNING:root:cannot compute similarity with no input ['beautifullllll']\n",
            "WARNING:root:cannot compute similarity with no input ['yessssss']\n",
            "WARNING:root:cannot compute similarity with no input ['looove']\n",
            "WARNING:root:cannot compute similarity with no input ['shriks']\n",
            "WARNING:root:cannot compute similarity with no input ['besutiful']\n",
            "WARNING:root:cannot compute similarity with no input ['yasss']\n",
            "WARNING:root:cannot compute similarity with no input ['cooommfey']\n",
            "WARNING:root:cannot compute similarity with no input ['chinolicious']\n",
            "WARNING:root:cannot compute similarity with no input ['stunninng']\n",
            "WARNING:root:cannot compute similarity with no input []\n",
            "WARNING:root:cannot compute similarity with no input ['pillsville']\n",
            "WARNING:root:cannot compute similarity with no input ['adorbs']\n",
            "WARNING:root:cannot compute similarity with no input ['uhhhmmmazing']\n",
            "WARNING:root:cannot compute similarity with no input ['itchytown']\n",
            "WARNING:root:cannot compute similarity with no input ['wowsa']\n",
            "WARNING:root:cannot compute similarity with no input ['versitle']\n",
            "WARNING:root:cannot compute similarity with no input ['awesomesauce']\n",
            "WARNING:root:cannot compute similarity with no input ['pefect']\n",
            "WARNING:root:cannot compute similarity with no input ['beauitful']\n",
            "WARNING:root:cannot compute similarity with no input ['adorbs']\n",
            "WARNING:root:cannot compute similarity with no input ['lovelovelove']\n",
            "WARNING:root:cannot compute similarity with no input ['loveee']\n",
            "WARNING:root:cannot compute similarity with no input ['versitile']\n",
            "WARNING:root:cannot compute similarity with no input ['pilly']\n",
            "WARNING:root:cannot compute similarity with no input ['lovelove']\n",
            "WARNING:root:cannot compute similarity with no input ['versitile']\n",
            "WARNING:root:cannot compute similarity with no input ['disapppointed']\n",
            "WARNING:root:cannot compute similarity with no input ['snaggariffic']\n",
            "WARNING:root:cannot compute similarity with no input ['buttondown']\n",
            "WARNING:root:cannot compute similarity with no input ['looooove']\n",
            "WARNING:root:cannot compute similarity with no input ['pancholicious']\n",
            "WARNING:root:cannot compute similarity with no input ['ewwww']\n",
            "WARNING:root:cannot compute similarity with no input ['disapppointing']\n",
            "WARNING:root:cannot compute similarity with no input ['happyinpdx']\n",
            "WARNING:root:cannot compute similarity with no input ['mumsy']\n",
            "WARNING:root:cannot compute similarity with no input ['looooong']\n",
            "WARNING:root:cannot compute similarity with no input ['ahhhhmazing']\n",
            "WARNING:root:cannot compute similarity with no input ['yummysweater']\n",
            "WARNING:root:cannot compute similarity with no input ['huuuuge']\n",
            "WARNING:root:cannot compute similarity with no input ['loooovvvvveee']\n",
            "WARNING:root:cannot compute similarity with no input ['gooooorgeous']\n",
            "WARNING:root:cannot compute similarity with no input ['adorbs']\n"
          ],
          "name": "stderr"
        }
      ]
    },
    {
      "cell_type": "code",
      "metadata": {
        "colab": {
          "base_uri": "https://localhost:8080/",
          "height": 396
        },
        "id": "dAdT-FtMeGiT",
        "outputId": "d4bd0dc5-33bb-4cb9-bc25-f65ae0611009"
      },
      "source": [
        "knn_naive = KNeighborsClassifier(n_neighbors=8, n_jobs=1, algorithm='brute', metric='cosine')\n",
        "knn_naive.fit(X_train_word_average_wiki, train_data[\"Sentiment\"])\n",
        "predicted = knn_naive.predict(X_test_word_average_wiki)\n",
        "evaluate_prediction(predicted, test_data[\"Sentiment\"])"
      ],
      "execution_count": null,
      "outputs": [
        {
          "output_type": "stream",
          "text": [
            "accuracy 0.8422835846179908\n",
            "confusion matrix\n",
            " [[ 865  498]\n",
            " [ 433 4107]]\n",
            "(row=expected, col=predicted)\n"
          ],
          "name": "stdout"
        },
        {
          "output_type": "display_data",
          "data": {
            "image/png": "[encoded data removed]",
            "text/plain": [
              "<Figure size 432x288 with 2 Axes>"
            ]
          },
          "metadata": {
            "tags": [],
            "needs_background": "light"
          }
        }
      ]
    },
    {
      "cell_type": "markdown",
      "metadata": {
        "id": "K8rSWHXWqyZk"
      },
      "source": [
        "#### Pretrained Twitter Embedding"
      ]
    },
    {
      "cell_type": "code",
      "metadata": {
        "colab": {
          "base_uri": "https://localhost:8080/"
        },
        "id": "CyKAXrgpf11h",
        "outputId": "bc4fb69c-d2ae-40ae-fb52-fab431a0ac8b"
      },
      "source": [
        "X_train_word_average_twitter = word_averaging_list(twitter_vectors, train_tokenized)\n",
        "X_test_word_average_twitter = word_averaging_list(twitter_vectors, test_tokenized)"
      ],
      "execution_count": null,
      "outputs": [
        {
          "output_type": "stream",
          "text": [
            "/usr/local/lib/python3.6/dist-packages/ipykernel_launcher.py:8: DeprecationWarning:\n",
            "\n",
            "Call to deprecated `syn0norm` (Attribute will be removed in 4.0.0, use self.wv.vectors_norm instead).\n",
            "\n",
            "WARNING:root:cannot compute similarity with no input ['unwearable']\n",
            "WARNING:root:cannot compute similarity with no input ['flowly']\n",
            "WARNING:root:cannot compute similarity with no input ['flouncy']\n",
            "WARNING:root:cannot compute similarity with no input ['frompy']\n",
            "WARNING:root:cannot compute similarity with no input ['shirtdress']\n",
            "WARNING:root:cannot compute similarity with no input ['ehhhh']\n",
            "WARNING:root:cannot compute similarity with no input ['nancydee']\n",
            "WARNING:root:cannot compute similarity with no input ['poufy', 'ruching']\n",
            "WARNING:root:cannot compute similarity with no input ['eghhh']\n",
            "WARNING:root:cannot compute similarity with no input []\n",
            "WARNING:root:cannot compute similarity with no input ['jeunet']\n",
            "WARNING:root:cannot compute similarity with no input ['cuteandcomfy']\n",
            "WARNING:root:cannot compute similarity with no input ['beautifullllll']\n",
            "WARNING:root:cannot compute similarity with no input ['yessssss']\n",
            "WARNING:root:cannot compute similarity with no input ['shriks']\n",
            "WARNING:root:cannot compute similarity with no input ['muumuu']\n",
            "WARNING:root:cannot compute similarity with no input ['yasss']\n",
            "WARNING:root:cannot compute similarity with no input ['cooommfey']\n",
            "WARNING:root:cannot compute similarity with no input ['chinolicious']\n",
            "WARNING:root:cannot compute similarity with no input ['stunninng']\n",
            "WARNING:root:cannot compute similarity with no input []\n",
            "WARNING:root:cannot compute similarity with no input ['pillsville']\n",
            "WARNING:root:cannot compute similarity with no input ['uhhhmmmazing']\n",
            "WARNING:root:cannot compute similarity with no input ['itchytown']\n",
            "WARNING:root:cannot compute similarity with no input ['versitle']\n",
            "WARNING:root:cannot compute similarity with no input ['loveee']\n",
            "WARNING:root:cannot compute similarity with no input ['versitile']\n",
            "WARNING:root:cannot compute similarity with no input ['versitile']\n",
            "WARNING:root:cannot compute similarity with no input ['disapppointed']\n",
            "WARNING:root:cannot compute similarity with no input ['snaggariffic']\n",
            "WARNING:root:cannot compute similarity with no input ['muumuu']\n",
            "WARNING:root:cannot compute similarity with no input ['buttondown']\n",
            "WARNING:root:cannot compute similarity with no input ['pancholicious']\n",
            "WARNING:root:cannot compute similarity with no input ['ewwww']\n",
            "WARNING:root:cannot compute similarity with no input ['disapppointing']\n",
            "WARNING:root:cannot compute similarity with no input ['happyinpdx']\n",
            "WARNING:root:cannot compute similarity with no input ['drapey']\n",
            "WARNING:root:cannot compute similarity with no input ['yummysweater']\n",
            "WARNING:root:cannot compute similarity with no input ['loooovvvvveee']\n",
            "WARNING:root:cannot compute similarity with no input ['gooooorgeous']\n",
            "WARNING:root:cannot compute similarity with no input ['muumuu']\n"
          ],
          "name": "stderr"
        }
      ]
    },
    {
      "cell_type": "code",
      "metadata": {
        "colab": {
          "base_uri": "https://localhost:8080/",
          "height": 396
        },
        "id": "HXNpgQ1neSbY",
        "outputId": "79938b0a-520f-4be3-c6eb-def716afbcae"
      },
      "source": [
        "knn_naive = KNeighborsClassifier(n_neighbors=8, n_jobs=1, algorithm='brute', metric='cosine')\n",
        "knn_naive.fit(X_train_word_average_twitter, train_data[\"Sentiment\"])\n",
        "predicted = knn_naive.predict(X_test_word_average_twitter)\n",
        "evaluate_prediction(predicted, test_data[\"Sentiment\"])"
      ],
      "execution_count": null,
      "outputs": [
        {
          "output_type": "stream",
          "text": [
            "accuracy 0.8414365576825343\n",
            "confusion matrix\n",
            " [[ 911  452]\n",
            " [ 484 4056]]\n",
            "(row=expected, col=predicted)\n"
          ],
          "name": "stdout"
        },
        {
          "output_type": "display_data",
          "data": {
            "image/png": "[encoded data removed]",
            "text/plain": [
              "<Figure size 432x288 with 2 Axes>"
            ]
          },
          "metadata": {
            "tags": [],
            "needs_background": "light"
          }
        }
      ]
    }
  ]
}