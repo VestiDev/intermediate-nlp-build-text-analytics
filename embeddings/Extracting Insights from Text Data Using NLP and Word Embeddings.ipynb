{
  "nbformat": 4,
  "nbformat_minor": 0,
  "metadata": {
    "colab": {
      "name": "Embeddings.ipynb",
      "provenance": [],
      "collapsed_sections": [],
      "toc_visible": true,
      "authorship_tag": "ABX9TyNGcc2U42h/oHqlvhKCv0s9",
      "include_colab_link": true
    },
    "kernelspec": {
      "name": "python3",
      "display_name": "Python 3"
    }
  },
  "cells": [
    {
      "cell_type": "markdown",
      "metadata": {
        "id": "view-in-github",
        "colab_type": "text"
      },
      "source": [
        "<a href=\"https://colab.research.google.com/github/mjahanshahi/intermediate-nlp/blob/master/embeddings/Extracting%20Insights%20from%20Text%20Data%20Using%20NLP%20and%20Word%20Embeddings.ipynb\" target=\"_parent\"><img src=\"https://colab.research.google.com/assets/colab-badge.svg\" alt=\"Open In Colab\"/></a>"
      ]
    },
    {
      "cell_type": "markdown",
      "metadata": {
        "id": "b6036oQiGUuD"
      },
      "source": [
        "# Embeddings"
      ]
    },
    {
      "cell_type": "markdown",
      "metadata": {
        "id": "WXboBrcXoBnV"
      },
      "source": [
        "## Generating Embeddings"
      ]
    },
    {
      "cell_type": "markdown",
      "metadata": {
        "id": "LAuvdyTToDX9"
      },
      "source": [
        "### Preprocessing the Corpus"
      ]
    },
    {
      "cell_type": "code",
      "metadata": {
        "id": "OkohIKmWWUaR"
      },
      "source": [
        "import gensim \n",
        "from gensim.test.utils import datapath\n",
        "import pandas as pd\n",
        "import numpy as np\n",
        "import matplotlib.pyplot as plt\n",
        "import logging\n",
        "logging.basicConfig(level=logging.INFO)"
      ],
      "execution_count": 1,
      "outputs": []
    },
    {
      "cell_type": "code",
      "metadata": {
        "colab": {
          "base_uri": "https://localhost:8080/"
        },
        "id": "XqMT0HgtWZ-M",
        "outputId": "2a334a55-681d-43b0-8f10-6245d799b30f"
      },
      "source": [
        "DATASET_LINK = \"https://raw.githubusercontent.com/AFAgarap/ecommerce-reviews-analysis/master/Womens%20Clothing%20E-Commerce%20Reviews.csv\"\n",
        "df = pd.read_csv(DATASET_LINK, index_col = 0, usecols=[\"Clothing ID\", \"Title\", \"Review Text\", \"Rating\"])\n",
        "df.shape"
      ],
      "execution_count": 2,
      "outputs": [
        {
          "output_type": "execute_result",
          "data": {
            "text/plain": [
              "(23486, 3)"
            ]
          },
          "metadata": {
            "tags": []
          },
          "execution_count": 2
        }
      ]
    },
    {
      "cell_type": "code",
      "metadata": {
        "colab": {
          "base_uri": "https://localhost:8080/",
          "height": 235
        },
        "id": "WEQbYF1MXz_U",
        "outputId": "b15cadb9-4b6b-447c-fe45-c62318f17e1d"
      },
      "source": [
        "df.head()"
      ],
      "execution_count": 3,
      "outputs": [
        {
          "output_type": "execute_result",
          "data": {
            "text/html": [
              "<div>\n",
              "<style scoped>\n",
              "    .dataframe tbody tr th:only-of-type {\n",
              "        vertical-align: middle;\n",
              "    }\n",
              "\n",
              "    .dataframe tbody tr th {\n",
              "        vertical-align: top;\n",
              "    }\n",
              "\n",
              "    .dataframe thead th {\n",
              "        text-align: right;\n",
              "    }\n",
              "</style>\n",
              "<table border=\"1\" class=\"dataframe\">\n",
              "  <thead>\n",
              "    <tr style=\"text-align: right;\">\n",
              "      <th></th>\n",
              "      <th>Title</th>\n",
              "      <th>Review Text</th>\n",
              "      <th>Rating</th>\n",
              "    </tr>\n",
              "    <tr>\n",
              "      <th>Clothing ID</th>\n",
              "      <th></th>\n",
              "      <th></th>\n",
              "      <th></th>\n",
              "    </tr>\n",
              "  </thead>\n",
              "  <tbody>\n",
              "    <tr>\n",
              "      <th>767</th>\n",
              "      <td>NaN</td>\n",
              "      <td>Absolutely wonderful - silky and sexy and comf...</td>\n",
              "      <td>4</td>\n",
              "    </tr>\n",
              "    <tr>\n",
              "      <th>1080</th>\n",
              "      <td>NaN</td>\n",
              "      <td>Love this dress!  it's sooo pretty.  i happene...</td>\n",
              "      <td>5</td>\n",
              "    </tr>\n",
              "    <tr>\n",
              "      <th>1077</th>\n",
              "      <td>Some major design flaws</td>\n",
              "      <td>I had such high hopes for this dress and reall...</td>\n",
              "      <td>3</td>\n",
              "    </tr>\n",
              "    <tr>\n",
              "      <th>1049</th>\n",
              "      <td>My favorite buy!</td>\n",
              "      <td>I love, love, love this jumpsuit. it's fun, fl...</td>\n",
              "      <td>5</td>\n",
              "    </tr>\n",
              "    <tr>\n",
              "      <th>847</th>\n",
              "      <td>Flattering shirt</td>\n",
              "      <td>This shirt is very flattering to all due to th...</td>\n",
              "      <td>5</td>\n",
              "    </tr>\n",
              "  </tbody>\n",
              "</table>\n",
              "</div>"
            ],
            "text/plain": [
              "                               Title  ... Rating\n",
              "Clothing ID                           ...       \n",
              "767                              NaN  ...      4\n",
              "1080                             NaN  ...      5\n",
              "1077         Some major design flaws  ...      3\n",
              "1049                My favorite buy!  ...      5\n",
              "847                 Flattering shirt  ...      5\n",
              "\n",
              "[5 rows x 3 columns]"
            ]
          },
          "metadata": {
            "tags": []
          },
          "execution_count": 3
        }
      ]
    },
    {
      "cell_type": "code",
      "metadata": {
        "colab": {
          "base_uri": "https://localhost:8080/"
        },
        "id": "q0gnlPcgYI5s",
        "outputId": "d99f1ce2-c5ab-4d4c-f323-f0fb9f963702"
      },
      "source": [
        "# Lets remove any review without a text review or a rating\n",
        "df.dropna(how = \"any\", subset=['Title', 'Review Text', 'Rating'], inplace=True)\n",
        "df.reset_index(drop=True, inplace=True)\n",
        "df.shape"
      ],
      "execution_count": 4,
      "outputs": [
        {
          "output_type": "stream",
          "text": [
            "INFO:numexpr.utils:NumExpr defaulting to 2 threads.\n"
          ],
          "name": "stderr"
        },
        {
          "output_type": "execute_result",
          "data": {
            "text/plain": [
              "(19675, 3)"
            ]
          },
          "metadata": {
            "tags": []
          },
          "execution_count": 4
        }
      ]
    },
    {
      "cell_type": "code",
      "metadata": {
        "id": "xXN8MjIrZ1Fs"
      },
      "source": [
        "tokenized_docs = []\n",
        "for document in df[\"Review Text\"].to_list():\n",
        "  tokenized_doc = list(gensim.utils.tokenize(document, lowercase=True, deacc=True))\n",
        "  tokenized_docs.append(tokenized_doc)\n",
        "#TODO: Replace with an iterator"
      ],
      "execution_count": 5,
      "outputs": []
    },
    {
      "cell_type": "markdown",
      "metadata": {
        "id": "YfphviyJnaal"
      },
      "source": [
        "### Training Two Word Embeddings Models"
      ]
    },
    {
      "cell_type": "code",
      "metadata": {
        "colab": {
          "base_uri": "https://localhost:8080/"
        },
        "id": "Qx6uP__eoxGN",
        "outputId": "60cc0f5e-166f-4c06-fa81-619941a21d06"
      },
      "source": [
        "model_50d = gensim.models.Word2Vec(tokenized_docs, size=50, workers=4, sg=1)\n",
        "model_50d.train(tokenized_docs, total_examples=df.shape[0], epochs=10)\n",
        "\n",
        "model_200d = gensim.models.Word2Vec(tokenized_docs, size=200, workers=4, sg=1)\n",
        "model_200d.train(tokenized_docs, total_examples=df.shape[0], epochs=10)"
      ],
      "execution_count": 6,
      "outputs": [
        {
          "output_type": "stream",
          "text": [
            "WARNING:gensim.models.base_any2vec:consider setting layer size to a multiple of 4 for greater performance\n",
            "INFO:gensim.models.word2vec:collecting all words and their counts\n",
            "INFO:gensim.models.word2vec:PROGRESS: at sentence #0, processed 0 words, keeping 0 word types\n",
            "INFO:gensim.models.word2vec:PROGRESS: at sentence #10000, processed 622075 words, keeping 9767 word types\n",
            "INFO:gensim.models.word2vec:collected 13076 word types from a corpus of 1233355 raw words and 19675 sentences\n",
            "INFO:gensim.models.word2vec:Loading a fresh vocabulary\n",
            "INFO:gensim.models.word2vec:effective_min_count=5 retains 4600 unique words (35% of original 13076, drops 8476)\n",
            "INFO:gensim.models.word2vec:effective_min_count=5 leaves 1219795 word corpus (98% of original 1233355, drops 13560)\n",
            "INFO:gensim.models.word2vec:deleting the raw counts dictionary of 13076 items\n",
            "INFO:gensim.models.word2vec:sample=0.001 downsamples 59 most-common words\n",
            "INFO:gensim.models.word2vec:downsampling leaves estimated 817424 word corpus (67.0% of prior 1219795)\n",
            "INFO:gensim.models.base_any2vec:estimated required memory for 4600 words and 50 dimensions: 4140000 bytes\n",
            "INFO:gensim.models.word2vec:resetting layer weights\n",
            "INFO:gensim.models.base_any2vec:training model with 4 workers on 4600 vocabulary and 50 features, using sg=1 hs=0 sample=0.001 negative=5 window=5\n",
            "INFO:gensim.models.base_any2vec:EPOCH 1 - PROGRESS: at 20.81% examples, 158978 words/s, in_qsize 7, out_qsize 0\n",
            "INFO:gensim.models.base_any2vec:EPOCH 1 - PROGRESS: at 43.85% examples, 166522 words/s, in_qsize 7, out_qsize 0\n",
            "INFO:gensim.models.base_any2vec:EPOCH 1 - PROGRESS: at 66.48% examples, 171331 words/s, in_qsize 7, out_qsize 0\n",
            "INFO:gensim.models.base_any2vec:EPOCH 1 - PROGRESS: at 87.17% examples, 170880 words/s, in_qsize 7, out_qsize 0\n",
            "INFO:gensim.models.base_any2vec:worker thread finished; awaiting finish of 3 more threads\n",
            "INFO:gensim.models.base_any2vec:worker thread finished; awaiting finish of 2 more threads\n",
            "INFO:gensim.models.base_any2vec:worker thread finished; awaiting finish of 1 more threads\n",
            "INFO:gensim.models.base_any2vec:worker thread finished; awaiting finish of 0 more threads\n",
            "INFO:gensim.models.base_any2vec:EPOCH - 1 : training on 1233355 raw words (818146 effective words) took 4.7s, 173368 effective words/s\n",
            "INFO:gensim.models.base_any2vec:EPOCH 2 - PROGRESS: at 20.83% examples, 161419 words/s, in_qsize 7, out_qsize 0\n",
            "INFO:gensim.models.base_any2vec:EPOCH 2 - PROGRESS: at 42.26% examples, 164522 words/s, in_qsize 7, out_qsize 0\n",
            "INFO:gensim.models.base_any2vec:EPOCH 2 - PROGRESS: at 64.87% examples, 168948 words/s, in_qsize 7, out_qsize 0\n",
            "INFO:gensim.models.base_any2vec:EPOCH 2 - PROGRESS: at 86.42% examples, 170294 words/s, in_qsize 7, out_qsize 0\n",
            "INFO:gensim.models.base_any2vec:worker thread finished; awaiting finish of 3 more threads\n",
            "INFO:gensim.models.base_any2vec:worker thread finished; awaiting finish of 2 more threads\n",
            "INFO:gensim.models.base_any2vec:worker thread finished; awaiting finish of 1 more threads\n",
            "INFO:gensim.models.base_any2vec:worker thread finished; awaiting finish of 0 more threads\n",
            "INFO:gensim.models.base_any2vec:EPOCH - 2 : training on 1233355 raw words (817399 effective words) took 4.7s, 172111 effective words/s\n",
            "INFO:gensim.models.base_any2vec:EPOCH 3 - PROGRESS: at 20.90% examples, 153293 words/s, in_qsize 6, out_qsize 1\n",
            "INFO:gensim.models.base_any2vec:EPOCH 3 - PROGRESS: at 44.73% examples, 167552 words/s, in_qsize 7, out_qsize 0\n",
            "INFO:gensim.models.base_any2vec:EPOCH 3 - PROGRESS: at 65.68% examples, 168037 words/s, in_qsize 7, out_qsize 0\n",
            "INFO:gensim.models.base_any2vec:EPOCH 3 - PROGRESS: at 87.17% examples, 169293 words/s, in_qsize 7, out_qsize 0\n",
            "INFO:gensim.models.base_any2vec:worker thread finished; awaiting finish of 3 more threads\n",
            "INFO:gensim.models.base_any2vec:worker thread finished; awaiting finish of 2 more threads\n",
            "INFO:gensim.models.base_any2vec:worker thread finished; awaiting finish of 1 more threads\n",
            "INFO:gensim.models.base_any2vec:worker thread finished; awaiting finish of 0 more threads\n",
            "INFO:gensim.models.base_any2vec:EPOCH - 3 : training on 1233355 raw words (817498 effective words) took 4.7s, 172241 effective words/s\n",
            "INFO:gensim.models.base_any2vec:EPOCH 4 - PROGRESS: at 20.02% examples, 155035 words/s, in_qsize 7, out_qsize 0\n",
            "INFO:gensim.models.base_any2vec:EPOCH 4 - PROGRESS: at 43.85% examples, 168266 words/s, in_qsize 7, out_qsize 0\n",
            "INFO:gensim.models.base_any2vec:EPOCH 4 - PROGRESS: at 64.87% examples, 167110 words/s, in_qsize 7, out_qsize 0\n",
            "INFO:gensim.models.base_any2vec:EPOCH 4 - PROGRESS: at 86.42% examples, 169710 words/s, in_qsize 7, out_qsize 0\n",
            "INFO:gensim.models.base_any2vec:worker thread finished; awaiting finish of 3 more threads\n",
            "INFO:gensim.models.base_any2vec:worker thread finished; awaiting finish of 2 more threads\n",
            "INFO:gensim.models.base_any2vec:worker thread finished; awaiting finish of 1 more threads\n",
            "INFO:gensim.models.base_any2vec:worker thread finished; awaiting finish of 0 more threads\n",
            "INFO:gensim.models.base_any2vec:EPOCH - 4 : training on 1233355 raw words (817290 effective words) took 4.7s, 172337 effective words/s\n",
            "INFO:gensim.models.base_any2vec:EPOCH 5 - PROGRESS: at 20.81% examples, 160723 words/s, in_qsize 7, out_qsize 0\n",
            "INFO:gensim.models.base_any2vec:EPOCH 5 - PROGRESS: at 43.85% examples, 168725 words/s, in_qsize 7, out_qsize 0\n",
            "INFO:gensim.models.base_any2vec:EPOCH 5 - PROGRESS: at 65.68% examples, 169669 words/s, in_qsize 7, out_qsize 0\n",
            "INFO:gensim.models.base_any2vec:EPOCH 5 - PROGRESS: at 87.17% examples, 171624 words/s, in_qsize 7, out_qsize 0\n",
            "INFO:gensim.models.base_any2vec:worker thread finished; awaiting finish of 3 more threads\n",
            "INFO:gensim.models.base_any2vec:worker thread finished; awaiting finish of 2 more threads\n",
            "INFO:gensim.models.base_any2vec:worker thread finished; awaiting finish of 1 more threads\n",
            "INFO:gensim.models.base_any2vec:worker thread finished; awaiting finish of 0 more threads\n",
            "INFO:gensim.models.base_any2vec:EPOCH - 5 : training on 1233355 raw words (817723 effective words) took 4.7s, 172683 effective words/s\n",
            "INFO:gensim.models.base_any2vec:training on a 6166775 raw words (4088056 effective words) took 23.7s, 172272 effective words/s\n",
            "WARNING:gensim.models.base_any2vec:Effective 'alpha' higher than previous training cycles\n",
            "INFO:gensim.models.base_any2vec:training model with 4 workers on 4600 vocabulary and 50 features, using sg=1 hs=0 sample=0.001 negative=5 window=5\n",
            "INFO:gensim.models.base_any2vec:EPOCH 1 - PROGRESS: at 20.81% examples, 168637 words/s, in_qsize 7, out_qsize 0\n",
            "INFO:gensim.models.base_any2vec:EPOCH 1 - PROGRESS: at 42.30% examples, 168852 words/s, in_qsize 7, out_qsize 0\n",
            "INFO:gensim.models.base_any2vec:EPOCH 1 - PROGRESS: at 64.10% examples, 167068 words/s, in_qsize 7, out_qsize 0\n",
            "INFO:gensim.models.base_any2vec:EPOCH 1 - PROGRESS: at 87.17% examples, 168347 words/s, in_qsize 8, out_qsize 1\n",
            "INFO:gensim.models.base_any2vec:worker thread finished; awaiting finish of 3 more threads\n",
            "INFO:gensim.models.base_any2vec:worker thread finished; awaiting finish of 2 more threads\n",
            "INFO:gensim.models.base_any2vec:worker thread finished; awaiting finish of 1 more threads\n",
            "INFO:gensim.models.base_any2vec:worker thread finished; awaiting finish of 0 more threads\n",
            "INFO:gensim.models.base_any2vec:EPOCH - 1 : training on 1233355 raw words (817480 effective words) took 4.7s, 172185 effective words/s\n",
            "INFO:gensim.models.base_any2vec:EPOCH 2 - PROGRESS: at 20.02% examples, 163839 words/s, in_qsize 7, out_qsize 0\n",
            "INFO:gensim.models.base_any2vec:EPOCH 2 - PROGRESS: at 43.09% examples, 167611 words/s, in_qsize 6, out_qsize 1\n",
            "INFO:gensim.models.base_any2vec:EPOCH 2 - PROGRESS: at 64.87% examples, 170874 words/s, in_qsize 7, out_qsize 0\n",
            "INFO:gensim.models.base_any2vec:EPOCH 2 - PROGRESS: at 86.42% examples, 171943 words/s, in_qsize 7, out_qsize 0\n",
            "INFO:gensim.models.base_any2vec:worker thread finished; awaiting finish of 3 more threads\n",
            "INFO:gensim.models.base_any2vec:worker thread finished; awaiting finish of 2 more threads\n",
            "INFO:gensim.models.base_any2vec:worker thread finished; awaiting finish of 1 more threads\n",
            "INFO:gensim.models.base_any2vec:worker thread finished; awaiting finish of 0 more threads\n",
            "INFO:gensim.models.base_any2vec:EPOCH - 2 : training on 1233355 raw words (816765 effective words) took 4.7s, 173753 effective words/s\n",
            "INFO:gensim.models.base_any2vec:EPOCH 3 - PROGRESS: at 20.02% examples, 161283 words/s, in_qsize 7, out_qsize 0\n",
            "INFO:gensim.models.base_any2vec:EPOCH 3 - PROGRESS: at 43.06% examples, 167660 words/s, in_qsize 7, out_qsize 0\n",
            "INFO:gensim.models.base_any2vec:EPOCH 3 - PROGRESS: at 64.87% examples, 171030 words/s, in_qsize 7, out_qsize 0\n",
            "INFO:gensim.models.base_any2vec:EPOCH 3 - PROGRESS: at 86.42% examples, 170347 words/s, in_qsize 7, out_qsize 0\n",
            "INFO:gensim.models.base_any2vec:worker thread finished; awaiting finish of 3 more threads\n",
            "INFO:gensim.models.base_any2vec:worker thread finished; awaiting finish of 2 more threads\n",
            "INFO:gensim.models.base_any2vec:worker thread finished; awaiting finish of 1 more threads\n",
            "INFO:gensim.models.base_any2vec:worker thread finished; awaiting finish of 0 more threads\n",
            "INFO:gensim.models.base_any2vec:EPOCH - 3 : training on 1233355 raw words (817551 effective words) took 4.7s, 173311 effective words/s\n",
            "INFO:gensim.models.base_any2vec:EPOCH 4 - PROGRESS: at 20.02% examples, 163761 words/s, in_qsize 7, out_qsize 0\n",
            "INFO:gensim.models.base_any2vec:EPOCH 4 - PROGRESS: at 41.47% examples, 167182 words/s, in_qsize 7, out_qsize 0\n",
            "INFO:gensim.models.base_any2vec:EPOCH 4 - PROGRESS: at 63.29% examples, 168693 words/s, in_qsize 7, out_qsize 0\n",
            "INFO:gensim.models.base_any2vec:EPOCH 4 - PROGRESS: at 84.80% examples, 171091 words/s, in_qsize 7, out_qsize 0\n",
            "INFO:gensim.models.base_any2vec:worker thread finished; awaiting finish of 3 more threads\n",
            "INFO:gensim.models.base_any2vec:worker thread finished; awaiting finish of 2 more threads\n",
            "INFO:gensim.models.base_any2vec:worker thread finished; awaiting finish of 1 more threads\n",
            "INFO:gensim.models.base_any2vec:worker thread finished; awaiting finish of 0 more threads\n",
            "INFO:gensim.models.base_any2vec:EPOCH - 4 : training on 1233355 raw words (817773 effective words) took 4.7s, 173211 effective words/s\n",
            "INFO:gensim.models.base_any2vec:EPOCH 5 - PROGRESS: at 21.61% examples, 168307 words/s, in_qsize 7, out_qsize 0\n",
            "INFO:gensim.models.base_any2vec:EPOCH 5 - PROGRESS: at 43.06% examples, 166113 words/s, in_qsize 7, out_qsize 0\n",
            "INFO:gensim.models.base_any2vec:EPOCH 5 - PROGRESS: at 64.10% examples, 167906 words/s, in_qsize 7, out_qsize 0\n",
            "INFO:gensim.models.base_any2vec:EPOCH 5 - PROGRESS: at 87.17% examples, 171043 words/s, in_qsize 7, out_qsize 0\n",
            "INFO:gensim.models.base_any2vec:worker thread finished; awaiting finish of 3 more threads\n",
            "INFO:gensim.models.base_any2vec:worker thread finished; awaiting finish of 2 more threads\n",
            "INFO:gensim.models.base_any2vec:worker thread finished; awaiting finish of 1 more threads\n",
            "INFO:gensim.models.base_any2vec:worker thread finished; awaiting finish of 0 more threads\n",
            "INFO:gensim.models.base_any2vec:EPOCH - 5 : training on 1233355 raw words (816908 effective words) took 4.7s, 173377 effective words/s\n",
            "INFO:gensim.models.base_any2vec:EPOCH 6 - PROGRESS: at 20.02% examples, 163369 words/s, in_qsize 7, out_qsize 0\n",
            "INFO:gensim.models.base_any2vec:EPOCH 6 - PROGRESS: at 42.30% examples, 168020 words/s, in_qsize 7, out_qsize 0\n",
            "INFO:gensim.models.base_any2vec:EPOCH 6 - PROGRESS: at 64.10% examples, 168977 words/s, in_qsize 7, out_qsize 0\n",
            "INFO:gensim.models.base_any2vec:EPOCH 6 - PROGRESS: at 85.60% examples, 169862 words/s, in_qsize 7, out_qsize 0\n",
            "INFO:gensim.models.base_any2vec:worker thread finished; awaiting finish of 3 more threads\n",
            "INFO:gensim.models.base_any2vec:worker thread finished; awaiting finish of 2 more threads\n",
            "INFO:gensim.models.base_any2vec:worker thread finished; awaiting finish of 1 more threads\n",
            "INFO:gensim.models.base_any2vec:worker thread finished; awaiting finish of 0 more threads\n",
            "INFO:gensim.models.base_any2vec:EPOCH - 6 : training on 1233355 raw words (817574 effective words) took 4.7s, 172571 effective words/s\n",
            "INFO:gensim.models.base_any2vec:EPOCH 7 - PROGRESS: at 20.02% examples, 157626 words/s, in_qsize 6, out_qsize 1\n",
            "INFO:gensim.models.base_any2vec:EPOCH 7 - PROGRESS: at 42.30% examples, 165900 words/s, in_qsize 7, out_qsize 0\n",
            "INFO:gensim.models.base_any2vec:EPOCH 7 - PROGRESS: at 63.29% examples, 167714 words/s, in_qsize 8, out_qsize 0\n",
            "INFO:gensim.models.base_any2vec:EPOCH 7 - PROGRESS: at 84.80% examples, 168693 words/s, in_qsize 7, out_qsize 0\n",
            "INFO:gensim.models.base_any2vec:worker thread finished; awaiting finish of 3 more threads\n",
            "INFO:gensim.models.base_any2vec:worker thread finished; awaiting finish of 2 more threads\n",
            "INFO:gensim.models.base_any2vec:worker thread finished; awaiting finish of 1 more threads\n",
            "INFO:gensim.models.base_any2vec:worker thread finished; awaiting finish of 0 more threads\n",
            "INFO:gensim.models.base_any2vec:EPOCH - 7 : training on 1233355 raw words (817693 effective words) took 4.7s, 172180 effective words/s\n",
            "INFO:gensim.models.base_any2vec:EPOCH 8 - PROGRESS: at 20.81% examples, 166838 words/s, in_qsize 7, out_qsize 0\n",
            "INFO:gensim.models.base_any2vec:EPOCH 8 - PROGRESS: at 43.06% examples, 167112 words/s, in_qsize 7, out_qsize 0\n",
            "INFO:gensim.models.base_any2vec:EPOCH 8 - PROGRESS: at 64.87% examples, 170588 words/s, in_qsize 8, out_qsize 0\n",
            "INFO:gensim.models.base_any2vec:EPOCH 8 - PROGRESS: at 86.42% examples, 170820 words/s, in_qsize 7, out_qsize 0\n",
            "INFO:gensim.models.base_any2vec:worker thread finished; awaiting finish of 3 more threads\n",
            "INFO:gensim.models.base_any2vec:worker thread finished; awaiting finish of 2 more threads\n",
            "INFO:gensim.models.base_any2vec:worker thread finished; awaiting finish of 1 more threads\n",
            "INFO:gensim.models.base_any2vec:worker thread finished; awaiting finish of 0 more threads\n",
            "INFO:gensim.models.base_any2vec:EPOCH - 8 : training on 1233355 raw words (817402 effective words) took 4.7s, 173312 effective words/s\n",
            "INFO:gensim.models.base_any2vec:EPOCH 9 - PROGRESS: at 20.06% examples, 158547 words/s, in_qsize 7, out_qsize 0\n",
            "INFO:gensim.models.base_any2vec:EPOCH 9 - PROGRESS: at 43.06% examples, 168195 words/s, in_qsize 7, out_qsize 0\n",
            "INFO:gensim.models.base_any2vec:EPOCH 9 - PROGRESS: at 64.10% examples, 167870 words/s, in_qsize 7, out_qsize 0\n",
            "INFO:gensim.models.base_any2vec:EPOCH 9 - PROGRESS: at 87.17% examples, 171300 words/s, in_qsize 7, out_qsize 0\n",
            "INFO:gensim.models.base_any2vec:worker thread finished; awaiting finish of 3 more threads\n",
            "INFO:gensim.models.base_any2vec:worker thread finished; awaiting finish of 2 more threads\n",
            "INFO:gensim.models.base_any2vec:worker thread finished; awaiting finish of 1 more threads\n",
            "INFO:gensim.models.base_any2vec:worker thread finished; awaiting finish of 0 more threads\n",
            "INFO:gensim.models.base_any2vec:EPOCH - 9 : training on 1233355 raw words (818038 effective words) took 4.7s, 172818 effective words/s\n",
            "INFO:gensim.models.base_any2vec:EPOCH 10 - PROGRESS: at 20.02% examples, 160977 words/s, in_qsize 7, out_qsize 0\n",
            "INFO:gensim.models.base_any2vec:EPOCH 10 - PROGRESS: at 42.30% examples, 167716 words/s, in_qsize 7, out_qsize 0\n",
            "INFO:gensim.models.base_any2vec:EPOCH 10 - PROGRESS: at 63.29% examples, 169083 words/s, in_qsize 7, out_qsize 0\n",
            "INFO:gensim.models.base_any2vec:EPOCH 10 - PROGRESS: at 84.80% examples, 169932 words/s, in_qsize 7, out_qsize 0\n",
            "INFO:gensim.models.base_any2vec:worker thread finished; awaiting finish of 3 more threads\n",
            "INFO:gensim.models.base_any2vec:worker thread finished; awaiting finish of 2 more threads\n",
            "INFO:gensim.models.base_any2vec:worker thread finished; awaiting finish of 1 more threads\n",
            "INFO:gensim.models.base_any2vec:worker thread finished; awaiting finish of 0 more threads\n",
            "INFO:gensim.models.base_any2vec:EPOCH - 10 : training on 1233355 raw words (817674 effective words) took 4.7s, 172738 effective words/s\n",
            "INFO:gensim.models.base_any2vec:training on a 12333550 raw words (8174858 effective words) took 47.4s, 172626 effective words/s\n",
            "INFO:gensim.models.word2vec:collecting all words and their counts\n",
            "INFO:gensim.models.word2vec:PROGRESS: at sentence #0, processed 0 words, keeping 0 word types\n",
            "INFO:gensim.models.word2vec:PROGRESS: at sentence #10000, processed 622075 words, keeping 9767 word types\n",
            "INFO:gensim.models.word2vec:collected 13076 word types from a corpus of 1233355 raw words and 19675 sentences\n",
            "INFO:gensim.models.word2vec:Loading a fresh vocabulary\n",
            "INFO:gensim.models.word2vec:effective_min_count=5 retains 4600 unique words (35% of original 13076, drops 8476)\n",
            "INFO:gensim.models.word2vec:effective_min_count=5 leaves 1219795 word corpus (98% of original 1233355, drops 13560)\n",
            "INFO:gensim.models.word2vec:deleting the raw counts dictionary of 13076 items\n",
            "INFO:gensim.models.word2vec:sample=0.001 downsamples 59 most-common words\n",
            "INFO:gensim.models.word2vec:downsampling leaves estimated 817424 word corpus (67.0% of prior 1219795)\n",
            "INFO:gensim.models.base_any2vec:estimated required memory for 4600 words and 200 dimensions: 9660000 bytes\n",
            "INFO:gensim.models.word2vec:resetting layer weights\n",
            "INFO:gensim.models.base_any2vec:training model with 4 workers on 4600 vocabulary and 200 features, using sg=1 hs=0 sample=0.001 negative=5 window=5\n",
            "INFO:gensim.models.base_any2vec:EPOCH 1 - PROGRESS: at 19.26% examples, 146477 words/s, in_qsize 7, out_qsize 0\n",
            "INFO:gensim.models.base_any2vec:EPOCH 1 - PROGRESS: at 39.82% examples, 154442 words/s, in_qsize 7, out_qsize 0\n",
            "INFO:gensim.models.base_any2vec:EPOCH 1 - PROGRESS: at 60.85% examples, 156876 words/s, in_qsize 7, out_qsize 0\n",
            "INFO:gensim.models.base_any2vec:EPOCH 1 - PROGRESS: at 81.66% examples, 159778 words/s, in_qsize 7, out_qsize 0\n",
            "INFO:gensim.models.base_any2vec:worker thread finished; awaiting finish of 3 more threads\n",
            "INFO:gensim.models.base_any2vec:worker thread finished; awaiting finish of 2 more threads\n",
            "INFO:gensim.models.base_any2vec:worker thread finished; awaiting finish of 1 more threads\n",
            "INFO:gensim.models.base_any2vec:worker thread finished; awaiting finish of 0 more threads\n",
            "INFO:gensim.models.base_any2vec:EPOCH - 1 : training on 1233355 raw words (817046 effective words) took 5.0s, 162565 effective words/s\n",
            "INFO:gensim.models.base_any2vec:EPOCH 2 - PROGRESS: at 17.64% examples, 140872 words/s, in_qsize 8, out_qsize 0\n",
            "INFO:gensim.models.base_any2vec:EPOCH 2 - PROGRESS: at 38.97% examples, 154608 words/s, in_qsize 7, out_qsize 0\n",
            "INFO:gensim.models.base_any2vec:EPOCH 2 - PROGRESS: at 59.20% examples, 157171 words/s, in_qsize 7, out_qsize 0\n",
            "INFO:gensim.models.base_any2vec:EPOCH 2 - PROGRESS: at 80.09% examples, 160040 words/s, in_qsize 7, out_qsize 0\n",
            "INFO:gensim.models.base_any2vec:worker thread finished; awaiting finish of 3 more threads\n",
            "INFO:gensim.models.base_any2vec:worker thread finished; awaiting finish of 2 more threads\n",
            "INFO:gensim.models.base_any2vec:worker thread finished; awaiting finish of 1 more threads\n",
            "INFO:gensim.models.base_any2vec:worker thread finished; awaiting finish of 0 more threads\n",
            "INFO:gensim.models.base_any2vec:EPOCH - 2 : training on 1233355 raw words (816586 effective words) took 5.0s, 161778 effective words/s\n",
            "INFO:gensim.models.base_any2vec:EPOCH 3 - PROGRESS: at 18.40% examples, 146502 words/s, in_qsize 8, out_qsize 1\n",
            "INFO:gensim.models.base_any2vec:EPOCH 3 - PROGRESS: at 39.82% examples, 157704 words/s, in_qsize 7, out_qsize 0\n",
            "INFO:gensim.models.base_any2vec:EPOCH 3 - PROGRESS: at 59.97% examples, 156684 words/s, in_qsize 7, out_qsize 0\n",
            "INFO:gensim.models.base_any2vec:EPOCH 3 - PROGRESS: at 80.09% examples, 158766 words/s, in_qsize 7, out_qsize 0\n",
            "INFO:gensim.models.base_any2vec:worker thread finished; awaiting finish of 3 more threads\n",
            "INFO:gensim.models.base_any2vec:worker thread finished; awaiting finish of 2 more threads\n",
            "INFO:gensim.models.base_any2vec:worker thread finished; awaiting finish of 1 more threads\n",
            "INFO:gensim.models.base_any2vec:worker thread finished; awaiting finish of 0 more threads\n",
            "INFO:gensim.models.base_any2vec:EPOCH - 3 : training on 1233355 raw words (817314 effective words) took 5.0s, 162092 effective words/s\n",
            "INFO:gensim.models.base_any2vec:EPOCH 4 - PROGRESS: at 18.45% examples, 148639 words/s, in_qsize 6, out_qsize 1\n",
            "INFO:gensim.models.base_any2vec:EPOCH 4 - PROGRESS: at 40.65% examples, 153296 words/s, in_qsize 7, out_qsize 0\n",
            "INFO:gensim.models.base_any2vec:EPOCH 4 - PROGRESS: at 62.50% examples, 160700 words/s, in_qsize 7, out_qsize 0\n",
            "INFO:gensim.models.base_any2vec:EPOCH 4 - PROGRESS: at 82.42% examples, 159640 words/s, in_qsize 7, out_qsize 0\n",
            "INFO:gensim.models.base_any2vec:worker thread finished; awaiting finish of 3 more threads\n",
            "INFO:gensim.models.base_any2vec:worker thread finished; awaiting finish of 2 more threads\n",
            "INFO:gensim.models.base_any2vec:worker thread finished; awaiting finish of 1 more threads\n",
            "INFO:gensim.models.base_any2vec:worker thread finished; awaiting finish of 0 more threads\n",
            "INFO:gensim.models.base_any2vec:EPOCH - 4 : training on 1233355 raw words (817578 effective words) took 5.1s, 161750 effective words/s\n",
            "INFO:gensim.models.base_any2vec:EPOCH 5 - PROGRESS: at 18.45% examples, 145705 words/s, in_qsize 7, out_qsize 0\n",
            "INFO:gensim.models.base_any2vec:EPOCH 5 - PROGRESS: at 40.65% examples, 155291 words/s, in_qsize 7, out_qsize 0\n",
            "INFO:gensim.models.base_any2vec:EPOCH 5 - PROGRESS: at 61.65% examples, 156276 words/s, in_qsize 7, out_qsize 0\n",
            "INFO:gensim.models.base_any2vec:EPOCH 5 - PROGRESS: at 82.42% examples, 158445 words/s, in_qsize 7, out_qsize 0\n",
            "INFO:gensim.models.base_any2vec:worker thread finished; awaiting finish of 3 more threads\n",
            "INFO:gensim.models.base_any2vec:worker thread finished; awaiting finish of 2 more threads\n",
            "INFO:gensim.models.base_any2vec:worker thread finished; awaiting finish of 1 more threads\n",
            "INFO:gensim.models.base_any2vec:worker thread finished; awaiting finish of 0 more threads\n",
            "INFO:gensim.models.base_any2vec:EPOCH - 5 : training on 1233355 raw words (817523 effective words) took 5.1s, 161648 effective words/s\n",
            "INFO:gensim.models.base_any2vec:training on a 6166775 raw words (4086047 effective words) took 25.3s, 161722 effective words/s\n",
            "WARNING:gensim.models.base_any2vec:Effective 'alpha' higher than previous training cycles\n",
            "INFO:gensim.models.base_any2vec:training model with 4 workers on 4600 vocabulary and 200 features, using sg=1 hs=0 sample=0.001 negative=5 window=5\n",
            "INFO:gensim.models.base_any2vec:EPOCH 1 - PROGRESS: at 18.45% examples, 139860 words/s, in_qsize 6, out_qsize 1\n",
            "INFO:gensim.models.base_any2vec:EPOCH 1 - PROGRESS: at 39.82% examples, 154889 words/s, in_qsize 7, out_qsize 0\n",
            "INFO:gensim.models.base_any2vec:EPOCH 1 - PROGRESS: at 60.85% examples, 155999 words/s, in_qsize 8, out_qsize 1\n",
            "INFO:gensim.models.base_any2vec:EPOCH 1 - PROGRESS: at 81.70% examples, 158527 words/s, in_qsize 7, out_qsize 0\n",
            "INFO:gensim.models.base_any2vec:worker thread finished; awaiting finish of 3 more threads\n",
            "INFO:gensim.models.base_any2vec:worker thread finished; awaiting finish of 2 more threads\n",
            "INFO:gensim.models.base_any2vec:worker thread finished; awaiting finish of 1 more threads\n",
            "INFO:gensim.models.base_any2vec:worker thread finished; awaiting finish of 0 more threads\n",
            "INFO:gensim.models.base_any2vec:EPOCH - 1 : training on 1233355 raw words (817793 effective words) took 5.1s, 161581 effective words/s\n",
            "INFO:gensim.models.base_any2vec:EPOCH 2 - PROGRESS: at 18.45% examples, 150881 words/s, in_qsize 6, out_qsize 1\n",
            "INFO:gensim.models.base_any2vec:EPOCH 2 - PROGRESS: at 38.97% examples, 155525 words/s, in_qsize 7, out_qsize 0\n",
            "INFO:gensim.models.base_any2vec:EPOCH 2 - PROGRESS: at 59.20% examples, 158127 words/s, in_qsize 7, out_qsize 0\n",
            "INFO:gensim.models.base_any2vec:EPOCH 2 - PROGRESS: at 79.28% examples, 159893 words/s, in_qsize 7, out_qsize 0\n",
            "INFO:gensim.models.base_any2vec:worker thread finished; awaiting finish of 3 more threads\n",
            "INFO:gensim.models.base_any2vec:worker thread finished; awaiting finish of 2 more threads\n",
            "INFO:gensim.models.base_any2vec:worker thread finished; awaiting finish of 1 more threads\n",
            "INFO:gensim.models.base_any2vec:worker thread finished; awaiting finish of 0 more threads\n",
            "INFO:gensim.models.base_any2vec:EPOCH - 2 : training on 1233355 raw words (817401 effective words) took 5.0s, 162194 effective words/s\n",
            "INFO:gensim.models.base_any2vec:EPOCH 3 - PROGRESS: at 17.64% examples, 144654 words/s, in_qsize 8, out_qsize 1\n",
            "INFO:gensim.models.base_any2vec:EPOCH 3 - PROGRESS: at 38.17% examples, 154551 words/s, in_qsize 7, out_qsize 0\n",
            "INFO:gensim.models.base_any2vec:EPOCH 3 - PROGRESS: at 58.41% examples, 157412 words/s, in_qsize 7, out_qsize 0\n",
            "INFO:gensim.models.base_any2vec:EPOCH 3 - PROGRESS: at 79.28% examples, 157975 words/s, in_qsize 7, out_qsize 0\n",
            "INFO:gensim.models.base_any2vec:worker thread finished; awaiting finish of 3 more threads\n",
            "INFO:gensim.models.base_any2vec:worker thread finished; awaiting finish of 2 more threads\n",
            "INFO:gensim.models.base_any2vec:worker thread finished; awaiting finish of 1 more threads\n",
            "INFO:gensim.models.base_any2vec:worker thread finished; awaiting finish of 0 more threads\n",
            "INFO:gensim.models.base_any2vec:EPOCH - 3 : training on 1233355 raw words (817322 effective words) took 5.1s, 161503 effective words/s\n",
            "INFO:gensim.models.base_any2vec:EPOCH 4 - PROGRESS: at 18.45% examples, 150850 words/s, in_qsize 7, out_qsize 0\n",
            "INFO:gensim.models.base_any2vec:EPOCH 4 - PROGRESS: at 38.97% examples, 155978 words/s, in_qsize 6, out_qsize 1\n",
            "INFO:gensim.models.base_any2vec:EPOCH 4 - PROGRESS: at 59.97% examples, 156291 words/s, in_qsize 7, out_qsize 0\n",
            "INFO:gensim.models.base_any2vec:EPOCH 4 - PROGRESS: at 80.90% examples, 158925 words/s, in_qsize 7, out_qsize 0\n",
            "INFO:gensim.models.base_any2vec:worker thread finished; awaiting finish of 3 more threads\n",
            "INFO:gensim.models.base_any2vec:worker thread finished; awaiting finish of 2 more threads\n",
            "INFO:gensim.models.base_any2vec:worker thread finished; awaiting finish of 1 more threads\n",
            "INFO:gensim.models.base_any2vec:worker thread finished; awaiting finish of 0 more threads\n",
            "INFO:gensim.models.base_any2vec:EPOCH - 4 : training on 1233355 raw words (817420 effective words) took 5.1s, 161668 effective words/s\n",
            "INFO:gensim.models.base_any2vec:EPOCH 5 - PROGRESS: at 19.21% examples, 152814 words/s, in_qsize 6, out_qsize 1\n",
            "INFO:gensim.models.base_any2vec:EPOCH 5 - PROGRESS: at 39.82% examples, 155998 words/s, in_qsize 7, out_qsize 0\n",
            "INFO:gensim.models.base_any2vec:EPOCH 5 - PROGRESS: at 59.97% examples, 157644 words/s, in_qsize 6, out_qsize 1\n",
            "INFO:gensim.models.base_any2vec:EPOCH 5 - PROGRESS: at 81.66% examples, 161622 words/s, in_qsize 7, out_qsize 0\n",
            "INFO:gensim.models.base_any2vec:worker thread finished; awaiting finish of 3 more threads\n",
            "INFO:gensim.models.base_any2vec:worker thread finished; awaiting finish of 2 more threads\n",
            "INFO:gensim.models.base_any2vec:worker thread finished; awaiting finish of 1 more threads\n",
            "INFO:gensim.models.base_any2vec:worker thread finished; awaiting finish of 0 more threads\n",
            "INFO:gensim.models.base_any2vec:EPOCH - 5 : training on 1233355 raw words (817631 effective words) took 5.0s, 162470 effective words/s\n",
            "INFO:gensim.models.base_any2vec:EPOCH 6 - PROGRESS: at 18.45% examples, 145469 words/s, in_qsize 7, out_qsize 0\n",
            "INFO:gensim.models.base_any2vec:EPOCH 6 - PROGRESS: at 40.65% examples, 154594 words/s, in_qsize 7, out_qsize 0\n",
            "INFO:gensim.models.base_any2vec:EPOCH 6 - PROGRESS: at 61.65% examples, 158701 words/s, in_qsize 8, out_qsize 0\n",
            "INFO:gensim.models.base_any2vec:EPOCH 6 - PROGRESS: at 82.42% examples, 159551 words/s, in_qsize 7, out_qsize 0\n",
            "INFO:gensim.models.base_any2vec:worker thread finished; awaiting finish of 3 more threads\n",
            "INFO:gensim.models.base_any2vec:worker thread finished; awaiting finish of 2 more threads\n",
            "INFO:gensim.models.base_any2vec:worker thread finished; awaiting finish of 1 more threads\n",
            "INFO:gensim.models.base_any2vec:worker thread finished; awaiting finish of 0 more threads\n",
            "INFO:gensim.models.base_any2vec:EPOCH - 6 : training on 1233355 raw words (818217 effective words) took 5.0s, 162630 effective words/s\n",
            "INFO:gensim.models.base_any2vec:EPOCH 7 - PROGRESS: at 18.40% examples, 148036 words/s, in_qsize 7, out_qsize 0\n",
            "INFO:gensim.models.base_any2vec:EPOCH 7 - PROGRESS: at 38.97% examples, 155320 words/s, in_qsize 7, out_qsize 0\n",
            "INFO:gensim.models.base_any2vec:EPOCH 7 - PROGRESS: at 58.43% examples, 155730 words/s, in_qsize 7, out_qsize 0\n",
            "INFO:gensim.models.base_any2vec:EPOCH 7 - PROGRESS: at 79.28% examples, 159447 words/s, in_qsize 7, out_qsize 0\n",
            "INFO:gensim.models.base_any2vec:worker thread finished; awaiting finish of 3 more threads\n",
            "INFO:gensim.models.base_any2vec:worker thread finished; awaiting finish of 2 more threads\n",
            "INFO:gensim.models.base_any2vec:worker thread finished; awaiting finish of 1 more threads\n",
            "INFO:gensim.models.base_any2vec:worker thread finished; awaiting finish of 0 more threads\n",
            "INFO:gensim.models.base_any2vec:EPOCH - 7 : training on 1233355 raw words (817122 effective words) took 5.1s, 161749 effective words/s\n",
            "INFO:gensim.models.base_any2vec:EPOCH 8 - PROGRESS: at 19.26% examples, 149746 words/s, in_qsize 7, out_qsize 0\n",
            "INFO:gensim.models.base_any2vec:EPOCH 8 - PROGRESS: at 40.65% examples, 158524 words/s, in_qsize 7, out_qsize 0\n",
            "INFO:gensim.models.base_any2vec:EPOCH 8 - PROGRESS: at 61.65% examples, 157878 words/s, in_qsize 7, out_qsize 0\n",
            "INFO:gensim.models.base_any2vec:EPOCH 8 - PROGRESS: at 82.42% examples, 160855 words/s, in_qsize 7, out_qsize 0\n",
            "INFO:gensim.models.base_any2vec:worker thread finished; awaiting finish of 3 more threads\n",
            "INFO:gensim.models.base_any2vec:worker thread finished; awaiting finish of 2 more threads\n",
            "INFO:gensim.models.base_any2vec:worker thread finished; awaiting finish of 1 more threads\n",
            "INFO:gensim.models.base_any2vec:worker thread finished; awaiting finish of 0 more threads\n",
            "INFO:gensim.models.base_any2vec:EPOCH - 8 : training on 1233355 raw words (817018 effective words) took 5.0s, 162491 effective words/s\n",
            "INFO:gensim.models.base_any2vec:EPOCH 9 - PROGRESS: at 19.21% examples, 148719 words/s, in_qsize 8, out_qsize 1\n",
            "INFO:gensim.models.base_any2vec:EPOCH 9 - PROGRESS: at 41.47% examples, 158792 words/s, in_qsize 7, out_qsize 0\n",
            "INFO:gensim.models.base_any2vec:EPOCH 9 - PROGRESS: at 62.50% examples, 157944 words/s, in_qsize 7, out_qsize 0\n",
            "INFO:gensim.models.base_any2vec:EPOCH 9 - PROGRESS: at 83.22% examples, 159434 words/s, in_qsize 7, out_qsize 0\n",
            "INFO:gensim.models.base_any2vec:worker thread finished; awaiting finish of 3 more threads\n",
            "INFO:gensim.models.base_any2vec:worker thread finished; awaiting finish of 2 more threads\n",
            "INFO:gensim.models.base_any2vec:worker thread finished; awaiting finish of 1 more threads\n",
            "INFO:gensim.models.base_any2vec:worker thread finished; awaiting finish of 0 more threads\n",
            "INFO:gensim.models.base_any2vec:EPOCH - 9 : training on 1233355 raw words (817093 effective words) took 5.0s, 163125 effective words/s\n",
            "INFO:gensim.models.base_any2vec:EPOCH 10 - PROGRESS: at 18.45% examples, 150784 words/s, in_qsize 7, out_qsize 0\n",
            "INFO:gensim.models.base_any2vec:EPOCH 10 - PROGRESS: at 39.80% examples, 154744 words/s, in_qsize 6, out_qsize 1\n",
            "INFO:gensim.models.base_any2vec:EPOCH 10 - PROGRESS: at 60.85% examples, 159809 words/s, in_qsize 7, out_qsize 0\n",
            "INFO:gensim.models.base_any2vec:EPOCH 10 - PROGRESS: at 80.90% examples, 159851 words/s, in_qsize 7, out_qsize 0\n",
            "INFO:gensim.models.base_any2vec:worker thread finished; awaiting finish of 3 more threads\n",
            "INFO:gensim.models.base_any2vec:worker thread finished; awaiting finish of 2 more threads\n",
            "INFO:gensim.models.base_any2vec:worker thread finished; awaiting finish of 1 more threads\n",
            "INFO:gensim.models.base_any2vec:worker thread finished; awaiting finish of 0 more threads\n",
            "INFO:gensim.models.base_any2vec:EPOCH - 10 : training on 1233355 raw words (817522 effective words) took 5.0s, 162618 effective words/s\n",
            "INFO:gensim.models.base_any2vec:training on a 12333550 raw words (8174539 effective words) took 50.5s, 161952 effective words/s\n"
          ],
          "name": "stderr"
        },
        {
          "output_type": "execute_result",
          "data": {
            "text/plain": [
              "(8174539, 12333550)"
            ]
          },
          "metadata": {
            "tags": []
          },
          "execution_count": 6
        }
      ]
    },
    {
      "cell_type": "markdown",
      "metadata": {
        "id": "C_faCSUunq-T"
      },
      "source": [
        "### Exploring the Embeddings"
      ]
    },
    {
      "cell_type": "code",
      "metadata": {
        "colab": {
          "base_uri": "https://localhost:8080/"
        },
        "id": "r_GAIHegdsuc",
        "outputId": "d7454a74-0fcb-496c-8a92-37c4943d3632"
      },
      "source": [
        "model_200d.wv.most_similar(\"yellow\")"
      ],
      "execution_count": 7,
      "outputs": [
        {
          "output_type": "stream",
          "text": [
            "INFO:gensim.models.keyedvectors:precomputing L2-norms of word weight vectors\n"
          ],
          "name": "stderr"
        },
        {
          "output_type": "execute_result",
          "data": {
            "text/plain": [
              "[('salmon', 0.6611751914024353),\n",
              " ('muddy', 0.6197764873504639),\n",
              " ('orange', 0.6182765960693359),\n",
              " ('emerald', 0.6171314716339111),\n",
              " ('reddish', 0.6139656901359558),\n",
              " ('lemon', 0.6093385219573975),\n",
              " ('dusty', 0.6055141091346741),\n",
              " ('pinkish', 0.6037883758544922),\n",
              " ('brownish', 0.6034027338027954),\n",
              " ('oatmeal', 0.6003062725067139)]"
            ]
          },
          "metadata": {
            "tags": []
          },
          "execution_count": 7
        }
      ]
    },
    {
      "cell_type": "code",
      "metadata": {
        "colab": {
          "base_uri": "https://localhost:8080/"
        },
        "id": "ETHrBGbsfEHY",
        "outputId": "24903a1d-734c-4dcd-e045-d9560ac873c2"
      },
      "source": [
        "model_50d.wv.most_similar(\"yellow\")"
      ],
      "execution_count": 8,
      "outputs": [
        {
          "output_type": "stream",
          "text": [
            "INFO:gensim.models.keyedvectors:precomputing L2-norms of word weight vectors\n"
          ],
          "name": "stderr"
        },
        {
          "output_type": "execute_result",
          "data": {
            "text/plain": [
              "[('pink', 0.8971452713012695),\n",
              " ('mustard', 0.8792381286621094),\n",
              " ('blue', 0.8778363466262817),\n",
              " ('purple', 0.8748916387557983),\n",
              " ('orange', 0.8694624900817871),\n",
              " ('green', 0.8656941652297974),\n",
              " ('red', 0.8636485934257507),\n",
              " ('lavender', 0.859825074672699),\n",
              " ('undertones', 0.8578039407730103),\n",
              " ('beige', 0.8548611998558044)]"
            ]
          },
          "metadata": {
            "tags": []
          },
          "execution_count": 8
        }
      ]
    },
    {
      "cell_type": "code",
      "metadata": {
        "colab": {
          "base_uri": "https://localhost:8080/"
        },
        "id": "KTPlyPLDd36M",
        "outputId": "f6af8cb4-031e-40f4-b01d-af11bc0ea5aa"
      },
      "source": [
        "model_200d.wv.most_similar(\"flattering\")"
      ],
      "execution_count": 9,
      "outputs": [
        {
          "output_type": "execute_result",
          "data": {
            "text/plain": [
              "[('complimentary', 0.5243328213691711),\n",
              " ('flatteringly', 0.5157523155212402),\n",
              " ('flatering', 0.4958565831184387),\n",
              " ('forgiving', 0.49493950605392456),\n",
              " ('decently', 0.48419564962387085),\n",
              " ('versitile', 0.4796299338340759),\n",
              " ('falttering', 0.47135600447654724),\n",
              " ('clever', 0.4680432081222534),\n",
              " ('supportive', 0.46451976895332336),\n",
              " ('slimming', 0.4636468291282654)]"
            ]
          },
          "metadata": {
            "tags": []
          },
          "execution_count": 9
        }
      ]
    },
    {
      "cell_type": "code",
      "metadata": {
        "colab": {
          "base_uri": "https://localhost:8080/"
        },
        "id": "ef3chkhofg_d",
        "outputId": "c4ba0117-dcb7-413e-eb0d-75d405d559c3"
      },
      "source": [
        "model_50d.wv.most_similar(\"flattering\")"
      ],
      "execution_count": 10,
      "outputs": [
        {
          "output_type": "execute_result",
          "data": {
            "text/plain": [
              "[('forgiving', 0.7921388149261475),\n",
              " ('slimming', 0.7437119483947754),\n",
              " ('comfortable', 0.7420250177383423),\n",
              " ('attractive', 0.7324608564376831),\n",
              " ('flatering', 0.7256346344947815),\n",
              " ('decently', 0.7250819206237793),\n",
              " ('flatteringly', 0.7105137705802917),\n",
              " ('clever', 0.7096085548400879),\n",
              " ('feminine', 0.7056652307510376),\n",
              " ('flowy', 0.7014315128326416)]"
            ]
          },
          "metadata": {
            "tags": []
          },
          "execution_count": 10
        }
      ]
    },
    {
      "cell_type": "code",
      "metadata": {
        "colab": {
          "base_uri": "https://localhost:8080/"
        },
        "id": "UdVz1qeFd6fn",
        "outputId": "966dc798-c964-45a1-8e42-78971f1e908c"
      },
      "source": [
        "model_200d.wv.most_similar(\"jeans\")"
      ],
      "execution_count": 11,
      "outputs": [
        {
          "output_type": "execute_result",
          "data": {
            "text/plain": [
              "[('capris', 0.5879644751548767),\n",
              " ('skinnys', 0.5841323137283325),\n",
              " ('skinny', 0.572593629360199),\n",
              " ('jean', 0.5561804175376892),\n",
              " ('paige', 0.5559598207473755),\n",
              " ('skinnies', 0.5502680540084839),\n",
              " ('khakis', 0.5500040650367737),\n",
              " ('jeggings', 0.5487539768218994),\n",
              " ('cords', 0.5480723977088928),\n",
              " ('joggers', 0.5477581024169922)]"
            ]
          },
          "metadata": {
            "tags": []
          },
          "execution_count": 11
        }
      ]
    },
    {
      "cell_type": "code",
      "metadata": {
        "colab": {
          "base_uri": "https://localhost:8080/"
        },
        "id": "9EA0HL_Rf-Xy",
        "outputId": "df2bce26-9ea2-4d33-e354-42e67cd21a33"
      },
      "source": [
        "model_50d.wv.most_similar(\"jeans\")"
      ],
      "execution_count": 12,
      "outputs": [
        {
          "output_type": "execute_result",
          "data": {
            "text/plain": [
              "[('leggings', 0.8907741904258728),\n",
              " ('skinny', 0.8628894686698914),\n",
              " ('shorts', 0.8597266674041748),\n",
              " ('pants', 0.8570676445960999),\n",
              " ('crops', 0.8459393978118896),\n",
              " ('capris', 0.824693500995636),\n",
              " ('cords', 0.8243570923805237),\n",
              " ('jean', 0.8053743839263916),\n",
              " ('trousers', 0.7992722988128662),\n",
              " ('culottes', 0.7843875885009766)]"
            ]
          },
          "metadata": {
            "tags": []
          },
          "execution_count": 12
        }
      ]
    },
    {
      "cell_type": "code",
      "metadata": {
        "colab": {
          "base_uri": "https://localhost:8080/"
        },
        "id": "99TOg4P7eFAQ",
        "outputId": "f82b4169-1609-4d9b-fbd9-a37b73d743ef"
      },
      "source": [
        "model_200d.wv.most_similar(\"cheap\")"
      ],
      "execution_count": 13,
      "outputs": [
        {
          "output_type": "execute_result",
          "data": {
            "text/plain": [
              "[('coarse', 0.5679450035095215),\n",
              " ('flimsy', 0.5596499443054199),\n",
              " ('synthetic', 0.544366717338562),\n",
              " ('cheaply', 0.5157261490821838),\n",
              " ('inexpensive', 0.5110831260681152),\n",
              " ('scratchy', 0.49272555112838745),\n",
              " ('rougher', 0.4910370707511902),\n",
              " ('blah', 0.49082261323928833),\n",
              " ('halloween', 0.49076080322265625),\n",
              " ('acrylic', 0.4899359345436096)]"
            ]
          },
          "metadata": {
            "tags": []
          },
          "execution_count": 13
        }
      ]
    },
    {
      "cell_type": "code",
      "metadata": {
        "colab": {
          "base_uri": "https://localhost:8080/"
        },
        "id": "mj7ywnUggb37",
        "outputId": "05acb066-ea01-4f6a-d3b0-14ce9bc81573"
      },
      "source": [
        "model_50d.wv.most_similar(\"cheap\")"
      ],
      "execution_count": 14,
      "outputs": [
        {
          "output_type": "execute_result",
          "data": {
            "text/plain": [
              "[('flimsy', 0.8053520917892456),\n",
              " ('scratchy', 0.7335518002510071),\n",
              " ('stiff', 0.7319045066833496),\n",
              " ('coarse', 0.7196815013885498),\n",
              " ('lacking', 0.7057983875274658),\n",
              " ('inexpensive', 0.6913323402404785),\n",
              " ('synthetic', 0.686098575592041),\n",
              " ('halloween', 0.6848613619804382),\n",
              " ('wrinkly', 0.6848520636558533),\n",
              " ('cheaply', 0.6838222742080688)]"
            ]
          },
          "metadata": {
            "tags": []
          },
          "execution_count": 14
        }
      ]
    },
    {
      "cell_type": "code",
      "metadata": {
        "colab": {
          "base_uri": "https://localhost:8080/"
        },
        "id": "buPUXh5Jis9Y",
        "outputId": "355895a7-3f66-4840-c087-206e499a63f9"
      },
      "source": [
        "model_200d.wv.similarity(w1=\"flattering\",w2=\"slimming\")"
      ],
      "execution_count": 15,
      "outputs": [
        {
          "output_type": "execute_result",
          "data": {
            "text/plain": [
              "0.4636468"
            ]
          },
          "metadata": {
            "tags": []
          },
          "execution_count": 15
        }
      ]
    },
    {
      "cell_type": "code",
      "metadata": {
        "colab": {
          "base_uri": "https://localhost:8080/"
        },
        "id": "8yLCemp1mZ9h",
        "outputId": "79d83ab7-a7b8-44ac-b1a8-9d392a7c7eb1"
      },
      "source": [
        "model_200d.wv.similarity(w1=\"flattering\",w2=\"ugly\")"
      ],
      "execution_count": 16,
      "outputs": [
        {
          "output_type": "execute_result",
          "data": {
            "text/plain": [
              "0.10991958"
            ]
          },
          "metadata": {
            "tags": []
          },
          "execution_count": 16
        }
      ]
    },
    {
      "cell_type": "code",
      "metadata": {
        "colab": {
          "base_uri": "https://localhost:8080/"
        },
        "id": "VAwOmyuNjKqM",
        "outputId": "41ed4aef-38e2-4e58-9a84-79aaca404e81"
      },
      "source": [
        "model_50d.wv.similarity(w1=\"flattering\",w2=\"slimming\")"
      ],
      "execution_count": 17,
      "outputs": [
        {
          "output_type": "execute_result",
          "data": {
            "text/plain": [
              "0.7437119"
            ]
          },
          "metadata": {
            "tags": []
          },
          "execution_count": 17
        }
      ]
    },
    {
      "cell_type": "code",
      "metadata": {
        "colab": {
          "base_uri": "https://localhost:8080/"
        },
        "id": "hlqluAkHmXMs",
        "outputId": "c5ab5fae-e400-4f95-9ed9-1cfb347604a5"
      },
      "source": [
        "model_50d.wv.similarity(w1=\"flattering\",w2=\"ugly\")"
      ],
      "execution_count": 18,
      "outputs": [
        {
          "output_type": "execute_result",
          "data": {
            "text/plain": [
              "0.21934563"
            ]
          },
          "metadata": {
            "tags": []
          },
          "execution_count": 18
        }
      ]
    },
    {
      "cell_type": "code",
      "metadata": {
        "colab": {
          "base_uri": "https://localhost:8080/",
          "height": 91
        },
        "id": "HKWH2Y5Yu7Pi",
        "outputId": "13e8e368-c0b8-49ad-f0a3-344dfc224fcf"
      },
      "source": [
        "model_50d.wv.doesnt_match(['pants', 'jeans', 'boots', 'leggings', 'capris'])"
      ],
      "execution_count": 19,
      "outputs": [
        {
          "output_type": "stream",
          "text": [
            "/usr/local/lib/python3.6/dist-packages/gensim/models/keyedvectors.py:895: FutureWarning: arrays to stack must be passed as a \"sequence\" type such as list or tuple. Support for non-sequence iterables such as generators is deprecated as of NumPy 1.16 and will raise an error in the future.\n",
            "  vectors = vstack(self.word_vec(word, use_norm=True) for word in used_words).astype(REAL)\n"
          ],
          "name": "stderr"
        },
        {
          "output_type": "execute_result",
          "data": {
            "application/vnd.google.colaboratory.intrinsic+json": {
              "type": "string"
            },
            "text/plain": [
              "'boots'"
            ]
          },
          "metadata": {
            "tags": []
          },
          "execution_count": 19
        }
      ]
    },
    {
      "cell_type": "code",
      "metadata": {
        "colab": {
          "base_uri": "https://localhost:8080/",
          "height": 91
        },
        "id": "qKZcPD9pvKwY",
        "outputId": "d2b995ec-db2b-4215-efad-a27b813daeb5"
      },
      "source": [
        "model_200d.wv.doesnt_match(['pants', 'jeans', 'boots', 'leggings', 'capris'])"
      ],
      "execution_count": 20,
      "outputs": [
        {
          "output_type": "stream",
          "text": [
            "/usr/local/lib/python3.6/dist-packages/gensim/models/keyedvectors.py:895: FutureWarning: arrays to stack must be passed as a \"sequence\" type such as list or tuple. Support for non-sequence iterables such as generators is deprecated as of NumPy 1.16 and will raise an error in the future.\n",
            "  vectors = vstack(self.word_vec(word, use_norm=True) for word in used_words).astype(REAL)\n"
          ],
          "name": "stderr"
        },
        {
          "output_type": "execute_result",
          "data": {
            "application/vnd.google.colaboratory.intrinsic+json": {
              "type": "string"
            },
            "text/plain": [
              "'boots'"
            ]
          },
          "metadata": {
            "tags": []
          },
          "execution_count": 20
        }
      ]
    },
    {
      "cell_type": "markdown",
      "metadata": {
        "id": "K2dnrDEDq0VT"
      },
      "source": [
        "\n",
        "### Saving the Embeddings\n"
      ]
    },
    {
      "cell_type": "code",
      "metadata": {
        "id": "RifurLqYrBlD",
        "colab": {
          "base_uri": "https://localhost:8080/"
        },
        "outputId": "1e0f269c-1574-4471-a605-02cf69917c22"
      },
      "source": [
        "model_200d.save(\"word2vec_200d_fashion_reviews.model\")\n",
        "model_50d.save(\"word2vec_50d_fashion_reviews.model\")"
      ],
      "execution_count": 21,
      "outputs": [
        {
          "output_type": "stream",
          "text": [
            "INFO:gensim.utils:saving Word2Vec object under word2vec_200d_fashion_reviews.model, separately None\n",
            "INFO:gensim.utils:not storing attribute vectors_norm\n",
            "INFO:gensim.utils:not storing attribute cum_table\n",
            "INFO:gensim.utils:saved word2vec_200d_fashion_reviews.model\n",
            "INFO:gensim.utils:saving Word2Vec object under word2vec_50d_fashion_reviews.model, separately None\n",
            "INFO:gensim.utils:not storing attribute vectors_norm\n",
            "INFO:gensim.utils:not storing attribute cum_table\n",
            "INFO:gensim.utils:saved word2vec_50d_fashion_reviews.model\n"
          ],
          "name": "stderr"
        }
      ]
    },
    {
      "cell_type": "code",
      "metadata": {
        "id": "rWbt8PIZrBN1",
        "colab": {
          "base_uri": "https://localhost:8080/"
        },
        "outputId": "f53ead2e-d7fa-45f5-9a29-46744b029c13"
      },
      "source": [
        "model = gensim.models.Word2Vec.load(\"word2vec_50d_fashion_reviews.model\")\n",
        "#model.train(more_tokenized_documents, total_examples=len(more_tokenized_documents), epochs = 1)"
      ],
      "execution_count": 23,
      "outputs": [
        {
          "output_type": "stream",
          "text": [
            "INFO:gensim.utils:loading Word2Vec object from word2vec_50d_fashion_reviews.model\n",
            "INFO:gensim.utils:loading wv recursively from word2vec_50d_fashion_reviews.model.wv.* with mmap=None\n",
            "INFO:gensim.utils:setting ignored attribute vectors_norm to None\n",
            "INFO:gensim.utils:loading vocabulary recursively from word2vec_50d_fashion_reviews.model.vocabulary.* with mmap=None\n",
            "INFO:gensim.utils:loading trainables recursively from word2vec_50d_fashion_reviews.model.trainables.* with mmap=None\n",
            "INFO:gensim.utils:setting ignored attribute cum_table to None\n",
            "INFO:gensim.utils:loaded word2vec_50d_fashion_reviews.model\n"
          ],
          "name": "stderr"
        }
      ]
    },
    {
      "cell_type": "markdown",
      "metadata": {
        "id": "Ux5GVrZDrZHL"
      },
      "source": [
        "The trained word vectors are stored in a KeyedVectors instance"
      ]
    },
    {
      "cell_type": "code",
      "metadata": {
        "colab": {
          "base_uri": "https://localhost:8080/"
        },
        "id": "d1OlOIFzrYQ0",
        "outputId": "c03a8fc3-5748-4aa1-eb1d-8c8ef274f20f"
      },
      "source": [
        "model_50d.wv[\"flattering\"]"
      ],
      "execution_count": 24,
      "outputs": [
        {
          "output_type": "execute_result",
          "data": {
            "text/plain": [
              "array([-0.01540103,  0.16014913,  0.14985654, -0.23994754, -0.21313502,\n",
              "       -0.5031744 ,  0.24824516, -0.2445467 , -0.32453707,  0.49553162,\n",
              "        0.20014034, -0.36045626,  0.2270474 ,  0.32012847, -0.1898326 ,\n",
              "       -0.19877118, -0.24666762, -0.48730764,  0.17740163,  0.3884172 ,\n",
              "       -0.01718152,  0.21570177, -0.32523072,  0.6148969 ,  0.22833319,\n",
              "        0.20743664, -0.21103773,  0.03031376, -0.25473636,  0.32232776,\n",
              "       -0.22457387,  0.33535174, -0.58632964, -0.36253622,  0.27846944,\n",
              "        0.22082789, -0.29789785,  0.10275065, -0.24003947, -0.10342602,\n",
              "        0.15357165, -0.26446334, -0.10061207,  0.4246732 , -0.23831429,\n",
              "        0.25995946, -0.13828331,  0.29279688,  0.31003687, -0.1340478 ],\n",
              "      dtype=float32)"
            ]
          },
          "metadata": {
            "tags": []
          },
          "execution_count": 24
        }
      ]
    },
    {
      "cell_type": "markdown",
      "metadata": {
        "id": "qTp1Ps5HryNy"
      },
      "source": [
        "[Storing a model as keyed vectors results in a much smaller and faster object that can be quickly loaded and easily shared.](https://radimrehurek.com/gensim/models/word2vec.html)"
      ]
    },
    {
      "cell_type": "code",
      "metadata": {
        "id": "z6S59ZnZq2pC",
        "colab": {
          "base_uri": "https://localhost:8080/"
        },
        "outputId": "a5ae0cad-7969-486a-833c-7cb035389e35"
      },
      "source": [
        "from gensim.models import KeyedVectors\n",
        "\n",
        "word_vectors = model_50d.wv\n",
        "word_vectors.save(\"word2vec_50d_fashion_reviews.wordvectors\")"
      ],
      "execution_count": 25,
      "outputs": [
        {
          "output_type": "stream",
          "text": [
            "INFO:gensim.utils:saving Word2VecKeyedVectors object under word2vec_50d_fashion_reviews.wordvectors, separately None\n",
            "INFO:gensim.utils:not storing attribute vectors_norm\n",
            "INFO:gensim.utils:saved word2vec_50d_fashion_reviews.wordvectors\n"
          ],
          "name": "stderr"
        }
      ]
    },
    {
      "cell_type": "markdown",
      "metadata": {
        "id": "2esspUa7t-QN"
      },
      "source": [
        "## Evaluating Embedding Performance\n",
        "\n",
        "[Link to SimLex](https://fh295.github.io//simlex.html)\n",
        "\n"
      ]
    },
    {
      "cell_type": "markdown",
      "metadata": {
        "id": "CkFx9uJwoQUy"
      },
      "source": [
        "### Loading Pretrained Embeddings"
      ]
    },
    {
      "cell_type": "code",
      "metadata": {
        "id": "CgvKDUCssjGB"
      },
      "source": [
        "import gensim.downloader"
      ],
      "execution_count": 26,
      "outputs": []
    },
    {
      "cell_type": "code",
      "metadata": {
        "colab": {
          "base_uri": "https://localhost:8080/"
        },
        "id": "Ms2PQhlssom2",
        "outputId": "e153eef3-33f3-44eb-dffd-47d6f986e56d"
      },
      "source": [
        "twitter_vectors = gensim.downloader.load('glove-twitter-50')"
      ],
      "execution_count": 27,
      "outputs": [
        {
          "output_type": "stream",
          "text": [
            "INFO:gensim.models.utils_any2vec:loading projection weights from /root/gensim-data/glove-twitter-50/glove-twitter-50.gz\n",
            "INFO:gensim.models.utils_any2vec:loaded (1193514, 50) matrix from /root/gensim-data/glove-twitter-50/glove-twitter-50.gz\n"
          ],
          "name": "stderr"
        }
      ]
    },
    {
      "cell_type": "code",
      "metadata": {
        "colab": {
          "base_uri": "https://localhost:8080/"
        },
        "id": "hj6LMWmotPK8",
        "outputId": "11fa99ef-9518-4876-d246-2b6ad00197c1"
      },
      "source": [
        "wiki_vectors = gensim.downloader.load('glove-wiki-gigaword-50')"
      ],
      "execution_count": 28,
      "outputs": [
        {
          "output_type": "stream",
          "text": [
            "INFO:gensim.models.utils_any2vec:loading projection weights from /root/gensim-data/glove-wiki-gigaword-50/glove-wiki-gigaword-50.gz\n",
            "INFO:gensim.models.utils_any2vec:loaded (400000, 50) matrix from /root/gensim-data/glove-wiki-gigaword-50/glove-wiki-gigaword-50.gz\n"
          ],
          "name": "stderr"
        }
      ]
    },
    {
      "cell_type": "markdown",
      "metadata": {
        "id": "bxbwRGPLoTXG"
      },
      "source": [
        "### Quick and Dirty Evaluations"
      ]
    },
    {
      "cell_type": "code",
      "metadata": {
        "colab": {
          "base_uri": "https://localhost:8080/"
        },
        "id": "uMdLudwestOD",
        "outputId": "01e1eca8-5ec4-460c-e600-7290faa6ac4b"
      },
      "source": [
        "twitter_vectors.most_similar('flattering')"
      ],
      "execution_count": 29,
      "outputs": [
        {
          "output_type": "stream",
          "text": [
            "INFO:gensim.models.keyedvectors:precomputing L2-norms of word weight vectors\n"
          ],
          "name": "stderr"
        },
        {
          "output_type": "execute_result",
          "data": {
            "text/plain": [
              "[('deceiving', 0.7589634656906128),\n",
              " ('subtle', 0.731188178062439),\n",
              " ('degrading', 0.7235129475593567),\n",
              " ('revealing', 0.7195727229118347),\n",
              " ('intimidating', 0.7194300889968872),\n",
              " ('complement', 0.7180843353271484),\n",
              " ('hideous', 0.7109505534172058),\n",
              " ('misleading', 0.7089495658874512),\n",
              " ('appealing', 0.7067294716835022),\n",
              " ('endearing', 0.7048246264457703)]"
            ]
          },
          "metadata": {
            "tags": []
          },
          "execution_count": 29
        }
      ]
    },
    {
      "cell_type": "code",
      "metadata": {
        "colab": {
          "base_uri": "https://localhost:8080/"
        },
        "id": "rf8hEA0etl-v",
        "outputId": "e5b0e9e6-19d3-440f-81d1-8653f54b9a85"
      },
      "source": [
        "wiki_vectors.most_similar(\"flattering\")"
      ],
      "execution_count": 30,
      "outputs": [
        {
          "output_type": "stream",
          "text": [
            "INFO:gensim.models.keyedvectors:precomputing L2-norms of word weight vectors\n"
          ],
          "name": "stderr"
        },
        {
          "output_type": "execute_result",
          "data": {
            "text/plain": [
              "[('unflattering', 0.7839535474777222),\n",
              " ('understated', 0.7335059642791748),\n",
              " ('startlingly', 0.7195419669151306),\n",
              " ('strikingly', 0.7144407033920288),\n",
              " ('legible', 0.6908946633338928),\n",
              " ('pleasing', 0.6869217753410339),\n",
              " ('tasteful', 0.6848117113113403),\n",
              " ('nuanced', 0.6821258664131165),\n",
              " ('ironic', 0.6800380945205688),\n",
              " ('instructive', 0.6722054481506348)]"
            ]
          },
          "metadata": {
            "tags": []
          },
          "execution_count": 30
        }
      ]
    },
    {
      "cell_type": "code",
      "metadata": {
        "colab": {
          "base_uri": "https://localhost:8080/"
        },
        "id": "Yp2kktlxuh_y",
        "outputId": "a7567530-8bc8-4a04-bcd3-4c35b9966fe1"
      },
      "source": [
        "twitter_vectors.most_similar('slimming')"
      ],
      "execution_count": 31,
      "outputs": [
        {
          "output_type": "execute_result",
          "data": {
            "text/plain": [
              "[('skincare', 0.8081165552139282),\n",
              " ('whitening', 0.7969942092895508),\n",
              " ('enhancement', 0.7625880837440491),\n",
              " ('supplement', 0.7529165148735046),\n",
              " ('anti-aging', 0.7474892139434814),\n",
              " ('supplements', 0.7415367364883423),\n",
              " ('cosmetics', 0.7402847409248352),\n",
              " ('moisturizing', 0.7401215434074402),\n",
              " ('decay', 0.734142541885376),\n",
              " ('nourishing', 0.7283862829208374)]"
            ]
          },
          "metadata": {
            "tags": []
          },
          "execution_count": 31
        }
      ]
    },
    {
      "cell_type": "code",
      "metadata": {
        "colab": {
          "base_uri": "https://localhost:8080/"
        },
        "id": "MJV7qNyUulUI",
        "outputId": "209a8842-789f-451e-fd39-7bee2c4cfa26"
      },
      "source": [
        "wiki_vectors.most_similar(\"slimming\")"
      ],
      "execution_count": 32,
      "outputs": [
        {
          "output_type": "execute_result",
          "data": {
            "text/plain": [
              "[('ecstacy', 0.7174867987632751),\n",
              " ('impotency', 0.7070642709732056),\n",
              " ('essences', 0.6937088966369629),\n",
              " ('shampoo', 0.6900542378425598),\n",
              " ('lotion', 0.6844039559364319),\n",
              " ('toning', 0.6772074699401855),\n",
              " ('sunsilk', 0.6712096929550171),\n",
              " ('lollipops', 0.6711376309394836),\n",
              " ('vaseline', 0.670579195022583),\n",
              " ('wipes', 0.6690594553947449)]"
            ]
          },
          "metadata": {
            "tags": []
          },
          "execution_count": 32
        }
      ]
    },
    {
      "cell_type": "code",
      "metadata": {
        "colab": {
          "base_uri": "https://localhost:8080/",
          "height": 91
        },
        "id": "FJ1jxm3pvftb",
        "outputId": "1635a943-6498-4244-bfc8-2a83d9ecc492"
      },
      "source": [
        "wiki_vectors.doesnt_match(['pants', 'jeans', 'boots', 'leggings', 'capris'])"
      ],
      "execution_count": 33,
      "outputs": [
        {
          "output_type": "stream",
          "text": [
            "/usr/local/lib/python3.6/dist-packages/gensim/models/keyedvectors.py:895: FutureWarning: arrays to stack must be passed as a \"sequence\" type such as list or tuple. Support for non-sequence iterables such as generators is deprecated as of NumPy 1.16 and will raise an error in the future.\n",
            "  vectors = vstack(self.word_vec(word, use_norm=True) for word in used_words).astype(REAL)\n"
          ],
          "name": "stderr"
        },
        {
          "output_type": "execute_result",
          "data": {
            "application/vnd.google.colaboratory.intrinsic+json": {
              "type": "string"
            },
            "text/plain": [
              "'capris'"
            ]
          },
          "metadata": {
            "tags": []
          },
          "execution_count": 33
        }
      ]
    },
    {
      "cell_type": "code",
      "metadata": {
        "colab": {
          "base_uri": "https://localhost:8080/",
          "height": 91
        },
        "id": "F0_1VKW6vi_i",
        "outputId": "b7bdcfef-9241-4a2f-af78-198ada1392b8"
      },
      "source": [
        "twitter_vectors.doesnt_match(['pants', 'jeans', 'boots', 'leggings', 'capris'])"
      ],
      "execution_count": 34,
      "outputs": [
        {
          "output_type": "stream",
          "text": [
            "/usr/local/lib/python3.6/dist-packages/gensim/models/keyedvectors.py:895: FutureWarning: arrays to stack must be passed as a \"sequence\" type such as list or tuple. Support for non-sequence iterables such as generators is deprecated as of NumPy 1.16 and will raise an error in the future.\n",
            "  vectors = vstack(self.word_vec(word, use_norm=True) for word in used_words).astype(REAL)\n"
          ],
          "name": "stderr"
        },
        {
          "output_type": "execute_result",
          "data": {
            "application/vnd.google.colaboratory.intrinsic+json": {
              "type": "string"
            },
            "text/plain": [
              "'capris'"
            ]
          },
          "metadata": {
            "tags": []
          },
          "execution_count": 34
        }
      ]
    },
    {
      "cell_type": "code",
      "metadata": {
        "colab": {
          "base_uri": "https://localhost:8080/",
          "height": 91
        },
        "id": "pX24tuejACKh",
        "outputId": "43fb599f-f7e8-473a-e4a0-7c9283752d81"
      },
      "source": [
        "model_50d.wv.doesnt_match(['pants', 'jeans', 'boots', 'leggings', 'capris'])"
      ],
      "execution_count": 35,
      "outputs": [
        {
          "output_type": "stream",
          "text": [
            "/usr/local/lib/python3.6/dist-packages/gensim/models/keyedvectors.py:895: FutureWarning: arrays to stack must be passed as a \"sequence\" type such as list or tuple. Support for non-sequence iterables such as generators is deprecated as of NumPy 1.16 and will raise an error in the future.\n",
            "  vectors = vstack(self.word_vec(word, use_norm=True) for word in used_words).astype(REAL)\n"
          ],
          "name": "stderr"
        },
        {
          "output_type": "execute_result",
          "data": {
            "application/vnd.google.colaboratory.intrinsic+json": {
              "type": "string"
            },
            "text/plain": [
              "'boots'"
            ]
          },
          "metadata": {
            "tags": []
          },
          "execution_count": 35
        }
      ]
    },
    {
      "cell_type": "markdown",
      "metadata": {
        "id": "8Zqjbtcx8duV"
      },
      "source": [
        "### Systematic Testing"
      ]
    },
    {
      "cell_type": "markdown",
      "metadata": {
        "id": "gLVz1UmhoelN"
      },
      "source": [
        "#### Generalized Testing"
      ]
    },
    {
      "cell_type": "code",
      "metadata": {
        "colab": {
          "base_uri": "https://localhost:8080/"
        },
        "id": "va3484G9waH8",
        "outputId": "1ea67970-1003-4a66-ede0-3f2bc2f03fd4"
      },
      "source": [
        "wiki_vectors.evaluate_word_pairs(datapath('wordsim353.tsv'))"
      ],
      "execution_count": 36,
      "outputs": [
        {
          "output_type": "stream",
          "text": [
            "INFO:gensim.models.keyedvectors:Pearson correlation coefficient against /usr/local/lib/python3.6/dist-packages/gensim/test/test_data/wordsim353.tsv: 0.5066\n",
            "INFO:gensim.models.keyedvectors:Spearman rank-order correlation coefficient against /usr/local/lib/python3.6/dist-packages/gensim/test/test_data/wordsim353.tsv: 0.5033\n",
            "INFO:gensim.models.keyedvectors:Pairs with unknown words ratio: 0.0%\n"
          ],
          "name": "stderr"
        },
        {
          "output_type": "execute_result",
          "data": {
            "text/plain": [
              "((0.5066191864084476, 2.0601625001388435e-24),\n",
              " SpearmanrResult(correlation=0.503319577396603, pvalue=4.545752555909452e-24),\n",
              " 0.0)"
            ]
          },
          "metadata": {
            "tags": []
          },
          "execution_count": 36
        }
      ]
    },
    {
      "cell_type": "code",
      "metadata": {
        "colab": {
          "base_uri": "https://localhost:8080/"
        },
        "id": "2NSdu-nV7l4G",
        "outputId": "555205b9-5d75-413c-8410-10cb64d8eca3"
      },
      "source": [
        "twitter_vectors.evaluate_word_pairs(datapath('wordsim353.tsv'))"
      ],
      "execution_count": 37,
      "outputs": [
        {
          "output_type": "stream",
          "text": [
            "INFO:gensim.models.keyedvectors:Pearson correlation coefficient against /usr/local/lib/python3.6/dist-packages/gensim/test/test_data/wordsim353.tsv: 0.4692\n",
            "INFO:gensim.models.keyedvectors:Spearman rank-order correlation coefficient against /usr/local/lib/python3.6/dist-packages/gensim/test/test_data/wordsim353.tsv: 0.4604\n",
            "INFO:gensim.models.keyedvectors:Pairs with unknown words ratio: 2.3%\n"
          ],
          "name": "stderr"
        },
        {
          "output_type": "execute_result",
          "data": {
            "text/plain": [
              "((0.4691938177508138, 2.7469878583403077e-20),\n",
              " SpearmanrResult(correlation=0.460432602938833, pvalue=1.6621434759294624e-19),\n",
              " 2.26628895184136)"
            ]
          },
          "metadata": {
            "tags": []
          },
          "execution_count": 37
        }
      ]
    },
    {
      "cell_type": "code",
      "metadata": {
        "colab": {
          "base_uri": "https://localhost:8080/"
        },
        "id": "P9ncU29131HD",
        "outputId": "dfe92633-5065-4c1d-f81e-0ec1d23e2119"
      },
      "source": [
        "model_50d.wv.evaluate_word_pairs(datapath('wordsim353.tsv'))"
      ],
      "execution_count": 38,
      "outputs": [
        {
          "output_type": "stream",
          "text": [
            "INFO:gensim.models.keyedvectors:Pearson correlation coefficient against /usr/local/lib/python3.6/dist-packages/gensim/test/test_data/wordsim353.tsv: 0.0750\n",
            "INFO:gensim.models.keyedvectors:Spearman rank-order correlation coefficient against /usr/local/lib/python3.6/dist-packages/gensim/test/test_data/wordsim353.tsv: 0.0566\n",
            "INFO:gensim.models.keyedvectors:Pairs with unknown words ratio: 84.1%\n"
          ],
          "name": "stderr"
        },
        {
          "output_type": "execute_result",
          "data": {
            "text/plain": [
              "((0.07500777864801833, 0.5827159882968264),\n",
              " SpearmanrResult(correlation=0.05664085967232887, pvalue=0.6784094131032639),\n",
              " 84.13597733711048)"
            ]
          },
          "metadata": {
            "tags": []
          },
          "execution_count": 38
        }
      ]
    },
    {
      "cell_type": "markdown",
      "metadata": {
        "id": "1Ubpg74s7xCG"
      },
      "source": [
        "#### Domain Specific Testing"
      ]
    },
    {
      "cell_type": "code",
      "metadata": {
        "colab": {
          "base_uri": "https://localhost:8080/"
        },
        "id": "qM6rlnMK7VSJ",
        "outputId": "53a9a11c-1916-43f4-9fbd-bf07f08b5d65"
      },
      "source": [
        "wiki_vectors.evaluate_word_pairs(pairs=\"wordsim_clothing.csv\", delimiter = \",\")"
      ],
      "execution_count": 39,
      "outputs": [
        {
          "output_type": "stream",
          "text": [
            "INFO:gensim.models.keyedvectors:Pearson correlation coefficient against wordsim_clothing.csv: 0.2953\n",
            "INFO:gensim.models.keyedvectors:Spearman rank-order correlation coefficient against wordsim_clothing.csv: 0.2827\n",
            "INFO:gensim.models.keyedvectors:Pairs with unknown words ratio: 0.0%\n"
          ],
          "name": "stderr"
        },
        {
          "output_type": "execute_result",
          "data": {
            "text/plain": [
              "((0.29529311733612107, 0.04389440628678378),\n",
              " SpearmanrResult(correlation=0.2826504985805369, pvalue=0.05422539658292837),\n",
              " 0.0)"
            ]
          },
          "metadata": {
            "tags": []
          },
          "execution_count": 39
        }
      ]
    },
    {
      "cell_type": "code",
      "metadata": {
        "colab": {
          "base_uri": "https://localhost:8080/"
        },
        "id": "DeovxQiQ40vG",
        "outputId": "bb3b5e4b-2267-421d-d60e-ece90ad06aeb"
      },
      "source": [
        "twitter_vectors.evaluate_word_pairs(pairs=\"wordsim_clothing.csv\", delimiter = \",\")"
      ],
      "execution_count": 40,
      "outputs": [
        {
          "output_type": "stream",
          "text": [
            "INFO:gensim.models.keyedvectors:Pearson correlation coefficient against wordsim_clothing.csv: 0.0920\n",
            "INFO:gensim.models.keyedvectors:Spearman rank-order correlation coefficient against wordsim_clothing.csv: 0.0541\n",
            "INFO:gensim.models.keyedvectors:Pairs with unknown words ratio: 2.1%\n"
          ],
          "name": "stderr"
        },
        {
          "output_type": "execute_result",
          "data": {
            "text/plain": [
              "((0.0919804625667379, 0.5432110795290985),\n",
              " SpearmanrResult(correlation=0.05414279342976543, pvalue=0.7208143321976768),\n",
              " 2.127659574468085)"
            ]
          },
          "metadata": {
            "tags": []
          },
          "execution_count": 40
        }
      ]
    },
    {
      "cell_type": "code",
      "metadata": {
        "colab": {
          "base_uri": "https://localhost:8080/"
        },
        "id": "4Dmdt8D6zaIR",
        "outputId": "f10a5013-77eb-44e5-e4ba-01dea3a7fc24"
      },
      "source": [
        "model_50d.wv.evaluate_word_pairs(pairs=\"wordsim_clothing.csv\", delimiter = \",\")"
      ],
      "execution_count": 41,
      "outputs": [
        {
          "output_type": "stream",
          "text": [
            "INFO:gensim.models.keyedvectors:Pearson correlation coefficient against wordsim_clothing.csv: 0.5583\n",
            "INFO:gensim.models.keyedvectors:Spearman rank-order correlation coefficient against wordsim_clothing.csv: 0.5451\n",
            "INFO:gensim.models.keyedvectors:Pairs with unknown words ratio: 0.0%\n"
          ],
          "name": "stderr"
        },
        {
          "output_type": "execute_result",
          "data": {
            "text/plain": [
              "((0.5583465894705796, 4.537285746396543e-05),\n",
              " SpearmanrResult(correlation=0.5451116758338926, pvalue=7.433493044043204e-05),\n",
              " 0.0)"
            ]
          },
          "metadata": {
            "tags": []
          },
          "execution_count": 41
        }
      ]
    },
    {
      "cell_type": "code",
      "metadata": {
        "colab": {
          "base_uri": "https://localhost:8080/"
        },
        "id": "S7a4-j4YFLvD",
        "outputId": "c77cbaed-a079-4a3b-a815-b2852ee9bb4d"
      },
      "source": [
        "model_200d.wv.evaluate_word_pairs(pairs=\"wordsim_clothing.csv\", delimiter = \",\")"
      ],
      "execution_count": 42,
      "outputs": [
        {
          "output_type": "stream",
          "text": [
            "INFO:gensim.models.keyedvectors:Pearson correlation coefficient against wordsim_clothing.csv: 0.5355\n",
            "INFO:gensim.models.keyedvectors:Spearman rank-order correlation coefficient against wordsim_clothing.csv: 0.5283\n",
            "INFO:gensim.models.keyedvectors:Pairs with unknown words ratio: 0.0%\n"
          ],
          "name": "stderr"
        },
        {
          "output_type": "execute_result",
          "data": {
            "text/plain": [
              "((0.5355170101437206, 0.00010497448052647548),\n",
              " SpearmanrResult(correlation=0.528287241394575, pvalue=0.0001352313275414374),\n",
              " 0.0)"
            ]
          },
          "metadata": {
            "tags": []
          },
          "execution_count": 42
        }
      ]
    },
    {
      "cell_type": "markdown",
      "metadata": {
        "id": "0teX5dVtHCEh"
      },
      "source": [
        "\n",
        "### Visualizing Embeddings \n"
      ]
    },
    {
      "cell_type": "markdown",
      "metadata": {
        "id": "Jfy_9KTbpJDf"
      },
      "source": [
        "#### T-SNE"
      ]
    },
    {
      "cell_type": "code",
      "metadata": {
        "id": "CGmD5x3LHFIL"
      },
      "source": [
        "from sklearn.decomposition import IncrementalPCA    # inital reduction\n",
        "from sklearn.manifold import TSNE                   # final reduction\n",
        "\n",
        "def reduce_dimensions(model):\n",
        "    num_dimensions = 2  # final num dimensions (2D, 3D, etc)\n",
        "\n",
        "    # extract the words & their vectors, as numpy arrays\n",
        "    vectors = np.asarray(model.wv.vectors)\n",
        "    labels = np.asarray(model.wv.index2word)  # fixed-width numpy strings\n",
        "\n",
        "    # reduce using t-SNE\n",
        "    tsne = TSNE(n_components=num_dimensions, random_state=0)\n",
        "    vectors = tsne.fit_transform(vectors)\n",
        "\n",
        "    x_vals = [v[0] for v in vectors]\n",
        "    y_vals = [v[1] for v in vectors]\n",
        "    return x_vals, y_vals, labels\n",
        "\n",
        "def plot_with_matplotlib(x_vals, y_vals, labels):\n",
        "    import matplotlib.pyplot as plt\n",
        "    import random\n",
        "\n",
        "    random.seed(0)\n",
        "\n",
        "    plt.figure(figsize=(12, 12))\n",
        "    plt.scatter(x_vals, y_vals)\n",
        "\n",
        "    indices = list(range(len(labels)))\n",
        "    selected_indices = random.sample(indices, 20)\n",
        "    for i in selected_indices:\n",
        "        plt.annotate(labels[i], (x_vals[i], y_vals[i]))\n"
      ],
      "execution_count": 43,
      "outputs": []
    },
    {
      "cell_type": "code",
      "metadata": {
        "id": "2A09QYdPHd6I"
      },
      "source": [
        "x_vals, y_vals, labels = reduce_dimensions(model_50d)"
      ],
      "execution_count": 44,
      "outputs": []
    },
    {
      "cell_type": "code",
      "metadata": {
        "colab": {
          "base_uri": "https://localhost:8080/",
          "height": 700
        },
        "id": "hV8cghxCIFOE",
        "outputId": "03dbe4ea-1800-43a1-f872-abffe9a8f4c0"
      },
      "source": [
        "plot_with_matplotlib(x_vals, y_vals, labels)"
      ],
      "execution_count": 45,
      "outputs": [
        {
          "output_type": "display_data",
          "data": {
            "image/png": "[encoded data removed]",
            "text/plain": [
              "<Figure size 864x864 with 1 Axes>"
            ]
          },
          "metadata": {
            "tags": [],
            "needs_background": "light"
          }
        }
      ]
    },
    {
      "cell_type": "markdown",
      "metadata": {
        "id": "29zMlVefJ0Y3"
      },
      "source": [
        "#### UMAP\n"
      ]
    },
    {
      "cell_type": "code",
      "metadata": {
        "id": "f-GG9EKUJjFK"
      },
      "source": [
        "import umap\n",
        "embedding = umap.UMAP(random_state=50).fit_transform(model_50d.wv.vectors)"
      ],
      "execution_count": 46,
      "outputs": []
    },
    {
      "cell_type": "code",
      "metadata": {
        "colab": {
          "base_uri": "https://localhost:8080/",
          "height": 733
        },
        "id": "9m8pXwDxKa7D",
        "outputId": "96b3d673-0a02-42aa-b909-1d66a88c1624"
      },
      "source": [
        "plt.figure(figsize=(12, 12))\n",
        "plt.scatter(embedding[:, 0], embedding[:, 1])\n",
        "plt.title('UMAP projection of the 50d Fashion Review Embedding')"
      ],
      "execution_count": 47,
      "outputs": [
        {
          "output_type": "execute_result",
          "data": {
            "text/plain": [
              "Text(0.5, 1.0, 'UMAP projection of the 50d Fashion Review Embedding')"
            ]
          },
          "metadata": {
            "tags": []
          },
          "execution_count": 47
        },
        {
          "output_type": "display_data",
          "data": {
            "image/png": "[encoded data removed]",
            "text/plain": [
              "<Figure size 864x864 with 1 Axes>"
            ]
          },
          "metadata": {
            "tags": [],
            "needs_background": "light"
          }
        }
      ]
    },
    {
      "cell_type": "code",
      "metadata": {
        "colab": {
          "base_uri": "https://localhost:8080/",
          "height": 733
        },
        "id": "hq1NX8WYOpll",
        "outputId": "d8ffdd32-8f58-4b66-8e36-be5155a4bf5b"
      },
      "source": [
        "embedding = umap.UMAP(random_state=200).fit_transform(model_200d.wv.vectors)\n",
        "plt.figure(figsize=(12, 12))\n",
        "plt.scatter(embedding[:, 0], embedding[:, 1])\n",
        "plt.title('UMAP projection of the 200d Fashion Review Embedding')"
      ],
      "execution_count": 48,
      "outputs": [
        {
          "output_type": "execute_result",
          "data": {
            "text/plain": [
              "Text(0.5, 1.0, 'UMAP projection of the 200d Fashion Review Embedding')"
            ]
          },
          "metadata": {
            "tags": []
          },
          "execution_count": 48
        },
        {
          "output_type": "display_data",
          "data": {
            "image/png": "[encoded data removed]",
            "text/plain": [
              "<Figure size 864x864 with 1 Axes>"
            ]
          },
          "metadata": {
            "tags": [],
            "needs_background": "light"
          }
        }
      ]
    },
    {
      "cell_type": "markdown",
      "metadata": {
        "id": "u8kFlF3IEHOS"
      },
      "source": [
        "## Future Work: Optimizations to test\n",
        "- Preprocessing: Does using a more complex tokenizer (i.e. spaCy) improve performance?\n",
        "- Data: Does adding more data improve performance?\n",
        "- Parameter Tuning: Does changing the window size / number of dimensions improve performance?\n",
        "- Algorithm: Could a different implementation (CBOW / GloVE / PMI) improve performance?"
      ]
    },
    {
      "cell_type": "markdown",
      "metadata": {
        "id": "UCAjbclyWG1F"
      },
      "source": [
        "## Using Embeddings as inputs to ML Models"
      ]
    },
    {
      "cell_type": "markdown",
      "metadata": {
        "id": "9WFUVfPSpnom"
      },
      "source": [
        "### Generating the dataframe"
      ]
    },
    {
      "cell_type": "code",
      "metadata": {
        "id": "Uc_0CLeLp6rg"
      },
      "source": [
        "import sklearn\n",
        "from sklearn.model_selection import train_test_split\n",
        "from sklearn import linear_model\n",
        "from sklearn.metrics import accuracy_score, confusion_matrix\n",
        "import matplotlib.pyplot as plt\n",
        "from gensim.models import Word2Vec\n",
        "from sklearn.neighbors import KNeighborsClassifier\n",
        "from sklearn import linear_model"
      ],
      "execution_count": 49,
      "outputs": []
    },
    {
      "cell_type": "code",
      "metadata": {
        "colab": {
          "base_uri": "https://localhost:8080/",
          "height": 359
        },
        "id": "jvi5V-NXWGY6",
        "outputId": "a10538a8-90bd-4c7c-bf24-84d80e870995"
      },
      "source": [
        "df.sample(10)"
      ],
      "execution_count": 50,
      "outputs": [
        {
          "output_type": "execute_result",
          "data": {
            "text/html": [
              "<div>\n",
              "<style scoped>\n",
              "    .dataframe tbody tr th:only-of-type {\n",
              "        vertical-align: middle;\n",
              "    }\n",
              "\n",
              "    .dataframe tbody tr th {\n",
              "        vertical-align: top;\n",
              "    }\n",
              "\n",
              "    .dataframe thead th {\n",
              "        text-align: right;\n",
              "    }\n",
              "</style>\n",
              "<table border=\"1\" class=\"dataframe\">\n",
              "  <thead>\n",
              "    <tr style=\"text-align: right;\">\n",
              "      <th></th>\n",
              "      <th>Title</th>\n",
              "      <th>Review Text</th>\n",
              "      <th>Rating</th>\n",
              "    </tr>\n",
              "  </thead>\n",
              "  <tbody>\n",
              "    <tr>\n",
              "      <th>14290</th>\n",
              "      <td>So small, so sad.</td>\n",
              "      <td>I have quite a few pairs of retailer pants and...</td>\n",
              "      <td>1</td>\n",
              "    </tr>\n",
              "    <tr>\n",
              "      <th>17322</th>\n",
              "      <td>Cropped and boxy</td>\n",
              "      <td>It is a beautiful sweater, but it is cropped a...</td>\n",
              "      <td>2</td>\n",
              "    </tr>\n",
              "    <tr>\n",
              "      <th>1733</th>\n",
              "      <td>Upholstery fabric</td>\n",
              "      <td>Super thick material and it's lined with cotto...</td>\n",
              "      <td>4</td>\n",
              "    </tr>\n",
              "    <tr>\n",
              "      <th>8365</th>\n",
              "      <td>New go-to dress</td>\n",
              "      <td>There aren't enough great words to describe th...</td>\n",
              "      <td>5</td>\n",
              "    </tr>\n",
              "    <tr>\n",
              "      <th>855</th>\n",
              "      <td>Quality &amp; cut</td>\n",
              "      <td>My perspective is as a sewer so i'm more picky...</td>\n",
              "      <td>1</td>\n",
              "    </tr>\n",
              "    <tr>\n",
              "      <th>10283</th>\n",
              "      <td>It's like a work of art, but sadly, not flatte...</td>\n",
              "      <td>It's like a work of art, but sadly, not flatte...</td>\n",
              "      <td>2</td>\n",
              "    </tr>\n",
              "    <tr>\n",
              "      <th>6397</th>\n",
              "      <td>Just lovely</td>\n",
              "      <td>I am a petite person with broad shoulders and ...</td>\n",
              "      <td>5</td>\n",
              "    </tr>\n",
              "    <tr>\n",
              "      <th>11495</th>\n",
              "      <td>Flattering, and comfortable!</td>\n",
              "      <td>Surprisingly flattering and so very soft and c...</td>\n",
              "      <td>5</td>\n",
              "    </tr>\n",
              "    <tr>\n",
              "      <th>9349</th>\n",
              "      <td>Gorgeous &amp; versatile</td>\n",
              "      <td>I love everything about this tunic dress. it's...</td>\n",
              "      <td>5</td>\n",
              "    </tr>\n",
              "    <tr>\n",
              "      <th>8511</th>\n",
              "      <td>Nice jacket</td>\n",
              "      <td>Very soft for vegan leather. very stylish. i t...</td>\n",
              "      <td>4</td>\n",
              "    </tr>\n",
              "  </tbody>\n",
              "</table>\n",
              "</div>"
            ],
            "text/plain": [
              "                                                   Title  ... Rating\n",
              "14290                                  So small, so sad.  ...      1\n",
              "17322                                   Cropped and boxy  ...      2\n",
              "1733                                   Upholstery fabric  ...      4\n",
              "8365                                     New go-to dress  ...      5\n",
              "855                                        Quality & cut  ...      1\n",
              "10283  It's like a work of art, but sadly, not flatte...  ...      2\n",
              "6397                                         Just lovely  ...      5\n",
              "11495                       Flattering, and comfortable!  ...      5\n",
              "9349                                Gorgeous & versatile  ...      5\n",
              "8511                                         Nice jacket  ...      4\n",
              "\n",
              "[10 rows x 3 columns]"
            ]
          },
          "metadata": {
            "tags": []
          },
          "execution_count": 50
        }
      ]
    },
    {
      "cell_type": "code",
      "metadata": {
        "colab": {
          "base_uri": "https://localhost:8080/"
        },
        "id": "vp6F2AO3WRmE",
        "outputId": "e0ee6e1e-9761-4dd6-cf79-8a0e0737a2e1"
      },
      "source": [
        "df[\"Rating\"].value_counts()"
      ],
      "execution_count": 51,
      "outputs": [
        {
          "output_type": "execute_result",
          "data": {
            "text/plain": [
              "5    10871\n",
              "4     4289\n",
              "3     2464\n",
              "2     1360\n",
              "1      691\n",
              "Name: Rating, dtype: int64"
            ]
          },
          "metadata": {
            "tags": []
          },
          "execution_count": 51
        }
      ]
    },
    {
      "cell_type": "code",
      "metadata": {
        "id": "HCDMpEYqWcXG",
        "colab": {
          "base_uri": "https://localhost:8080/",
          "height": 204
        },
        "outputId": "101dcca8-6b46-4091-ac82-1cf44921caeb"
      },
      "source": [
        "df[\"Sentiment\"] = pd.cut(df[\"Rating\"], bins=2, labels=[0, 1])\n",
        "df.head()"
      ],
      "execution_count": 52,
      "outputs": [
        {
          "output_type": "execute_result",
          "data": {
            "text/html": [
              "<div>\n",
              "<style scoped>\n",
              "    .dataframe tbody tr th:only-of-type {\n",
              "        vertical-align: middle;\n",
              "    }\n",
              "\n",
              "    .dataframe tbody tr th {\n",
              "        vertical-align: top;\n",
              "    }\n",
              "\n",
              "    .dataframe thead th {\n",
              "        text-align: right;\n",
              "    }\n",
              "</style>\n",
              "<table border=\"1\" class=\"dataframe\">\n",
              "  <thead>\n",
              "    <tr style=\"text-align: right;\">\n",
              "      <th></th>\n",
              "      <th>Title</th>\n",
              "      <th>Review Text</th>\n",
              "      <th>Rating</th>\n",
              "      <th>Sentiment</th>\n",
              "    </tr>\n",
              "  </thead>\n",
              "  <tbody>\n",
              "    <tr>\n",
              "      <th>0</th>\n",
              "      <td>Some major design flaws</td>\n",
              "      <td>I had such high hopes for this dress and reall...</td>\n",
              "      <td>3</td>\n",
              "      <td>0</td>\n",
              "    </tr>\n",
              "    <tr>\n",
              "      <th>1</th>\n",
              "      <td>My favorite buy!</td>\n",
              "      <td>I love, love, love this jumpsuit. it's fun, fl...</td>\n",
              "      <td>5</td>\n",
              "      <td>1</td>\n",
              "    </tr>\n",
              "    <tr>\n",
              "      <th>2</th>\n",
              "      <td>Flattering shirt</td>\n",
              "      <td>This shirt is very flattering to all due to th...</td>\n",
              "      <td>5</td>\n",
              "      <td>1</td>\n",
              "    </tr>\n",
              "    <tr>\n",
              "      <th>3</th>\n",
              "      <td>Not for the very petite</td>\n",
              "      <td>I love tracy reese dresses, but this one is no...</td>\n",
              "      <td>2</td>\n",
              "      <td>0</td>\n",
              "    </tr>\n",
              "    <tr>\n",
              "      <th>4</th>\n",
              "      <td>Cagrcoal shimmer fun</td>\n",
              "      <td>I aded this in my basket at hte last mintue to...</td>\n",
              "      <td>5</td>\n",
              "      <td>1</td>\n",
              "    </tr>\n",
              "  </tbody>\n",
              "</table>\n",
              "</div>"
            ],
            "text/plain": [
              "                     Title  ... Sentiment\n",
              "0  Some major design flaws  ...         0\n",
              "1         My favorite buy!  ...         1\n",
              "2         Flattering shirt  ...         1\n",
              "3  Not for the very petite  ...         0\n",
              "4     Cagrcoal shimmer fun  ...         1\n",
              "\n",
              "[5 rows x 4 columns]"
            ]
          },
          "metadata": {
            "tags": []
          },
          "execution_count": 52
        }
      ]
    },
    {
      "cell_type": "code",
      "metadata": {
        "id": "R8KXUYY5XsEZ"
      },
      "source": [
        "train_data, test_data = train_test_split(df[[\"Title\", \"Sentiment\"]], test_size=0.3, random_state=42)"
      ],
      "execution_count": 53,
      "outputs": []
    },
    {
      "cell_type": "markdown",
      "metadata": {
        "id": "WAzCJFHip0bA"
      },
      "source": [
        "### Generating the workflow\n"
      ]
    },
    {
      "cell_type": "code",
      "metadata": {
        "id": "w48OkM83YZK7"
      },
      "source": [
        "def preprocess_document(document):\n",
        "  return gensim.utils.tokenize(document, lowercase=True, deacc=True)\n",
        "  \n",
        "def word_averaging(wv, words):\n",
        "    all_words, mean = set(), []\n",
        "    \n",
        "    for word in words:\n",
        "        if isinstance(word, np.ndarray):\n",
        "            mean.append(word)\n",
        "        elif word in wv.vocab:\n",
        "            mean.append(wv.syn0norm[wv.vocab[word].index])\n",
        "            all_words.add(wv.vocab[word].index)\n",
        "\n",
        "    if not mean:\n",
        "        logging.warning(\"cannot compute similarity with no input %s\", words)\n",
        "        # FIXME: remove these examples in pre-processing\n",
        "        return np.zeros(wv.vector_size,)\n",
        "\n",
        "    mean = gensim.matutils.unitvec(np.array(mean).mean(axis=0)).astype(np.float32)\n",
        "    return mean\n",
        "\n",
        "def word_averaging_list(wv, text_list):\n",
        "    return np.vstack([word_averaging(wv, review) for review in text_list])\n",
        "\n",
        "def evaluate_prediction(predictions, target, title=\"Confusion matrix\"):\n",
        "    print('accuracy %s' % accuracy_score(target, predictions))\n",
        "    cm = confusion_matrix(target, predictions)\n",
        "    print('confusion matrix\\n %s' % cm)\n",
        "    print('(row=expected, col=predicted)')\n",
        "    \n",
        "    cm_normalized = cm.astype('float') / cm.sum(axis=1)[:, np.newaxis]\n",
        "    plot_confusion_matrix(cm_normalized, title + ' Normalized')\n",
        "\n",
        "def plot_confusion_matrix(cm, title='Confusion matrix', cmap=plt.cm.Blues):\n",
        "    plt.imshow(cm, interpolation='nearest', cmap=cmap)\n",
        "    plt.title(title)\n",
        "    plt.colorbar()\n",
        "    tick_marks = np.arange(2)\n",
        "    target_names = [\"Negative\", \"Positive\"]\n",
        "    plt.xticks(tick_marks, target_names, rotation=45)\n",
        "    plt.yticks(tick_marks, target_names)\n",
        "    plt.tight_layout()\n",
        "    plt.ylabel('True label')\n",
        "    plt.xlabel('Predicted label')\n",
        "\n",
        "def predict(vectorizer, classifier, data):\n",
        "    data_features = vectorizer.transform(data['plot'])\n",
        "    predictions = classifier.predict(data_features)\n",
        "    target = data[\"Sentiment\"]\n",
        "    evaluate_prediction(predictions, target)"
      ],
      "execution_count": 57,
      "outputs": []
    },
    {
      "cell_type": "code",
      "metadata": {
        "id": "u-gtPhQrY5fe"
      },
      "source": [
        "test_tokenized = test_data.apply(lambda x: list(preprocess_document(x['Title'])), axis=1).values\n",
        "train_tokenized = train_data.apply(lambda x: list(preprocess_document(x['Title'])), axis=1).values"
      ],
      "execution_count": 58,
      "outputs": []
    },
    {
      "cell_type": "markdown",
      "metadata": {
        "id": "l1-cZ_38qd0I"
      },
      "source": [
        "### Results"
      ]
    },
    {
      "cell_type": "markdown",
      "metadata": {
        "id": "7EDBwxTMqmGG"
      },
      "source": [
        "#### Custom Fashion Review Embedding"
      ]
    },
    {
      "cell_type": "code",
      "metadata": {
        "colab": {
          "base_uri": "https://localhost:8080/"
        },
        "id": "V3PzfSmoZrLU",
        "outputId": "d7b914bd-8756-410e-fbf5-49754cdd66d6"
      },
      "source": [
        "X_train_word_average_50d = word_averaging_list(model_50d.wv,train_tokenized)\n",
        "X_test_word_average_50d = word_averaging_list(model_50d.wv,test_tokenized)"
      ],
      "execution_count": 59,
      "outputs": [
        {
          "output_type": "stream",
          "text": [
            "/usr/local/lib/python3.6/dist-packages/ipykernel_launcher.py:11: DeprecationWarning: Call to deprecated `syn0norm` (Attribute will be removed in 4.0.0, use self.wv.vectors_norm instead).\n",
            "  # This is added back by InteractiveShellApp.init_path()\n",
            "WARNING:root:cannot compute similarity with no input ['ick']\n",
            "WARNING:root:cannot compute similarity with no input ['nippley']\n",
            "WARNING:root:cannot compute similarity with no input ['awsome']\n",
            "WARNING:root:cannot compute similarity with no input ['mehh']\n",
            "WARNING:root:cannot compute similarity with no input ['dissapointed']\n",
            "WARNING:root:cannot compute similarity with no input ['pilly']\n",
            "WARNING:root:cannot compute similarity with no input ['cleo', 'jumsuit']\n",
            "WARNING:root:cannot compute similarity with no input ['dissapointed']\n",
            "WARNING:root:cannot compute similarity with no input ['frompy']\n",
            "WARNING:root:cannot compute similarity with no input ['unimpressed']\n",
            "WARNING:root:cannot compute similarity with no input ['stunna']\n",
            "WARNING:root:cannot compute similarity with no input ['ehhh']\n",
            "WARNING:root:cannot compute similarity with no input ['dissapointed']\n",
            "WARNING:root:cannot compute similarity with no input ['cutesy']\n",
            "WARNING:root:cannot compute similarity with no input ['loungers']\n",
            "WARNING:root:cannot compute similarity with no input ['ehhhh']\n",
            "WARNING:root:cannot compute similarity with no input ['nancydee']\n",
            "WARNING:root:cannot compute similarity with no input ['yuck']\n",
            "WARNING:root:cannot compute similarity with no input ['epic']\n",
            "WARNING:root:cannot compute similarity with no input ['coincidence']\n",
            "WARNING:root:cannot compute similarity with no input ['dissappointed']\n",
            "WARNING:root:cannot compute similarity with no input ['catchy', 'towel']\n",
            "WARNING:root:cannot compute similarity with no input ['wowser']\n",
            "WARNING:root:cannot compute similarity with no input ['eghhh']\n",
            "WARNING:root:cannot compute similarity with no input ['eh']\n",
            "WARNING:root:cannot compute similarity with no input ['tropicale', 'paradise']\n",
            "WARNING:root:cannot compute similarity with no input ['ugg']\n",
            "WARNING:root:cannot compute similarity with no input ['whispering', 'wisteria']\n",
            "WARNING:root:cannot compute similarity with no input ['bee', 'utiful']\n",
            "WARNING:root:cannot compute similarity with no input ['mediocre']\n",
            "WARNING:root:cannot compute similarity with no input ['eek']\n",
            "WARNING:root:cannot compute similarity with no input []\n",
            "WARNING:root:cannot compute similarity with no input ['huesca']\n",
            "WARNING:root:cannot compute similarity with no input ['yuck']\n",
            "WARNING:root:cannot compute similarity with no input ['jeunet']\n",
            "WARNING:root:cannot compute similarity with no input ['bainbridge']\n",
            "WARNING:root:cannot compute similarity with no input ['unimpressed']\n",
            "WARNING:root:cannot compute similarity with no input ['preggers']\n",
            "WARNING:root:cannot compute similarity with no input ['cheeky']\n",
            "WARNING:root:cannot compute similarity with no input ['zowie']\n",
            "WARNING:root:cannot compute similarity with no input ['satisfactory']\n",
            "WARNING:root:cannot compute similarity with no input ['luscious', 'luster']\n",
            "WARNING:root:cannot compute similarity with no input ['cuteandcomfy']\n",
            "WARNING:root:cannot compute similarity with no input ['dazzling']\n",
            "WARNING:root:cannot compute similarity with no input ['wowza']\n",
            "WARNING:root:cannot compute similarity with no input ['yee', 'haw']\n",
            "WARNING:root:cannot compute similarity with no input ['ahahahaha']\n",
            "WARNING:root:cannot compute similarity with no input ['slayed']\n",
            "WARNING:root:cannot compute similarity with no input ['ichy']\n",
            "WARNING:root:cannot compute similarity with no input ['beautifullllll']\n",
            "WARNING:root:cannot compute similarity with no input ['yessssss']\n",
            "WARNING:root:cannot compute similarity with no input ['alicia']\n",
            "WARNING:root:cannot compute similarity with no input ['looove']\n",
            "WARNING:root:cannot compute similarity with no input ['channeling', 'laura', 'ingalls', 'wilder']\n",
            "WARNING:root:cannot compute similarity with no input ['reliable']\n",
            "WARNING:root:cannot compute similarity with no input ['perfecto']\n",
            "WARNING:root:cannot compute similarity with no input ['underwhelming']\n",
            "WARNING:root:cannot compute similarity with no input ['showstopper']\n",
            "WARNING:root:cannot compute similarity with no input ['shriks']\n",
            "WARNING:root:cannot compute similarity with no input ['besutiful']\n",
            "WARNING:root:cannot compute similarity with no input ['dissapointed']\n",
            "WARNING:root:cannot compute similarity with no input ['gor', 'geous']\n",
            "WARNING:root:cannot compute similarity with no input ['yasss']\n",
            "WARNING:root:cannot compute similarity with no input ['yuck']\n",
            "WARNING:root:cannot compute similarity with no input ['memories']\n",
            "WARNING:root:cannot compute similarity with no input ['cooommfey']\n",
            "WARNING:root:cannot compute similarity with no input ['levis', 'wedgie']\n",
            "WARNING:root:cannot compute similarity with no input ['bohoranna', 'rhapsody']\n",
            "WARNING:root:cannot compute similarity with no input ['entrancing']\n",
            "WARNING:root:cannot compute similarity with no input ['chinolicious']\n",
            "WARNING:root:cannot compute similarity with no input ['stunninng']\n",
            "WARNING:root:cannot compute similarity with no input ['eh']\n",
            "WARNING:root:cannot compute similarity with no input ['nah']\n",
            "WARNING:root:cannot compute similarity with no input []\n",
            "WARNING:root:cannot compute similarity with no input ['pillsville']\n",
            "WARNING:root:cannot compute similarity with no input ['adorbs']\n",
            "WARNING:root:cannot compute similarity with no input ['individuality']\n",
            "WARNING:root:cannot compute similarity with no input ['glorious']\n",
            "WARNING:root:cannot compute similarity with no input ['uhhhmmmazing']\n",
            "WARNING:root:cannot compute similarity with no input ['bumble', 'bees']\n",
            "WARNING:root:cannot compute similarity with no input ['itchytown']\n",
            "WARNING:root:cannot compute similarity with no input ['unimpressed']\n",
            "WARNING:root:cannot compute similarity with no input ['chirpy', 'sleepy']\n",
            "WARNING:root:cannot compute similarity with no input ['wowsa']\n",
            "WARNING:root:cannot compute similarity with no input ['april', 'fools']\n",
            "WARNING:root:cannot compute similarity with no input ['lampshade']\n",
            "WARNING:root:cannot compute similarity with no input ['versitle']\n",
            "WARNING:root:cannot compute similarity with no input ['awesomesauce']\n",
            "WARNING:root:cannot compute similarity with no input ['pefect']\n",
            "WARNING:root:cannot compute similarity with no input ['sublime']\n",
            "WARNING:root:cannot compute similarity with no input ['yuck']\n",
            "WARNING:root:cannot compute similarity with no input ['beauitful']\n",
            "WARNING:root:cannot compute similarity with no input ['geneva', 'anorak']\n",
            "WARNING:root:cannot compute similarity with no input ['ego', 'booster']\n",
            "WARNING:root:cannot compute similarity with no input ['adorbs']\n",
            "WARNING:root:cannot compute similarity with no input ['sparkles']\n",
            "WARNING:root:cannot compute similarity with no input ['cheesy']\n",
            "WARNING:root:cannot compute similarity with no input ['lovelovelove']\n",
            "WARNING:root:cannot compute similarity with no input ['bloomsbury']\n",
            "WARNING:root:cannot compute similarity with no input ['underwhelming']\n",
            "WARNING:root:cannot compute similarity with no input ['loveee']\n",
            "WARNING:root:cannot compute similarity with no input ['gross']\n",
            "WARNING:root:cannot compute similarity with no input ['pilly']\n",
            "WARNING:root:cannot compute similarity with no input ['lovelove']\n",
            "WARNING:root:cannot compute similarity with no input ['foxy']\n",
            "WARNING:root:cannot compute similarity with no input ['exotic']\n",
            "WARNING:root:cannot compute similarity with no input ['disapppointed']\n",
            "WARNING:root:cannot compute similarity with no input ['holy', 'smokes']\n",
            "WARNING:root:cannot compute similarity with no input ['eh']\n",
            "WARNING:root:cannot compute similarity with no input ['channeling', 'sophia', 'loren']\n",
            "WARNING:root:cannot compute similarity with no input ['failure']\n",
            "WARNING:root:cannot compute similarity with no input ['argh']\n",
            "WARNING:root:cannot compute similarity with no input ['snaggariffic']\n",
            "WARNING:root:cannot compute similarity with no input ['indecisive']\n",
            "WARNING:root:cannot compute similarity with no input ['magica']\n",
            "WARNING:root:cannot compute similarity with no input ['yee', 'haw']\n",
            "WARNING:root:cannot compute similarity with no input ['looooove']\n",
            "WARNING:root:cannot compute similarity with no input ['eh']\n",
            "WARNING:root:cannot compute similarity with no input ['underwhelming']\n",
            "WARNING:root:cannot compute similarity with no input ['mosaic', 'masterpiece']\n",
            "WARNING:root:cannot compute similarity with no input ['pancholicious']\n",
            "WARNING:root:cannot compute similarity with no input ['ewwww']\n",
            "WARNING:root:cannot compute similarity with no input ['irresistible']\n",
            "WARNING:root:cannot compute similarity with no input ['jungle', 'boogie']\n",
            "WARNING:root:cannot compute similarity with no input ['eh']\n",
            "WARNING:root:cannot compute similarity with no input ['disapppointing']\n",
            "WARNING:root:cannot compute similarity with no input ['happyinpdx']\n",
            "WARNING:root:cannot compute similarity with no input ['showstopper']\n",
            "WARNING:root:cannot compute similarity with no input ['mumsy']\n",
            "WARNING:root:cannot compute similarity with no input ['looooong']\n",
            "WARNING:root:cannot compute similarity with no input ['dissapointed']\n",
            "WARNING:root:cannot compute similarity with no input ['ahhhhmazing']\n",
            "WARNING:root:cannot compute similarity with no input ['underestimated']\n",
            "WARNING:root:cannot compute similarity with no input ['yummysweater']\n",
            "WARNING:root:cannot compute similarity with no input ['bravo']\n",
            "WARNING:root:cannot compute similarity with no input ['huuuuge']\n",
            "WARNING:root:cannot compute similarity with no input ['loooovvvvveee']\n",
            "WARNING:root:cannot compute similarity with no input ['glorious']\n",
            "WARNING:root:cannot compute similarity with no input ['humongous']\n",
            "WARNING:root:cannot compute similarity with no input ['tickled', 'tickled', 'tickled']\n",
            "WARNING:root:cannot compute similarity with no input ['gooooorgeous']\n",
            "WARNING:root:cannot compute similarity with no input ['showstopper']\n",
            "WARNING:root:cannot compute similarity with no input ['springtime']\n",
            "WARNING:root:cannot compute similarity with no input ['houndstooth']\n",
            "WARNING:root:cannot compute similarity with no input ['boom']\n",
            "WARNING:root:cannot compute similarity with no input ['joliette']\n",
            "WARNING:root:cannot compute similarity with no input ['adorbs']\n",
            "WARNING:root:cannot compute similarity with no input ['dissapointed']\n",
            "WARNING:root:cannot compute similarity with no input ['yuck']\n"
          ],
          "name": "stderr"
        }
      ]
    },
    {
      "cell_type": "code",
      "metadata": {
        "colab": {
          "base_uri": "https://localhost:8080/",
          "height": 396
        },
        "id": "nHIPrLPXZ-b9",
        "outputId": "519788a2-357a-41c3-e8d8-48cb7d40dd7a"
      },
      "source": [
        "knn_naive = KNeighborsClassifier(n_neighbors=8, n_jobs=1, algorithm='brute', metric='cosine' )\n",
        "knn_naive.fit(X_train_word_average_50d, train_data[\"Sentiment\"])\n",
        "predicted = knn_naive.predict(X_test_word_average_50d)\n",
        "evaluate_prediction(predicted, test_data[\"Sentiment\"])"
      ],
      "execution_count": 60,
      "outputs": [
        {
          "output_type": "stream",
          "text": [
            "accuracy 0.8726071489073353\n",
            "confusion matrix\n",
            " [[ 972  391]\n",
            " [ 361 4179]]\n",
            "(row=expected, col=predicted)\n"
          ],
          "name": "stdout"
        },
        {
          "output_type": "display_data",
          "data": {
            "image/png": "[encoded data removed]",
            "text/plain": [
              "<Figure size 432x288 with 2 Axes>"
            ]
          },
          "metadata": {
            "tags": [],
            "needs_background": "light"
          }
        }
      ]
    },
    {
      "cell_type": "code",
      "metadata": {
        "colab": {
          "base_uri": "https://localhost:8080/",
          "height": 396
        },
        "id": "8qpsnLIjc_bR",
        "outputId": "5433a7d2-e60e-489c-bb88-692a25c9b9aa"
      },
      "source": [
        "logreg = linear_model.LogisticRegression(n_jobs=1, C=1e5)\n",
        "logreg = logreg.fit(X_train_word_average_50d, train_data['Sentiment'])\n",
        "predicted = logreg.predict(X_test_word_average_50d)\n",
        "evaluate_prediction(predicted, test_data[\"Sentiment\"])"
      ],
      "execution_count": 61,
      "outputs": [
        {
          "output_type": "stream",
          "text": [
            "accuracy 0.8614263933593088\n",
            "confusion matrix\n",
            " [[ 844  519]\n",
            " [ 299 4241]]\n",
            "(row=expected, col=predicted)\n"
          ],
          "name": "stdout"
        },
        {
          "output_type": "display_data",
          "data": {
            "image/png": "[encoded data removed]",
            "text/plain": [
              "<Figure size 432x288 with 2 Axes>"
            ]
          },
          "metadata": {
            "tags": [],
            "needs_background": "light"
          }
        }
      ]
    },
    {
      "cell_type": "markdown",
      "metadata": {
        "id": "mn8hOVY0qtKo"
      },
      "source": [
        "#### Pretrained Wikipedia Embedding"
      ]
    },
    {
      "cell_type": "code",
      "metadata": {
        "colab": {
          "base_uri": "https://localhost:8080/"
        },
        "id": "bhNI0jj0fVHg",
        "outputId": "32c453e3-bdd0-4832-a436-de0335d34919"
      },
      "source": [
        "X_train_word_average_wiki = word_averaging_list(wiki_vectors, train_tokenized)\n",
        "X_test_word_average_wiki = word_averaging_list(wiki_vectors, test_tokenized)"
      ],
      "execution_count": 62,
      "outputs": [
        {
          "output_type": "stream",
          "text": [
            "/usr/local/lib/python3.6/dist-packages/ipykernel_launcher.py:11: DeprecationWarning: Call to deprecated `syn0norm` (Attribute will be removed in 4.0.0, use self.wv.vectors_norm instead).\n",
            "  # This is added back by InteractiveShellApp.init_path()\n",
            "WARNING:root:cannot compute similarity with no input ['flowly']\n",
            "WARNING:root:cannot compute similarity with no input ['nippley']\n",
            "WARNING:root:cannot compute similarity with no input ['awsome']\n",
            "WARNING:root:cannot compute similarity with no input ['mehh']\n",
            "WARNING:root:cannot compute similarity with no input ['pilly']\n",
            "WARNING:root:cannot compute similarity with no input ['frompy']\n",
            "WARNING:root:cannot compute similarity with no input ['stunna']\n",
            "WARNING:root:cannot compute similarity with no input ['ehhh']\n",
            "WARNING:root:cannot compute similarity with no input ['ehhhh']\n",
            "WARNING:root:cannot compute similarity with no input ['nancydee']\n",
            "WARNING:root:cannot compute similarity with no input ['dissappointed']\n",
            "WARNING:root:cannot compute similarity with no input ['wowser']\n",
            "WARNING:root:cannot compute similarity with no input ['eghhh']\n",
            "WARNING:root:cannot compute similarity with no input []\n",
            "WARNING:root:cannot compute similarity with no input ['preggers']\n",
            "WARNING:root:cannot compute similarity with no input ['cuteandcomfy']\n",
            "WARNING:root:cannot compute similarity with no input ['wowza']\n",
            "WARNING:root:cannot compute similarity with no input ['ahahahaha']\n",
            "WARNING:root:cannot compute similarity with no input ['ichy']\n",
            "WARNING:root:cannot compute similarity with no input ['beautifullllll']\n",
            "WARNING:root:cannot compute similarity with no input ['yessssss']\n",
            "WARNING:root:cannot compute similarity with no input ['looove']\n",
            "WARNING:root:cannot compute similarity with no input ['shriks']\n",
            "WARNING:root:cannot compute similarity with no input ['besutiful']\n",
            "WARNING:root:cannot compute similarity with no input ['yasss']\n",
            "WARNING:root:cannot compute similarity with no input ['cooommfey']\n",
            "WARNING:root:cannot compute similarity with no input ['chinolicious']\n",
            "WARNING:root:cannot compute similarity with no input ['stunninng']\n",
            "WARNING:root:cannot compute similarity with no input []\n",
            "WARNING:root:cannot compute similarity with no input ['pillsville']\n",
            "WARNING:root:cannot compute similarity with no input ['adorbs']\n",
            "WARNING:root:cannot compute similarity with no input ['uhhhmmmazing']\n",
            "WARNING:root:cannot compute similarity with no input ['itchytown']\n",
            "WARNING:root:cannot compute similarity with no input ['wowsa']\n",
            "WARNING:root:cannot compute similarity with no input ['versitle']\n",
            "WARNING:root:cannot compute similarity with no input ['awesomesauce']\n",
            "WARNING:root:cannot compute similarity with no input ['pefect']\n",
            "WARNING:root:cannot compute similarity with no input ['beauitful']\n",
            "WARNING:root:cannot compute similarity with no input ['adorbs']\n",
            "WARNING:root:cannot compute similarity with no input ['lovelovelove']\n",
            "WARNING:root:cannot compute similarity with no input ['loveee']\n",
            "WARNING:root:cannot compute similarity with no input ['versitile']\n",
            "WARNING:root:cannot compute similarity with no input ['pilly']\n",
            "WARNING:root:cannot compute similarity with no input ['lovelove']\n",
            "WARNING:root:cannot compute similarity with no input ['versitile']\n",
            "WARNING:root:cannot compute similarity with no input ['disapppointed']\n",
            "WARNING:root:cannot compute similarity with no input ['snaggariffic']\n",
            "WARNING:root:cannot compute similarity with no input ['buttondown']\n",
            "WARNING:root:cannot compute similarity with no input ['looooove']\n",
            "WARNING:root:cannot compute similarity with no input ['pancholicious']\n",
            "WARNING:root:cannot compute similarity with no input ['ewwww']\n",
            "WARNING:root:cannot compute similarity with no input ['disapppointing']\n",
            "WARNING:root:cannot compute similarity with no input ['happyinpdx']\n",
            "WARNING:root:cannot compute similarity with no input ['mumsy']\n",
            "WARNING:root:cannot compute similarity with no input ['looooong']\n",
            "WARNING:root:cannot compute similarity with no input ['ahhhhmazing']\n",
            "WARNING:root:cannot compute similarity with no input ['yummysweater']\n",
            "WARNING:root:cannot compute similarity with no input ['huuuuge']\n",
            "WARNING:root:cannot compute similarity with no input ['loooovvvvveee']\n",
            "WARNING:root:cannot compute similarity with no input ['gooooorgeous']\n",
            "WARNING:root:cannot compute similarity with no input ['adorbs']\n"
          ],
          "name": "stderr"
        }
      ]
    },
    {
      "cell_type": "code",
      "metadata": {
        "colab": {
          "base_uri": "https://localhost:8080/",
          "height": 396
        },
        "id": "dAdT-FtMeGiT",
        "outputId": "4f641229-e719-4cb6-84f4-c99017f615c0"
      },
      "source": [
        "knn_naive = KNeighborsClassifier(n_neighbors=8, n_jobs=1, algorithm='brute', metric='cosine')\n",
        "knn_naive.fit(X_train_word_average_wiki, train_data[\"Sentiment\"])\n",
        "predicted = knn_naive.predict(X_test_word_average_wiki)\n",
        "evaluate_prediction(predicted, test_data[\"Sentiment\"])"
      ],
      "execution_count": 63,
      "outputs": [
        {
          "output_type": "stream",
          "text": [
            "accuracy 0.8422835846179908\n",
            "confusion matrix\n",
            " [[ 865  498]\n",
            " [ 433 4107]]\n",
            "(row=expected, col=predicted)\n"
          ],
          "name": "stdout"
        },
        {
          "output_type": "display_data",
          "data": {
            "image/png": "[encoded data removed]",
            "text/plain": [
              "<Figure size 432x288 with 2 Axes>"
            ]
          },
          "metadata": {
            "tags": [],
            "needs_background": "light"
          }
        }
      ]
    },
    {
      "cell_type": "markdown",
      "metadata": {
        "id": "K8rSWHXWqyZk"
      },
      "source": [
        "#### Pretrained Twitter Embedding"
      ]
    },
    {
      "cell_type": "code",
      "metadata": {
        "colab": {
          "base_uri": "https://localhost:8080/"
        },
        "id": "CyKAXrgpf11h",
        "outputId": "94fa5338-72b0-41e0-c408-5719e24e88e5"
      },
      "source": [
        "X_train_word_average_twitter = word_averaging_list(twitter_vectors, train_tokenized)\n",
        "X_test_word_average_twitter = word_averaging_list(twitter_vectors, test_tokenized)"
      ],
      "execution_count": 64,
      "outputs": [
        {
          "output_type": "stream",
          "text": [
            "/usr/local/lib/python3.6/dist-packages/ipykernel_launcher.py:11: DeprecationWarning: Call to deprecated `syn0norm` (Attribute will be removed in 4.0.0, use self.wv.vectors_norm instead).\n",
            "  # This is added back by InteractiveShellApp.init_path()\n",
            "WARNING:root:cannot compute similarity with no input ['unwearable']\n",
            "WARNING:root:cannot compute similarity with no input ['flowly']\n",
            "WARNING:root:cannot compute similarity with no input ['flouncy']\n",
            "WARNING:root:cannot compute similarity with no input ['frompy']\n",
            "WARNING:root:cannot compute similarity with no input ['shirtdress']\n",
            "WARNING:root:cannot compute similarity with no input ['ehhhh']\n",
            "WARNING:root:cannot compute similarity with no input ['nancydee']\n",
            "WARNING:root:cannot compute similarity with no input ['poufy', 'ruching']\n",
            "WARNING:root:cannot compute similarity with no input ['eghhh']\n",
            "WARNING:root:cannot compute similarity with no input []\n",
            "WARNING:root:cannot compute similarity with no input ['jeunet']\n",
            "WARNING:root:cannot compute similarity with no input ['cuteandcomfy']\n",
            "WARNING:root:cannot compute similarity with no input ['beautifullllll']\n",
            "WARNING:root:cannot compute similarity with no input ['yessssss']\n",
            "WARNING:root:cannot compute similarity with no input ['shriks']\n",
            "WARNING:root:cannot compute similarity with no input ['muumuu']\n",
            "WARNING:root:cannot compute similarity with no input ['yasss']\n",
            "WARNING:root:cannot compute similarity with no input ['cooommfey']\n",
            "WARNING:root:cannot compute similarity with no input ['chinolicious']\n",
            "WARNING:root:cannot compute similarity with no input ['stunninng']\n",
            "WARNING:root:cannot compute similarity with no input []\n",
            "WARNING:root:cannot compute similarity with no input ['pillsville']\n",
            "WARNING:root:cannot compute similarity with no input ['uhhhmmmazing']\n",
            "WARNING:root:cannot compute similarity with no input ['itchytown']\n",
            "WARNING:root:cannot compute similarity with no input ['versitle']\n",
            "WARNING:root:cannot compute similarity with no input ['loveee']\n",
            "WARNING:root:cannot compute similarity with no input ['versitile']\n",
            "WARNING:root:cannot compute similarity with no input ['versitile']\n",
            "WARNING:root:cannot compute similarity with no input ['disapppointed']\n",
            "WARNING:root:cannot compute similarity with no input ['snaggariffic']\n",
            "WARNING:root:cannot compute similarity with no input ['muumuu']\n",
            "WARNING:root:cannot compute similarity with no input ['buttondown']\n",
            "WARNING:root:cannot compute similarity with no input ['pancholicious']\n",
            "WARNING:root:cannot compute similarity with no input ['ewwww']\n",
            "WARNING:root:cannot compute similarity with no input ['disapppointing']\n",
            "WARNING:root:cannot compute similarity with no input ['happyinpdx']\n",
            "WARNING:root:cannot compute similarity with no input ['drapey']\n",
            "WARNING:root:cannot compute similarity with no input ['yummysweater']\n",
            "WARNING:root:cannot compute similarity with no input ['loooovvvvveee']\n",
            "WARNING:root:cannot compute similarity with no input ['gooooorgeous']\n",
            "WARNING:root:cannot compute similarity with no input ['muumuu']\n"
          ],
          "name": "stderr"
        }
      ]
    },
    {
      "cell_type": "code",
      "metadata": {
        "colab": {
          "base_uri": "https://localhost:8080/",
          "height": 396
        },
        "id": "HXNpgQ1neSbY",
        "outputId": "041677a4-b414-4846-b04a-5fc0a5f38424"
      },
      "source": [
        "knn_naive = KNeighborsClassifier(n_neighbors=8, n_jobs=1, algorithm='brute', metric='cosine')\n",
        "knn_naive.fit(X_train_word_average_twitter, train_data[\"Sentiment\"])\n",
        "predicted = knn_naive.predict(X_test_word_average_twitter)\n",
        "evaluate_prediction(predicted, test_data[\"Sentiment\"])"
      ],
      "execution_count": 65,
      "outputs": [
        {
          "output_type": "stream",
          "text": [
            "accuracy 0.8414365576825343\n",
            "confusion matrix\n",
            " [[ 911  452]\n",
            " [ 484 4056]]\n",
            "(row=expected, col=predicted)\n"
          ],
          "name": "stdout"
        },
        {
          "output_type": "display_data",
          "data": {
            "image/png": "[encoded data removed]",
            "text/plain": [
              "<Figure size 432x288 with 2 Axes>"
            ]
          },
          "metadata": {
            "tags": [],
            "needs_background": "light"
          }
        }
      ]
    }
  ]
}